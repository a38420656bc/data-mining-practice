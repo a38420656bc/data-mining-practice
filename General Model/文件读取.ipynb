{
 "cells": [
  {
   "cell_type": "code",
   "execution_count": null,
   "metadata": {},
   "outputs": [],
   "source": [
    "\n",
    "import pandas as pd\n",
    "import numpy as np\n",
    "import scipy as sp\n",
    "\n",
    "# 文件读取\n",
    "def read_csv_file(f, logging=False):\n",
    "    print(\"==========读取数据=========\")\n",
    "    data =  pd.read_csv(f) #如果不想全部读取则添加 nrows = int\n",
    "    if logging:\n",
    "        print(data.head(5))\n",
    "        print(f, \"包含以下列\")\n",
    "        print(data.columns.values)\n",
    "        print(data.describe())\n",
    "        print(data.info())\n",
    "    return data\n",
    "\n",
    "train = read_csv_file('路径/name')\n"
   ]
  }
 ],
 "metadata": {
  "kernelspec": {
   "display_name": "Python 3",
   "language": "python",
   "name": "python3"
  },
  "language_info": {
   "codemirror_mode": {
    "name": "ipython",
    "version": 3
   },
   "file_extension": ".py",
   "mimetype": "text/x-python",
   "name": "python",
   "nbconvert_exporter": "python",
   "pygments_lexer": "ipython3",
   "version": "3.5.6"
  }
 },
 "nbformat": 4,
 "nbformat_minor": 2
}
