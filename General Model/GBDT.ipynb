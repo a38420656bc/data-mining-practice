{
 "cells": [
  {
   "cell_type": "code",
   "execution_count": null,
   "metadata": {},
   "outputs": [],
   "source": [
    "调参参考博文：https://blog.csdn.net/qq_27018963/article/details/86681582#5"
   ]
  },
  {
   "cell_type": "code",
   "execution_count": null,
   "metadata": {},
   "outputs": [],
   "source": [
    "import numpy as np\n",
    "from sklearn.ensemble import GradientBoostingRegressor\n",
    "gbdt=GradientBoostingRegressor(\n",
    "  loss='ls'\n",
    ", learning_rate=0.1\n",
    ", n_estimators=100\n",
    ", subsample=1\n",
    ", min_samples_split=2\n",
    ", min_samples_leaf=1\n",
    ", max_depth=3\n",
    ", init=None\n",
    ", random_state=None\n",
    ", max_features=None\n",
    ", alpha=0.9\n",
    ", verbose=0\n",
    ", max_leaf_nodes=None\n",
    ", warm_start=False\n",
    ")\n",
    "train_feat=np.genfromtxt(\"train_feat.txt\",dtype=np.float32)\n",
    "train_id=np.genfromtxt(\"train_id.txt\",dtype=np.float32)\n",
    "test_feat=np.genfromtxt(\"test_feat.txt\",dtype=np.float32)\n",
    "test_id=np.genfromtxt(\"test_id.txt\",dtype=np.float32)\n",
    "print train_feat.shape，rain_id.shape，est_feat.shape，est_id.shape\n",
    "gbdt.fit(train_feat,train_id)\n",
    "pred=gbdt.predict(test_feat)\n",
    "total_err=0\n",
    "for i in range(pred.shape[0]):\n",
    "    print pred[i],test_id[i]\n",
    "    err=(pred[i]-test_id[i])/test_id[i]\n",
    "    total_err+=err*err\n",
    "print total_err/pred.shape[0]"
   ]
  }
 ],
 "metadata": {
  "kernelspec": {
   "display_name": "Python 3",
   "language": "python",
   "name": "python3"
  },
  "language_info": {
   "codemirror_mode": {
    "name": "ipython",
    "version": 3
   },
   "file_extension": ".py",
   "mimetype": "text/x-python",
   "name": "python",
   "nbconvert_exporter": "python",
   "pygments_lexer": "ipython3",
   "version": "3.5.6"
  }
 },
 "nbformat": 4,
 "nbformat_minor": 2
}
