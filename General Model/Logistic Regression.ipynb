{
 "cells": [
  {
   "cell_type": "code",
   "execution_count": null,
   "metadata": {},
   "outputs": [],
   "source": [
    "# 通用的LogisticRegression框架\n",
    "\n",
    "import pandas as pd\n",
    "import numpy as np\n",
    "from scipy import sparse\n",
    "from sklearn.preprocessing import OneHotEncoder\n",
    "from sklearn.linear_model import LogisticRegression\n",
    "from sklearn.preprocessing import StandardScaler\n",
    "\n",
    "# 1. load data\n",
    "df_train = pd.DataFrame()\n",
    "df_test  = pd.DataFrame()\n",
    "y_train = df_train['label'].values\n",
    "\n",
    "# 2. process data\n",
    "ss = StandardScaler()\n",
    "\n",
    "\n",
    "# 3. feature engineering/encoding\n",
    "# 3.1 For Labeled Feature\n",
    "enc = OneHotEncoder()\n",
    "feats = [\"creativeID\", \"adID\", \"campaignID\"]\n",
    "for i, feat in enumerate(feats):\n",
    "    x_train = enc.fit_transform(df_train[feat].values.reshape(-1, 1))\n",
    "    #新数组元素数量与原数组元素数量要相等。一个参数为-1时，那么reshape函数会根据另一个参数的维度计算出数组的另外一个shape属性值\n",
    "    x_test = enc.fit_transform(df_test[feat].values.reshape(-1, 1))\n",
    "    if i == 0:\n",
    "        X_train, X_test = x_train, x_test\n",
    "    else:\n",
    "        X_train, X_test = sparse.hstack((X_train, x_train)), sparse.hstack((X_test, x_test)) #onehot 稀疏矩阵密集化\n",
    "\n",
    "# 3.2 For Numerical Feature\n",
    "# It must be a 2-D Data for StandardScalar, otherwise reshape(-1, len(feats)) is required\n",
    "feats = [\"price\", \"age\"]\n",
    "x_train = ss.fit_transform(df_train[feats].values)\n",
    "x_test  = ss.fit_transform(df_test[feats].values)\n",
    "X_train, X_test = sparse.hstack((X_train, x_train)), sparse.hstack((X_test, x_test))\n",
    "\n",
    "# model training\n",
    "lr = LogisticRegression()\n",
    "lr.fit(X_train, y_train)\n",
    "proba_test = lr.predict_proba(X_test)[:, 1]\n",
    "\n",
    "\n"
   ]
  }
 ],
 "metadata": {
  "kernelspec": {
   "display_name": "Python 3",
   "language": "python",
   "name": "python3"
  },
  "language_info": {
   "codemirror_mode": {
    "name": "ipython",
    "version": 3
   },
   "file_extension": ".py",
   "mimetype": "text/x-python",
   "name": "python",
   "nbconvert_exporter": "python",
   "pygments_lexer": "ipython3",
   "version": "3.5.6"
  }
 },
 "nbformat": 4,
 "nbformat_minor": 2
}
