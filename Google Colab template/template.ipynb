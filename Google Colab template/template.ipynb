{
  "nbformat": 4,
  "nbformat_minor": 0,
  "metadata": {
    "colab": {
      "name": "template.ipynb",
      "version": "0.3.2",
      "provenance": [],
      "collapsed_sections": []
    },
    "kernelspec": {
      "name": "python3",
      "display_name": "Python 3"
    }
  },
  "cells": [
    {
      "cell_type": "markdown",
      "metadata": {
        "id": "hJ2ZgI3-bhYP",
        "colab_type": "text"
      },
      "source": [
        "#链接谷歌云盘和Colab\n",
        "需两次输入验证字符串，每次输入完按回车"
      ]
    },
    {
      "cell_type": "code",
      "metadata": {
        "id": "vM4pn9keawDs",
        "colab_type": "code",
        "colab": {
          "base_uri": "https://localhost:8080/",
          "height": 232
        },
        "outputId": "837b1031-158e-442a-a5a4-c5ffdbe7c1ed"
      },
      "source": [
        "!apt-get install -y -qq software-properties-common python-software-properties module-init-tools\n",
        "!add-apt-repository -y ppa:alessandro-strada/ppa 2>&1 > /dev/null\n",
        "!apt-get update -qq 2>&1 > /dev/null\n",
        "!apt-get -y install -qq google-drive-ocamlfuse fuse\n",
        "from google.colab import auth\n",
        "auth.authenticate_user()\n",
        "from oauth2client.client import GoogleCredentials\n",
        "creds = GoogleCredentials.get_application_default()\n",
        "import getpass\n",
        "!google-drive-ocamlfuse -headless -id={creds.client_id} -secret={creds.client_secret} < /dev/null 2>&1 | grep URL\n",
        "vcode = getpass.getpass()\n",
        "!echo {vcode} | google-drive-ocamlfuse -headless -id={creds.client_id} -secret={creds.client_secret}"
      ],
      "execution_count": 1,
      "outputs": [
        {
          "output_type": "stream",
          "text": [
            "E: Package 'python-software-properties' has no installation candidate\n",
            "Selecting previously unselected package google-drive-ocamlfuse.\n",
            "(Reading database ... 131289 files and directories currently installed.)\n",
            "Preparing to unpack .../google-drive-ocamlfuse_0.7.6-0ubuntu1~ubuntu18.04.1_amd64.deb ...\n",
            "Unpacking google-drive-ocamlfuse (0.7.6-0ubuntu1~ubuntu18.04.1) ...\n",
            "Setting up google-drive-ocamlfuse (0.7.6-0ubuntu1~ubuntu18.04.1) ...\n",
            "Processing triggers for man-db (2.8.3-2ubuntu0.1) ...\n",
            "Please, open the following URL in a web browser: https://accounts.google.com/o/oauth2/auth?client_id=32555940559.apps.googleusercontent.com&redirect_uri=urn%3Aietf%3Awg%3Aoauth%3A2.0%3Aoob&scope=https%3A%2F%2Fwww.googleapis.com%2Fauth%2Fdrive&response_type=code&access_type=offline&approval_prompt=force\n",
            "··········\n",
            "Please, open the following URL in a web browser: https://accounts.google.com/o/oauth2/auth?client_id=32555940559.apps.googleusercontent.com&redirect_uri=urn%3Aietf%3Awg%3Aoauth%3A2.0%3Aoob&scope=https%3A%2F%2Fwww.googleapis.com%2Fauth%2Fdrive&response_type=code&access_type=offline&approval_prompt=force\n",
            "Please enter the verification code: Access token retrieved correctly.\n"
          ],
          "name": "stdout"
        }
      ]
    },
    {
      "cell_type": "markdown",
      "metadata": {
        "id": "QqYXLI1ybuSX",
        "colab_type": "text"
      },
      "source": [
        "#链接colab到谷歌云盘\n",
        "#选择自己要进入的路径"
      ]
    },
    {
      "cell_type": "code",
      "metadata": {
        "id": "x5BpHE0tbOM-",
        "colab_type": "code",
        "colab": {
          "base_uri": "https://localhost:8080/",
          "height": 195
        },
        "outputId": "c6f6949c-b41b-4d3d-f149-e7c2e9570dd8"
      },
      "source": [
        "!mkdir -p drive\n",
        "!google-drive-ocamlfuse -o nonempty drive\n",
        "import os\n",
        "os.chdir(\"drive\")\n",
        "!ls"
      ],
      "execution_count": 2,
      "outputs": [
        {
          "output_type": "stream",
          "text": [
            "aclImdb_v1.tar.gz     residual_plot.png      Titanic\n",
            "data_description.txt  Sales\t\t     torchtest.ipynb\n",
            "drive\t\t      sample_submission.csv  train.csv\n",
            "GuodongDrive\t      Sense1.ipynb\t     Untitled0.ipynb\n",
            "House\t\t      Sense2.ipynb（副本）   XGboost_practice1.ipynb\n",
            "Houseprice.ipynb      Sense.ipynb\t     XGboost_practice2.ipynb\n",
            "huawei\t\t      sensePY.ipynb\t     剑指offer\n",
            "labeledTrainData.tsv  submission.csv\t     数组和链表.desktop\n",
            "neg\t\t      test.csv\t\t     糖尿病数据.txt\n",
            "practice\t      testData.tsv\n"
          ],
          "name": "stdout"
        }
      ]
    }
  ]
}