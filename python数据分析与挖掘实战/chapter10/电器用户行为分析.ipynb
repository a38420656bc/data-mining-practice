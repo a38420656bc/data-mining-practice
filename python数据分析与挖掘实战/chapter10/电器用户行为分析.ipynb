{
  "nbformat": 4,
  "nbformat_minor": 0,
  "metadata": {
    "colab": {
      "name": "template.ipynb",
      "version": "0.3.2",
      "provenance": [],
      "collapsed_sections": []
    },
    "kernelspec": {
      "name": "python3",
      "display_name": "Python 3"
    }
  },
  "cells": [
    {
      "cell_type": "markdown",
      "metadata": {
        "id": "hJ2ZgI3-bhYP",
        "colab_type": "text"
      },
      "source": [
        "#链接谷歌云盘和Colab\n",
        "需两次输入验证字符串，每次输入完按回车"
      ]
    },
    {
      "cell_type": "code",
      "metadata": {
        "id": "vM4pn9keawDs",
        "colab_type": "code",
        "outputId": "837b1031-158e-442a-a5a4-c5ffdbe7c1ed",
        "colab": {
          "base_uri": "https://localhost:8080/",
          "height": 232
        }
      },
      "source": [
        "!apt-get install -y -qq software-properties-common python-software-properties module-init-tools\n",
        "!add-apt-repository -y ppa:alessandro-strada/ppa 2>&1 > /dev/null\n",
        "!apt-get update -qq 2>&1 > /dev/null\n",
        "!apt-get -y install -qq google-drive-ocamlfuse fuse\n",
        "from google.colab import auth\n",
        "auth.authenticate_user()\n",
        "from oauth2client.client import GoogleCredentials\n",
        "creds = GoogleCredentials.get_application_default()\n",
        "import getpass\n",
        "!google-drive-ocamlfuse -headless -id={creds.client_id} -secret={creds.client_secret} < /dev/null 2>&1 | grep URL\n",
        "vcode = getpass.getpass()\n",
        "!echo {vcode} | google-drive-ocamlfuse -headless -id={creds.client_id} -secret={creds.client_secret}"
      ],
      "execution_count": 0,
      "outputs": [
        {
          "output_type": "stream",
          "text": [
            "E: Package 'python-software-properties' has no installation candidate\n",
            "Selecting previously unselected package google-drive-ocamlfuse.\n",
            "(Reading database ... 131289 files and directories currently installed.)\n",
            "Preparing to unpack .../google-drive-ocamlfuse_0.7.6-0ubuntu1~ubuntu18.04.1_amd64.deb ...\n",
            "Unpacking google-drive-ocamlfuse (0.7.6-0ubuntu1~ubuntu18.04.1) ...\n",
            "Setting up google-drive-ocamlfuse (0.7.6-0ubuntu1~ubuntu18.04.1) ...\n",
            "Processing triggers for man-db (2.8.3-2ubuntu0.1) ...\n",
            "Please, open the following URL in a web browser: https://accounts.google.com/o/oauth2/auth?client_id=32555940559.apps.googleusercontent.com&redirect_uri=urn%3Aietf%3Awg%3Aoauth%3A2.0%3Aoob&scope=https%3A%2F%2Fwww.googleapis.com%2Fauth%2Fdrive&response_type=code&access_type=offline&approval_prompt=force\n",
            "··········\n",
            "Please, open the following URL in a web browser: https://accounts.google.com/o/oauth2/auth?client_id=32555940559.apps.googleusercontent.com&redirect_uri=urn%3Aietf%3Awg%3Aoauth%3A2.0%3Aoob&scope=https%3A%2F%2Fwww.googleapis.com%2Fauth%2Fdrive&response_type=code&access_type=offline&approval_prompt=force\n",
            "Please enter the verification code: Access token retrieved correctly.\n"
          ],
          "name": "stdout"
        }
      ]
    },
    {
      "cell_type": "markdown",
      "metadata": {
        "id": "QqYXLI1ybuSX",
        "colab_type": "text"
      },
      "source": [
        "#链接colab到谷歌云盘\n",
        "#选择自己要进入的路径"
      ]
    },
    {
      "cell_type": "code",
      "metadata": {
        "id": "x5BpHE0tbOM-",
        "colab_type": "code",
        "outputId": "c6f6949c-b41b-4d3d-f149-e7c2e9570dd8",
        "colab": {
          "base_uri": "https://localhost:8080/",
          "height": 195
        }
      },
      "source": [
        "!mkdir -p drive\n",
        "!google-drive-ocamlfuse -o nonempty drive\n",
        "import os\n",
        "os.chdir(\"drive\")\n",
        "!ls"
      ],
      "execution_count": 0,
      "outputs": [
        {
          "output_type": "stream",
          "text": [
            "aclImdb_v1.tar.gz     residual_plot.png      Titanic\n",
            "data_description.txt  Sales\t\t     torchtest.ipynb\n",
            "drive\t\t      sample_submission.csv  train.csv\n",
            "GuodongDrive\t      Sense1.ipynb\t     Untitled0.ipynb\n",
            "House\t\t      Sense2.ipynb（副本）   XGboost_practice1.ipynb\n",
            "Houseprice.ipynb      Sense.ipynb\t     XGboost_practice2.ipynb\n",
            "huawei\t\t      sensePY.ipynb\t     剑指offer\n",
            "labeledTrainData.tsv  submission.csv\t     数组和链表.desktop\n",
            "neg\t\t      test.csv\t\t     糖尿病数据.txt\n",
            "practice\t      testData.tsv\n"
          ],
          "name": "stdout"
        }
      ]
    },
    {
      "cell_type": "code",
      "metadata": {
        "id": "b2Zp7kXMhvt8",
        "colab_type": "code",
        "colab": {
          "base_uri": "https://localhost:8080/",
          "height": 52
        },
        "outputId": "9044d5e5-85c1-429b-9616-fef8392b028c"
      },
      "source": [
        "os.chdir(\"practice/ch10\")\n",
        "!ls"
      ],
      "execution_count": 3,
      "outputs": [
        {
          "output_type": "stream",
          "text": [
            "original_data.xls  test_neural_network_data.xls   water_heater.xls\n",
            "template.ipynb\t   train_neural_network_data.xls\n"
          ],
          "name": "stdout"
        }
      ]
    },
    {
      "cell_type": "markdown",
      "metadata": {
        "id": "H22r-LHQh7Dx",
        "colab_type": "text"
      },
      "source": [
        "#开始"
      ]
    },
    {
      "cell_type": "code",
      "metadata": {
        "id": "A-QXakEZh6Ae",
        "colab_type": "code",
        "colab": {
          "base_uri": "https://localhost:8080/",
          "height": 35
        },
        "outputId": "9d720b9d-cf46-4d1e-868c-143a6fb4b986"
      },
      "source": [
        "import pandas as pd\n",
        "import numpy as np\n",
        "from keras.layers.core import Activation,Dense\n",
        "from keras.models import Sequential"
      ],
      "execution_count": 5,
      "outputs": [
        {
          "output_type": "stream",
          "text": [
            "Using TensorFlow backend.\n"
          ],
          "name": "stderr"
        }
      ]
    },
    {
      "cell_type": "markdown",
      "metadata": {
        "id": "lRiXUodjiUE5",
        "colab_type": "text"
      },
      "source": [
        "#主要工作：特征处理，神经网络预测\n",
        "\n",
        "programmer_1-->简单的数据筛选，划分数据\n",
        "\n",
        "programmer_2-->阈值寻优\n",
        "\n",
        "programmer_3-->建立训练神经网络，并进行模型的检验\n",
        "\n",
        "programmer_4-->根据几个特征推算出是否满足某项条件\n",
        "\n",
        "event_num-->相邻时间的差分，比较是否大于阈值\n"
      ]
    },
    {
      "cell_type": "code",
      "metadata": {
        "id": "cAxf-PoliOSz",
        "colab_type": "code",
        "colab": {
          "base_uri": "https://localhost:8080/",
          "height": 200
        },
        "outputId": "380177b9-a380-454b-d9e7-b9d3b4d8aae6"
      },
      "source": [
        "#阈值\n",
        "thresshold = pd.Timedelta(\"4 min\")\n",
        "data = pd.read_excel('water_heater.xls')\n",
        "#dataframe 处理\n",
        "data[u\"发生时间\"] = pd.to_datetime(data[u\"发生时间\"], format=\"%Y%m%d%H%M%S\")\n",
        "data = data[data[u\"水流量\"]>0]\n",
        "data.head()"
      ],
      "execution_count": 14,
      "outputs": [
        {
          "output_type": "execute_result",
          "data": {
            "text/html": [
              "<div>\n",
              "<style scoped>\n",
              "    .dataframe tbody tr th:only-of-type {\n",
              "        vertical-align: middle;\n",
              "    }\n",
              "\n",
              "    .dataframe tbody tr th {\n",
              "        vertical-align: top;\n",
              "    }\n",
              "\n",
              "    .dataframe thead th {\n",
              "        text-align: right;\n",
              "    }\n",
              "</style>\n",
              "<table border=\"1\" class=\"dataframe\">\n",
              "  <thead>\n",
              "    <tr style=\"text-align: right;\">\n",
              "      <th></th>\n",
              "      <th>发生时间</th>\n",
              "      <th>开关机状态</th>\n",
              "      <th>加热中</th>\n",
              "      <th>保温中</th>\n",
              "      <th>实际温度</th>\n",
              "      <th>热水量</th>\n",
              "      <th>水流量</th>\n",
              "      <th>加热剩余时间</th>\n",
              "      <th>当前设置温度</th>\n",
              "    </tr>\n",
              "  </thead>\n",
              "  <tbody>\n",
              "    <tr>\n",
              "      <th>2</th>\n",
              "      <td>2014-10-19 07:01:56</td>\n",
              "      <td>关</td>\n",
              "      <td>关</td>\n",
              "      <td>关</td>\n",
              "      <td>30°C</td>\n",
              "      <td>0%</td>\n",
              "      <td>8</td>\n",
              "      <td>0分钟</td>\n",
              "      <td>50°C</td>\n",
              "    </tr>\n",
              "    <tr>\n",
              "      <th>56</th>\n",
              "      <td>2014-10-19 07:38:16</td>\n",
              "      <td>关</td>\n",
              "      <td>关</td>\n",
              "      <td>关</td>\n",
              "      <td>30°C</td>\n",
              "      <td>0%</td>\n",
              "      <td>8</td>\n",
              "      <td>0分钟</td>\n",
              "      <td>50°C</td>\n",
              "    </tr>\n",
              "    <tr>\n",
              "      <th>381</th>\n",
              "      <td>2014-10-19 09:46:38</td>\n",
              "      <td>关</td>\n",
              "      <td>关</td>\n",
              "      <td>关</td>\n",
              "      <td>29°C</td>\n",
              "      <td>0%</td>\n",
              "      <td>16</td>\n",
              "      <td>0分钟</td>\n",
              "      <td>50°C</td>\n",
              "    </tr>\n",
              "    <tr>\n",
              "      <th>382</th>\n",
              "      <td>2014-10-19 09:46:40</td>\n",
              "      <td>关</td>\n",
              "      <td>关</td>\n",
              "      <td>关</td>\n",
              "      <td>29°C</td>\n",
              "      <td>0%</td>\n",
              "      <td>13</td>\n",
              "      <td>0分钟</td>\n",
              "      <td>50°C</td>\n",
              "    </tr>\n",
              "    <tr>\n",
              "      <th>384</th>\n",
              "      <td>2014-10-19 09:47:15</td>\n",
              "      <td>关</td>\n",
              "      <td>关</td>\n",
              "      <td>关</td>\n",
              "      <td>29°C</td>\n",
              "      <td>0%</td>\n",
              "      <td>20</td>\n",
              "      <td>0分钟</td>\n",
              "      <td>50°C</td>\n",
              "    </tr>\n",
              "  </tbody>\n",
              "</table>\n",
              "</div>"
            ],
            "text/plain": [
              "                   发生时间 开关机状态 加热中 保温中  实际温度 热水量  水流量 加热剩余时间 当前设置温度\n",
              "2   2014-10-19 07:01:56     关   关   关  30°C  0%    8    0分钟   50°C\n",
              "56  2014-10-19 07:38:16     关   关   关  30°C  0%    8    0分钟   50°C\n",
              "381 2014-10-19 09:46:38     关   关   关  29°C  0%   16    0分钟   50°C\n",
              "382 2014-10-19 09:46:40     关   关   关  29°C  0%   13    0分钟   50°C\n",
              "384 2014-10-19 09:47:15     关   关   关  29°C  0%   20    0分钟   50°C"
            ]
          },
          "metadata": {
            "tags": []
          },
          "execution_count": 14
        }
      ]
    },
    {
      "cell_type": "code",
      "metadata": {
        "id": "z0zOETq4kwlh",
        "colab_type": "code",
        "colab": {
          "base_uri": "https://localhost:8080/",
          "height": 124
        },
        "outputId": "b157f274-2c55-43ed-d4a3-3e0a6a24f330"
      },
      "source": [
        "d = data[u\"发生时间\"].diff() > thresshold#相邻时间做差分\n",
        "d.head()"
      ],
      "execution_count": 16,
      "outputs": [
        {
          "output_type": "execute_result",
          "data": {
            "text/plain": [
              "2      False\n",
              "56      True\n",
              "381     True\n",
              "382    False\n",
              "384    False\n",
              "Name: 发生时间, dtype: bool"
            ]
          },
          "metadata": {
            "tags": []
          },
          "execution_count": 16
        }
      ]
    },
    {
      "cell_type": "code",
      "metadata": {
        "id": "TAZOgRk3lPmH",
        "colab_type": "code",
        "colab": {
          "base_uri": "https://localhost:8080/",
          "height": 200
        },
        "outputId": "2c66bf29-f801-4e4d-afeb-7e122f17b07b"
      },
      "source": [
        "data[u\"事件编号\"] = d.cumsum() + 1  # 通过累积求和的方式为事件编\n",
        "data.head()"
      ],
      "execution_count": 19,
      "outputs": [
        {
          "output_type": "execute_result",
          "data": {
            "text/html": [
              "<div>\n",
              "<style scoped>\n",
              "    .dataframe tbody tr th:only-of-type {\n",
              "        vertical-align: middle;\n",
              "    }\n",
              "\n",
              "    .dataframe tbody tr th {\n",
              "        vertical-align: top;\n",
              "    }\n",
              "\n",
              "    .dataframe thead th {\n",
              "        text-align: right;\n",
              "    }\n",
              "</style>\n",
              "<table border=\"1\" class=\"dataframe\">\n",
              "  <thead>\n",
              "    <tr style=\"text-align: right;\">\n",
              "      <th></th>\n",
              "      <th>发生时间</th>\n",
              "      <th>开关机状态</th>\n",
              "      <th>加热中</th>\n",
              "      <th>保温中</th>\n",
              "      <th>实际温度</th>\n",
              "      <th>热水量</th>\n",
              "      <th>水流量</th>\n",
              "      <th>加热剩余时间</th>\n",
              "      <th>当前设置温度</th>\n",
              "      <th>事件编号</th>\n",
              "    </tr>\n",
              "  </thead>\n",
              "  <tbody>\n",
              "    <tr>\n",
              "      <th>2</th>\n",
              "      <td>2014-10-19 07:01:56</td>\n",
              "      <td>关</td>\n",
              "      <td>关</td>\n",
              "      <td>关</td>\n",
              "      <td>30°C</td>\n",
              "      <td>0%</td>\n",
              "      <td>8</td>\n",
              "      <td>0分钟</td>\n",
              "      <td>50°C</td>\n",
              "      <td>1</td>\n",
              "    </tr>\n",
              "    <tr>\n",
              "      <th>56</th>\n",
              "      <td>2014-10-19 07:38:16</td>\n",
              "      <td>关</td>\n",
              "      <td>关</td>\n",
              "      <td>关</td>\n",
              "      <td>30°C</td>\n",
              "      <td>0%</td>\n",
              "      <td>8</td>\n",
              "      <td>0分钟</td>\n",
              "      <td>50°C</td>\n",
              "      <td>2</td>\n",
              "    </tr>\n",
              "    <tr>\n",
              "      <th>381</th>\n",
              "      <td>2014-10-19 09:46:38</td>\n",
              "      <td>关</td>\n",
              "      <td>关</td>\n",
              "      <td>关</td>\n",
              "      <td>29°C</td>\n",
              "      <td>0%</td>\n",
              "      <td>16</td>\n",
              "      <td>0分钟</td>\n",
              "      <td>50°C</td>\n",
              "      <td>3</td>\n",
              "    </tr>\n",
              "    <tr>\n",
              "      <th>382</th>\n",
              "      <td>2014-10-19 09:46:40</td>\n",
              "      <td>关</td>\n",
              "      <td>关</td>\n",
              "      <td>关</td>\n",
              "      <td>29°C</td>\n",
              "      <td>0%</td>\n",
              "      <td>13</td>\n",
              "      <td>0分钟</td>\n",
              "      <td>50°C</td>\n",
              "      <td>3</td>\n",
              "    </tr>\n",
              "    <tr>\n",
              "      <th>384</th>\n",
              "      <td>2014-10-19 09:47:15</td>\n",
              "      <td>关</td>\n",
              "      <td>关</td>\n",
              "      <td>关</td>\n",
              "      <td>29°C</td>\n",
              "      <td>0%</td>\n",
              "      <td>20</td>\n",
              "      <td>0分钟</td>\n",
              "      <td>50°C</td>\n",
              "      <td>3</td>\n",
              "    </tr>\n",
              "  </tbody>\n",
              "</table>\n",
              "</div>"
            ],
            "text/plain": [
              "                   发生时间 开关机状态 加热中 保温中  实际温度 热水量  水流量 加热剩余时间 当前设置温度  事件编号\n",
              "2   2014-10-19 07:01:56     关   关   关  30°C  0%    8    0分钟   50°C     1\n",
              "56  2014-10-19 07:38:16     关   关   关  30°C  0%    8    0分钟   50°C     2\n",
              "381 2014-10-19 09:46:38     关   关   关  29°C  0%   16    0分钟   50°C     3\n",
              "382 2014-10-19 09:46:40     关   关   关  29°C  0%   13    0分钟   50°C     3\n",
              "384 2014-10-19 09:47:15     关   关   关  29°C  0%   20    0分钟   50°C     3"
            ]
          },
          "metadata": {
            "tags": []
          },
          "execution_count": 19
        }
      ]
    },
    {
      "cell_type": "markdown",
      "metadata": {
        "id": "H6cgh9Yjl1-8",
        "colab_type": "text"
      },
      "source": [
        "#Pro2"
      ]
    },
    {
      "cell_type": "code",
      "metadata": {
        "id": "Y6yS2Y5ol0nL",
        "colab_type": "code",
        "colab": {
          "base_uri": "https://localhost:8080/",
          "height": 200
        },
        "outputId": "d8bc7176-b0bf-40d8-c81d-843b56cc9cea"
      },
      "source": [
        "data = pd.read_excel('water_heater.xls')\n",
        "#使用之后四个点的平均斜率\n",
        "n = 4\n",
        "#专家阈值\n",
        "threshold = pd.Timedelta(minutes = 5)\n",
        "data[u\"发生时间\"] = pd.to_datetime(data[u\"发生时间\"], format=\"%Y%m%d%H%M%S\")\n",
        "data = data[data[u\"水流量\"] > 0]\n",
        "data.head()"
      ],
      "execution_count": 21,
      "outputs": [
        {
          "output_type": "execute_result",
          "data": {
            "text/html": [
              "<div>\n",
              "<style scoped>\n",
              "    .dataframe tbody tr th:only-of-type {\n",
              "        vertical-align: middle;\n",
              "    }\n",
              "\n",
              "    .dataframe tbody tr th {\n",
              "        vertical-align: top;\n",
              "    }\n",
              "\n",
              "    .dataframe thead th {\n",
              "        text-align: right;\n",
              "    }\n",
              "</style>\n",
              "<table border=\"1\" class=\"dataframe\">\n",
              "  <thead>\n",
              "    <tr style=\"text-align: right;\">\n",
              "      <th></th>\n",
              "      <th>发生时间</th>\n",
              "      <th>开关机状态</th>\n",
              "      <th>加热中</th>\n",
              "      <th>保温中</th>\n",
              "      <th>实际温度</th>\n",
              "      <th>热水量</th>\n",
              "      <th>水流量</th>\n",
              "      <th>加热剩余时间</th>\n",
              "      <th>当前设置温度</th>\n",
              "    </tr>\n",
              "  </thead>\n",
              "  <tbody>\n",
              "    <tr>\n",
              "      <th>2</th>\n",
              "      <td>2014-10-19 07:01:56</td>\n",
              "      <td>关</td>\n",
              "      <td>关</td>\n",
              "      <td>关</td>\n",
              "      <td>30°C</td>\n",
              "      <td>0%</td>\n",
              "      <td>8</td>\n",
              "      <td>0分钟</td>\n",
              "      <td>50°C</td>\n",
              "    </tr>\n",
              "    <tr>\n",
              "      <th>56</th>\n",
              "      <td>2014-10-19 07:38:16</td>\n",
              "      <td>关</td>\n",
              "      <td>关</td>\n",
              "      <td>关</td>\n",
              "      <td>30°C</td>\n",
              "      <td>0%</td>\n",
              "      <td>8</td>\n",
              "      <td>0分钟</td>\n",
              "      <td>50°C</td>\n",
              "    </tr>\n",
              "    <tr>\n",
              "      <th>381</th>\n",
              "      <td>2014-10-19 09:46:38</td>\n",
              "      <td>关</td>\n",
              "      <td>关</td>\n",
              "      <td>关</td>\n",
              "      <td>29°C</td>\n",
              "      <td>0%</td>\n",
              "      <td>16</td>\n",
              "      <td>0分钟</td>\n",
              "      <td>50°C</td>\n",
              "    </tr>\n",
              "    <tr>\n",
              "      <th>382</th>\n",
              "      <td>2014-10-19 09:46:40</td>\n",
              "      <td>关</td>\n",
              "      <td>关</td>\n",
              "      <td>关</td>\n",
              "      <td>29°C</td>\n",
              "      <td>0%</td>\n",
              "      <td>13</td>\n",
              "      <td>0分钟</td>\n",
              "      <td>50°C</td>\n",
              "    </tr>\n",
              "    <tr>\n",
              "      <th>384</th>\n",
              "      <td>2014-10-19 09:47:15</td>\n",
              "      <td>关</td>\n",
              "      <td>关</td>\n",
              "      <td>关</td>\n",
              "      <td>29°C</td>\n",
              "      <td>0%</td>\n",
              "      <td>20</td>\n",
              "      <td>0分钟</td>\n",
              "      <td>50°C</td>\n",
              "    </tr>\n",
              "  </tbody>\n",
              "</table>\n",
              "</div>"
            ],
            "text/plain": [
              "                   发生时间 开关机状态 加热中 保温中  实际温度 热水量  水流量 加热剩余时间 当前设置温度\n",
              "2   2014-10-19 07:01:56     关   关   关  30°C  0%    8    0分钟   50°C\n",
              "56  2014-10-19 07:38:16     关   关   关  30°C  0%    8    0分钟   50°C\n",
              "381 2014-10-19 09:46:38     关   关   关  29°C  0%   16    0分钟   50°C\n",
              "382 2014-10-19 09:46:40     关   关   关  29°C  0%   13    0分钟   50°C\n",
              "384 2014-10-19 09:47:15     关   关   关  29°C  0%   20    0分钟   50°C"
            ]
          },
          "metadata": {
            "tags": []
          },
          "execution_count": 21
        }
      ]
    },
    {
      "cell_type": "code",
      "metadata": {
        "id": "L_YatBeWlkCb",
        "colab_type": "code",
        "colab": {
          "base_uri": "https://localhost:8080/",
          "height": 604
        },
        "outputId": "9cd77e99-f6d0-414d-b3d9-13695e2b19d7"
      },
      "source": [
        "# 定义阈值列\n",
        "dt = [pd.Timedelta(minutes=i) for i in np.arange(1, 9, 0.25)]\n",
        "h = pd.DataFrame(dt, columns=[u\"阈值\"])\n",
        "print(h)"
      ],
      "execution_count": 23,
      "outputs": [
        {
          "output_type": "stream",
          "text": [
            "         阈值\n",
            "0  00:01:00\n",
            "1  00:01:15\n",
            "2  00:01:30\n",
            "3  00:01:45\n",
            "4  00:02:00\n",
            "5  00:02:15\n",
            "6  00:02:30\n",
            "7  00:02:45\n",
            "8  00:03:00\n",
            "9  00:03:15\n",
            "10 00:03:30\n",
            "11 00:03:45\n",
            "12 00:04:00\n",
            "13 00:04:15\n",
            "14 00:04:30\n",
            "15 00:04:45\n",
            "16 00:05:00\n",
            "17 00:05:15\n",
            "18 00:05:30\n",
            "19 00:05:45\n",
            "20 00:06:00\n",
            "21 00:06:15\n",
            "22 00:06:30\n",
            "23 00:06:45\n",
            "24 00:07:00\n",
            "25 00:07:15\n",
            "26 00:07:30\n",
            "27 00:07:45\n",
            "28 00:08:00\n",
            "29 00:08:15\n",
            "30 00:08:30\n",
            "31 00:08:45\n"
          ],
          "name": "stdout"
        }
      ]
    },
    {
      "cell_type": "code",
      "metadata": {
        "id": "cvD9O_eQm3zE",
        "colab_type": "code",
        "colab": {
          "base_uri": "https://localhost:8080/",
          "height": 35
        },
        "outputId": "1f4a7df3-0db9-436b-fc9d-5d8e431b0e01"
      },
      "source": [
        "#没有看懂 \n",
        "def event_num(ts):\n",
        "      d = data[u\"发生时间\"].diff() > ts\n",
        "      # 返回事件数\n",
        "      return d.sum() + 1\n",
        "\n",
        "# 计算每个阈值对应的事件数\n",
        "h[u\"事件数\"] = h[u\"阈值\"].apply(event_num)\n",
        "# 计算每两个相邻点对应的斜率\n",
        "h[u\"斜率\"] = h[u\"事件数\"].diff() / 0.25\n",
        "# 采用后n个的斜率绝对值平均作为斜率指标\n",
        "h[u\"斜率指标\"] = pd.Series.rolling(h[u\"斜率\"].abs(), n).mean()\n",
        "ts = h[u\"阈值\"][h[u\"斜率指标\"].idxmin() - n]\n",
        "\n",
        "if ts > threshold:\n",
        "    ts = pd.Timedelta(minutes=4)\n",
        "print(ts)"
      ],
      "execution_count": 25,
      "outputs": [
        {
          "output_type": "stream",
          "text": [
            "0 days 00:04:00\n"
          ],
          "name": "stdout"
        }
      ]
    },
    {
      "cell_type": "code",
      "metadata": {
        "id": "dHQ0lts4ojKn",
        "colab_type": "code",
        "colab": {
          "base_uri": "https://localhost:8080/",
          "height": 1000
        },
        "outputId": "099d541c-ce25-4d28-9a27-dafa634fc534"
      },
      "source": [
        "threshold = pd.Timedelta(\"4 min\")\n",
        "inputfile = \"water_heater.xls\"\n",
        "outputfile = \"attribute_extract.xls\"\n",
        "data = pd.read_excel(inputfile)\n",
        "\n",
        "data[u\"发生时间\"] = pd.to_datetime(data[u\"发生时间\"], format=\"%Y%m%d%H%M%S\")\n",
        "data = data[data[u\"水流量\"] > 0]\n",
        "d = data[u\"发生时间\"].diff() > threshold\n",
        "data[u\"事件编号\"] = d.cumsum() + 1\n",
        "\n",
        "data_g = data.groupby(u\"事件编号\")\n",
        "result = pd.DataFrame()\n",
        "dt = pd.Timedelta(seconds=2)\n",
        "\n",
        "for _, g in data_g:\n",
        "    temp = pd.DataFrame(index=[0])\n",
        "    # 根据用水时长、开关机切换次数、总用水量推出是否是洗澡\n",
        "    tstart = g[u\"发生时间\"].min()\n",
        "    tend = g[u\"发生时间\"].max()\n",
        "    temp[u\"用水事件时长（M）\"] = (dt + tend - tstart).total_seconds() / 60\n",
        "    temp[u\"开关机切换次数\"] = (pd.Series.rolling(g[u\"开关机状态\"] == u\"关\",\n",
        "                                          2).sum() == 1).sum()\n",
        "    temp[u\"总用水量（L）\"] = g[u\"水流量\"].sum()\n",
        "    tdiff = g[u\"发生时间\"].diff()\n",
        "    if len(g[u\"发生时间\"]) == 1:\n",
        "        temp[u\"总用水时长（Min）\"] = dt.total_seconds() / 60\n",
        "    else:\n",
        "        temp[u\"总用水时长（Min）\"] = (\n",
        "            tdiff.sum() - tdiff.iloc[1] / 2 -\n",
        "            tdiff.iloc[len(tdiff) - 1] / 2).total_seconds() / 60\n",
        "    temp[u\"平均水流量（L/min）\"] = temp[u\"总用水量（L）\"] / temp[u\"总用水时长（Min）\"]\n",
        "    result = result.append(temp, ignore_index=True)\n",
        "    \n",
        "print(result)"
      ],
      "execution_count": 26,
      "outputs": [
        {
          "output_type": "stream",
          "text": [
            "     用水事件时长（M）  开关机切换次数  总用水量（L）  总用水时长（Min）  平均水流量（L/min）\n",
            "0     0.033333        0        8    0.033333    240.000000\n",
            "1     0.033333        0        8    0.033333    240.000000\n",
            "2     0.650000        0       49    0.308333    158.918919\n",
            "3     0.033333        0       22    0.033333    660.000000\n",
            "4     0.033333        0        8    0.033333    240.000000\n",
            "5    14.150000        1     7282   14.050000    518.291815\n",
            "6     0.266667        0      384    0.183333   2094.545455\n",
            "7    11.283333        0     3050    9.700000    314.432990\n",
            "8     8.750000        0     3876    8.650000    448.092486\n",
            "9     9.300000        0     4040    9.233333    437.545126\n",
            "10    0.033333        0        8    0.033333    240.000000\n",
            "11    0.166667        0       16    0.000000           inf\n",
            "12    0.033333        0        8    0.033333    240.000000\n",
            "13   15.933333        0     3895   13.216667    294.703657\n",
            "14    0.066667        0       23    0.000000           inf\n",
            "15    0.500000        0      496    0.433333   1144.615385\n",
            "16    4.133333        0     1576    4.033333    390.743802\n",
            "17    5.633333        0     1751    5.566667    314.550898\n",
            "18    0.033333        0        8    0.033333    240.000000\n",
            "19    8.850000        0     3368    8.783333    383.453510\n",
            "20    0.033333        0        8    0.033333    240.000000\n",
            "21    0.033333        0        8    0.033333    240.000000\n",
            "22    0.133333        0       43    0.050000    860.000000\n",
            "23    9.950000        0     2903    9.866667    294.222973\n",
            "24   18.100000        3     3376   17.966667    187.903525\n",
            "25    0.033333        0        8    0.033333    240.000000\n",
            "26    0.033333        0        8    0.033333    240.000000\n",
            "27    6.716667        0     2124    6.616667    321.007557\n",
            "28    0.033333        0        8    0.033333    240.000000\n",
            "29    5.183333        0     2114    5.116667    413.159609\n",
            "..         ...      ...      ...         ...           ...\n",
            "142  10.533333        0     3055    8.650000    353.179191\n",
            "143   0.466667        0      283    0.283333    998.823529\n",
            "144  10.100000        0     1500    9.875000    151.898734\n",
            "145  11.983333        0     3386   11.916667    284.139860\n",
            "146   1.616667        0     1191    1.516667    785.274725\n",
            "147   0.033333        0       10    0.033333    300.000000\n",
            "148   2.933333        0      726    2.866667    253.255814\n",
            "149   0.033333        0        8    0.033333    240.000000\n",
            "150   0.033333        0        8    0.033333    240.000000\n",
            "151   0.033333        0       10    0.033333    300.000000\n",
            "152   0.266667        0      245    0.200000   1225.000000\n",
            "153   8.233333        0     3997    8.116667    492.443532\n",
            "154  13.650000        0     2448   12.075000    202.732919\n",
            "155   2.616667        0       54    1.291667     41.806452\n",
            "156   0.033333        0        8    0.033333    240.000000\n",
            "157   2.000000        0     2024    1.841667   1099.004525\n",
            "158   0.033333        0        8    0.033333    240.000000\n",
            "159   0.066667        0       51    0.000000           inf\n",
            "160   0.066667        0       36    0.000000           inf\n",
            "161   0.266667        0       60    0.116667    514.285714\n",
            "162   0.033333        0        8    0.033333    240.000000\n",
            "163  12.050000        0     3971   11.983333    331.376912\n",
            "164  10.766667        0     4058   10.683333    379.843994\n",
            "165   0.033333        0        8    0.033333    240.000000\n",
            "166  10.983333        0     1829    9.216667    198.444846\n",
            "167   0.333333        0      273    0.233333   1170.000000\n",
            "168  12.683333        0     3582   12.466667    287.326203\n",
            "169   5.316667        0     1878    5.183333    362.315113\n",
            "170   0.033333        0        8    0.033333    240.000000\n",
            "171   0.033333        0        8    0.033333    240.000000\n",
            "\n",
            "[172 rows x 5 columns]\n"
          ],
          "name": "stdout"
        }
      ]
    }
  ]
}