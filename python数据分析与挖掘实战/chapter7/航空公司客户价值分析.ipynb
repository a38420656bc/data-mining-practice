{
  "nbformat": 4,
  "nbformat_minor": 0,
  "metadata": {
    "colab": {
      "name": "航空公司客户价值分析.ipynb",
      "version": "0.3.2",
      "provenance": []
    },
    "kernelspec": {
      "name": "python3",
      "display_name": "Python 3"
    }
  },
  "cells": [
    {
      "cell_type": "markdown",
      "metadata": {
        "id": "dF05b3WgX60k",
        "colab_type": "text"
      },
      "source": [
        "#链接谷歌云盘和Colab"
      ]
    },
    {
      "cell_type": "code",
      "metadata": {
        "id": "aHfwyZmZXyR5",
        "colab_type": "code",
        "colab": {
          "base_uri": "https://localhost:8080/",
          "height": 232
        },
        "outputId": "2b43e974-10e9-4e86-9035-23ceff3a7e72"
      },
      "source": [
        "!apt-get install -y -qq software-properties-common python-software-properties module-init-tools\n",
        "!add-apt-repository -y ppa:alessandro-strada/ppa 2>&1 > /dev/null\n",
        "!apt-get update -qq 2>&1 > /dev/null\n",
        "!apt-get -y install -qq google-drive-ocamlfuse fuse\n",
        "from google.colab import auth\n",
        "auth.authenticate_user()\n",
        "from oauth2client.client import GoogleCredentials\n",
        "creds = GoogleCredentials.get_application_default()\n",
        "import getpass\n",
        "!google-drive-ocamlfuse -headless -id={creds.client_id} -secret={creds.client_secret} < /dev/null 2>&1 | grep URL\n",
        "vcode = getpass.getpass()\n",
        "!echo {vcode} | google-drive-ocamlfuse -headless -id={creds.client_id} -secret={creds.client_secret}"
      ],
      "execution_count": 1,
      "outputs": [
        {
          "output_type": "stream",
          "text": [
            "E: Package 'python-software-properties' has no installation candidate\n",
            "Selecting previously unselected package google-drive-ocamlfuse.\n",
            "(Reading database ... 131289 files and directories currently installed.)\n",
            "Preparing to unpack .../google-drive-ocamlfuse_0.7.6-0ubuntu1~ubuntu18.04.1_amd64.deb ...\n",
            "Unpacking google-drive-ocamlfuse (0.7.6-0ubuntu1~ubuntu18.04.1) ...\n",
            "Setting up google-drive-ocamlfuse (0.7.6-0ubuntu1~ubuntu18.04.1) ...\n",
            "Processing triggers for man-db (2.8.3-2ubuntu0.1) ...\n",
            "Please, open the following URL in a web browser: https://accounts.google.com/o/oauth2/auth?client_id=32555940559.apps.googleusercontent.com&redirect_uri=urn%3Aietf%3Awg%3Aoauth%3A2.0%3Aoob&scope=https%3A%2F%2Fwww.googleapis.com%2Fauth%2Fdrive&response_type=code&access_type=offline&approval_prompt=force\n",
            "··········\n",
            "Please, open the following URL in a web browser: https://accounts.google.com/o/oauth2/auth?client_id=32555940559.apps.googleusercontent.com&redirect_uri=urn%3Aietf%3Awg%3Aoauth%3A2.0%3Aoob&scope=https%3A%2F%2Fwww.googleapis.com%2Fauth%2Fdrive&response_type=code&access_type=offline&approval_prompt=force\n",
            "Please enter the verification code: Access token retrieved correctly.\n"
          ],
          "name": "stdout"
        }
      ]
    },
    {
      "cell_type": "markdown",
      "metadata": {
        "id": "LBPsjMa3Ybus",
        "colab_type": "text"
      },
      "source": [
        "#查看当前路径"
      ]
    },
    {
      "cell_type": "code",
      "metadata": {
        "id": "Fnk5TQxmYaO7",
        "colab_type": "code",
        "colab": {
          "base_uri": "https://localhost:8080/",
          "height": 195
        },
        "outputId": "b7efc1b2-0fff-4e86-8a24-a23a80b940b9"
      },
      "source": [
        "!mkdir -p drive\n",
        "!google-drive-ocamlfuse -o nonempty drive\n",
        "import os\n",
        "os.chdir(\"drive\")\n",
        "!ls"
      ],
      "execution_count": 2,
      "outputs": [
        {
          "output_type": "stream",
          "text": [
            "aclImdb_v1.tar.gz     residual_plot.png      Titanic\n",
            "data_description.txt  Sales\t\t     torchtest.ipynb\n",
            "drive\t\t      sample_submission.csv  train.csv\n",
            "GuodongDrive\t      Sense1.ipynb\t     Untitled0.ipynb\n",
            "House\t\t      Sense2.ipynb（副本）   XGboost_practice1.ipynb\n",
            "Houseprice.ipynb      Sense.ipynb\t     XGboost_practice2.ipynb\n",
            "huawei\t\t      sensePY.ipynb\t     剑指offer\n",
            "labeledTrainData.tsv  submission.csv\t     数组和链表.desktop\n",
            "neg\t\t      test.csv\t\t     糖尿病数据.txt\n",
            "practice\t      testData.tsv\n"
          ],
          "name": "stdout"
        }
      ]
    },
    {
      "cell_type": "code",
      "metadata": {
        "id": "Qhq_MkzxYfLz",
        "colab_type": "code",
        "colab": {
          "base_uri": "https://localhost:8080/",
          "height": 52
        },
        "outputId": "476bbabe-1fba-49a2-c62c-42b890ecb7ba"
      },
      "source": [
        "os.chdir(\"practice\")\n",
        "os.chdir(\"ch7\")\n",
        "!ls"
      ],
      "execution_count": 3,
      "outputs": [
        {
          "output_type": "stream",
          "text": [
            "air_data.csv  zscoredata.xls   航空公司客户价值分析.ipynb\n",
            "ch_en.xls     zscoreddata.xls\n"
          ],
          "name": "stdout"
        }
      ]
    },
    {
      "cell_type": "markdown",
      "metadata": {
        "id": "9tCbRLwztFn9",
        "colab_type": "text"
      },
      "source": [
        "#开始\n",
        "\n",
        "programmer_1-->关于原始数据的一些特征描述并\n",
        "保存为新表，使用describe函数\n",
        "\n",
        "programmer_2-->对原始数据进行清理，对其中某\n",
        "些数据做运算，并进行保存\n",
        "\n",
        "programmer_3-->标准化数据并进行保存\n",
        "\n",
        "programmer_4-->使用KMeans对数据进行聚类分析"
      ]
    },
    {
      "cell_type": "code",
      "metadata": {
        "id": "tDycUs8CYnn-",
        "colab_type": "code",
        "colab": {}
      },
      "source": [
        "import pandas as pd\n",
        "from sklearn.cluster import KMeans"
      ],
      "execution_count": 0,
      "outputs": []
    },
    {
      "cell_type": "code",
      "metadata": {
        "id": "w46_fePbtQkE",
        "colab_type": "code",
        "colab": {
          "base_uri": "https://localhost:8080/",
          "height": 200
        },
        "outputId": "e9c959e6-1d54-47ae-d57e-ce637ce7e816"
      },
      "source": [
        "data = pd.read_csv('air_data.csv',encoding = 'utf-8')\n",
        "# 包括对数据的基本描述，percentiles参数是指定计算多少的分位数表（如1/4分位数、中位数等）；\n",
        "#T是转置，转置后更方便查阅\n",
        "explore = data.describe(percentiles = [],include = 'all').T\n",
        "#describe函数自动计算非空值数，需手动计算空值数\n",
        "explore['null'] = len(data) - explore['count']\n",
        "explore = explore[['null','max','min']]\n",
        "explore.columns = [u'空值数',u'最大值',u'最小值']\n",
        "#explore = explore.drop('MEMBER_NO')\n",
        "explore.head()"
      ],
      "execution_count": 8,
      "outputs": [
        {
          "output_type": "execute_result",
          "data": {
            "text/html": [
              "<div>\n",
              "<style scoped>\n",
              "    .dataframe tbody tr th:only-of-type {\n",
              "        vertical-align: middle;\n",
              "    }\n",
              "\n",
              "    .dataframe tbody tr th {\n",
              "        vertical-align: top;\n",
              "    }\n",
              "\n",
              "    .dataframe thead th {\n",
              "        text-align: right;\n",
              "    }\n",
              "</style>\n",
              "<table border=\"1\" class=\"dataframe\">\n",
              "  <thead>\n",
              "    <tr style=\"text-align: right;\">\n",
              "      <th></th>\n",
              "      <th>空值数</th>\n",
              "      <th>最大值</th>\n",
              "      <th>最小值</th>\n",
              "    </tr>\n",
              "  </thead>\n",
              "  <tbody>\n",
              "    <tr>\n",
              "      <th>MEMBER_NO</th>\n",
              "      <td>0</td>\n",
              "      <td>62988</td>\n",
              "      <td>1</td>\n",
              "    </tr>\n",
              "    <tr>\n",
              "      <th>FFP_DATE</th>\n",
              "      <td>0</td>\n",
              "      <td>NaN</td>\n",
              "      <td>NaN</td>\n",
              "    </tr>\n",
              "    <tr>\n",
              "      <th>FIRST_FLIGHT_DATE</th>\n",
              "      <td>0</td>\n",
              "      <td>NaN</td>\n",
              "      <td>NaN</td>\n",
              "    </tr>\n",
              "    <tr>\n",
              "      <th>GENDER</th>\n",
              "      <td>3</td>\n",
              "      <td>NaN</td>\n",
              "      <td>NaN</td>\n",
              "    </tr>\n",
              "    <tr>\n",
              "      <th>FFP_TIER</th>\n",
              "      <td>0</td>\n",
              "      <td>6</td>\n",
              "      <td>4</td>\n",
              "    </tr>\n",
              "  </tbody>\n",
              "</table>\n",
              "</div>"
            ],
            "text/plain": [
              "                  空值数    最大值  最小值\n",
              "MEMBER_NO           0  62988    1\n",
              "FFP_DATE            0    NaN  NaN\n",
              "FIRST_FLIGHT_DATE   0    NaN  NaN\n",
              "GENDER              3    NaN  NaN\n",
              "FFP_TIER            0      6    4"
            ]
          },
          "metadata": {
            "tags": []
          },
          "execution_count": 8
        }
      ]
    },
    {
      "cell_type": "code",
      "metadata": {
        "id": "vYjZBzJMwpv3",
        "colab_type": "code",
        "colab": {
          "base_uri": "https://localhost:8080/",
          "height": 237
        },
        "outputId": "11bb87bf-44d4-4d17-81cb-8c95b622e8a1"
      },
      "source": [
        "# 使用乘法运算非空数值的数据，因为numpy不支持*运算，在这里换做&运算\n",
        "data = data[data['SUM_YR_1'].notnull() & data['SUM_YR_2'].notnull()]\n",
        "# 只保留票价非零的，或者平均折扣率与总飞行公里数同时为0的记录。\n",
        "index1 = data['SUM_YR_1'] != 0\n",
        "index2 = data['SUM_YR_2'] != 0\n",
        "index3 = (data['SEG_KM_SUM'] == 0) & (data['avg_discount'] == 0) # 该规则是“与”\n",
        "data = data[index1 | index2 | index3]  # 该规则是“或”\n",
        "data.head()"
      ],
      "execution_count": 10,
      "outputs": [
        {
          "output_type": "execute_result",
          "data": {
            "text/html": [
              "<div>\n",
              "<style scoped>\n",
              "    .dataframe tbody tr th:only-of-type {\n",
              "        vertical-align: middle;\n",
              "    }\n",
              "\n",
              "    .dataframe tbody tr th {\n",
              "        vertical-align: top;\n",
              "    }\n",
              "\n",
              "    .dataframe thead th {\n",
              "        text-align: right;\n",
              "    }\n",
              "</style>\n",
              "<table border=\"1\" class=\"dataframe\">\n",
              "  <thead>\n",
              "    <tr style=\"text-align: right;\">\n",
              "      <th></th>\n",
              "      <th>MEMBER_NO</th>\n",
              "      <th>FFP_DATE</th>\n",
              "      <th>FIRST_FLIGHT_DATE</th>\n",
              "      <th>GENDER</th>\n",
              "      <th>FFP_TIER</th>\n",
              "      <th>WORK_CITY</th>\n",
              "      <th>WORK_PROVINCE</th>\n",
              "      <th>WORK_COUNTRY</th>\n",
              "      <th>AGE</th>\n",
              "      <th>LOAD_TIME</th>\n",
              "      <th>FLIGHT_COUNT</th>\n",
              "      <th>BP_SUM</th>\n",
              "      <th>EP_SUM_YR_1</th>\n",
              "      <th>EP_SUM_YR_2</th>\n",
              "      <th>SUM_YR_1</th>\n",
              "      <th>SUM_YR_2</th>\n",
              "      <th>SEG_KM_SUM</th>\n",
              "      <th>WEIGHTED_SEG_KM</th>\n",
              "      <th>LAST_FLIGHT_DATE</th>\n",
              "      <th>AVG_FLIGHT_COUNT</th>\n",
              "      <th>AVG_BP_SUM</th>\n",
              "      <th>BEGIN_TO_FIRST</th>\n",
              "      <th>LAST_TO_END</th>\n",
              "      <th>AVG_INTERVAL</th>\n",
              "      <th>MAX_INTERVAL</th>\n",
              "      <th>ADD_POINTS_SUM_YR_1</th>\n",
              "      <th>ADD_POINTS_SUM_YR_2</th>\n",
              "      <th>EXCHANGE_COUNT</th>\n",
              "      <th>avg_discount</th>\n",
              "      <th>P1Y_Flight_Count</th>\n",
              "      <th>L1Y_Flight_Count</th>\n",
              "      <th>P1Y_BP_SUM</th>\n",
              "      <th>L1Y_BP_SUM</th>\n",
              "      <th>EP_SUM</th>\n",
              "      <th>ADD_Point_SUM</th>\n",
              "      <th>Eli_Add_Point_Sum</th>\n",
              "      <th>L1Y_ELi_Add_Points</th>\n",
              "      <th>Points_Sum</th>\n",
              "      <th>L1Y_Points_Sum</th>\n",
              "      <th>Ration_L1Y_Flight_Count</th>\n",
              "      <th>Ration_P1Y_Flight_Count</th>\n",
              "      <th>Ration_P1Y_BPS</th>\n",
              "      <th>Ration_L1Y_BPS</th>\n",
              "      <th>Point_NotFlight</th>\n",
              "    </tr>\n",
              "  </thead>\n",
              "  <tbody>\n",
              "    <tr>\n",
              "      <th>0</th>\n",
              "      <td>54993</td>\n",
              "      <td>2006/11/02</td>\n",
              "      <td>2008/12/24</td>\n",
              "      <td>男</td>\n",
              "      <td>6</td>\n",
              "      <td>.</td>\n",
              "      <td>北京</td>\n",
              "      <td>CN</td>\n",
              "      <td>31.0</td>\n",
              "      <td>2014/03/31</td>\n",
              "      <td>210</td>\n",
              "      <td>505308</td>\n",
              "      <td>0</td>\n",
              "      <td>74460</td>\n",
              "      <td>239560.0</td>\n",
              "      <td>234188.0</td>\n",
              "      <td>580717</td>\n",
              "      <td>558440.14</td>\n",
              "      <td>2014/03/31</td>\n",
              "      <td>26.250</td>\n",
              "      <td>63163.500</td>\n",
              "      <td>2</td>\n",
              "      <td>1</td>\n",
              "      <td>3.483254</td>\n",
              "      <td>18</td>\n",
              "      <td>3352</td>\n",
              "      <td>36640</td>\n",
              "      <td>34</td>\n",
              "      <td>0.961639</td>\n",
              "      <td>103</td>\n",
              "      <td>107</td>\n",
              "      <td>246197</td>\n",
              "      <td>259111</td>\n",
              "      <td>74460</td>\n",
              "      <td>39992</td>\n",
              "      <td>114452</td>\n",
              "      <td>111100</td>\n",
              "      <td>619760</td>\n",
              "      <td>370211</td>\n",
              "      <td>0.509524</td>\n",
              "      <td>0.490476</td>\n",
              "      <td>0.487221</td>\n",
              "      <td>0.512777</td>\n",
              "      <td>50</td>\n",
              "    </tr>\n",
              "    <tr>\n",
              "      <th>1</th>\n",
              "      <td>28065</td>\n",
              "      <td>2007/02/19</td>\n",
              "      <td>2007/08/03</td>\n",
              "      <td>男</td>\n",
              "      <td>6</td>\n",
              "      <td>NaN</td>\n",
              "      <td>北京</td>\n",
              "      <td>CN</td>\n",
              "      <td>42.0</td>\n",
              "      <td>2014/03/31</td>\n",
              "      <td>140</td>\n",
              "      <td>362480</td>\n",
              "      <td>0</td>\n",
              "      <td>41288</td>\n",
              "      <td>171483.0</td>\n",
              "      <td>167434.0</td>\n",
              "      <td>293678</td>\n",
              "      <td>367777.20</td>\n",
              "      <td>2014/03/25</td>\n",
              "      <td>17.500</td>\n",
              "      <td>45310.000</td>\n",
              "      <td>2</td>\n",
              "      <td>7</td>\n",
              "      <td>5.194245</td>\n",
              "      <td>17</td>\n",
              "      <td>0</td>\n",
              "      <td>12000</td>\n",
              "      <td>29</td>\n",
              "      <td>1.252314</td>\n",
              "      <td>68</td>\n",
              "      <td>72</td>\n",
              "      <td>177358</td>\n",
              "      <td>185122</td>\n",
              "      <td>41288</td>\n",
              "      <td>12000</td>\n",
              "      <td>53288</td>\n",
              "      <td>53288</td>\n",
              "      <td>415768</td>\n",
              "      <td>238410</td>\n",
              "      <td>0.514286</td>\n",
              "      <td>0.485714</td>\n",
              "      <td>0.489289</td>\n",
              "      <td>0.510708</td>\n",
              "      <td>33</td>\n",
              "    </tr>\n",
              "    <tr>\n",
              "      <th>2</th>\n",
              "      <td>55106</td>\n",
              "      <td>2007/02/01</td>\n",
              "      <td>2007/08/30</td>\n",
              "      <td>男</td>\n",
              "      <td>6</td>\n",
              "      <td>.</td>\n",
              "      <td>北京</td>\n",
              "      <td>CN</td>\n",
              "      <td>40.0</td>\n",
              "      <td>2014/03/31</td>\n",
              "      <td>135</td>\n",
              "      <td>351159</td>\n",
              "      <td>0</td>\n",
              "      <td>39711</td>\n",
              "      <td>163618.0</td>\n",
              "      <td>164982.0</td>\n",
              "      <td>283712</td>\n",
              "      <td>355966.50</td>\n",
              "      <td>2014/03/21</td>\n",
              "      <td>16.875</td>\n",
              "      <td>43894.875</td>\n",
              "      <td>10</td>\n",
              "      <td>11</td>\n",
              "      <td>5.298507</td>\n",
              "      <td>18</td>\n",
              "      <td>3491</td>\n",
              "      <td>12000</td>\n",
              "      <td>20</td>\n",
              "      <td>1.254676</td>\n",
              "      <td>65</td>\n",
              "      <td>70</td>\n",
              "      <td>169072</td>\n",
              "      <td>182087</td>\n",
              "      <td>39711</td>\n",
              "      <td>15491</td>\n",
              "      <td>55202</td>\n",
              "      <td>51711</td>\n",
              "      <td>406361</td>\n",
              "      <td>233798</td>\n",
              "      <td>0.518519</td>\n",
              "      <td>0.481481</td>\n",
              "      <td>0.481467</td>\n",
              "      <td>0.518530</td>\n",
              "      <td>26</td>\n",
              "    </tr>\n",
              "    <tr>\n",
              "      <th>3</th>\n",
              "      <td>21189</td>\n",
              "      <td>2008/08/22</td>\n",
              "      <td>2008/08/23</td>\n",
              "      <td>男</td>\n",
              "      <td>5</td>\n",
              "      <td>Los Angeles</td>\n",
              "      <td>CA</td>\n",
              "      <td>US</td>\n",
              "      <td>64.0</td>\n",
              "      <td>2014/03/31</td>\n",
              "      <td>23</td>\n",
              "      <td>337314</td>\n",
              "      <td>0</td>\n",
              "      <td>34890</td>\n",
              "      <td>116350.0</td>\n",
              "      <td>125500.0</td>\n",
              "      <td>281336</td>\n",
              "      <td>306900.88</td>\n",
              "      <td>2013/12/26</td>\n",
              "      <td>2.875</td>\n",
              "      <td>42164.250</td>\n",
              "      <td>21</td>\n",
              "      <td>97</td>\n",
              "      <td>27.863636</td>\n",
              "      <td>73</td>\n",
              "      <td>0</td>\n",
              "      <td>0</td>\n",
              "      <td>11</td>\n",
              "      <td>1.090870</td>\n",
              "      <td>13</td>\n",
              "      <td>10</td>\n",
              "      <td>186104</td>\n",
              "      <td>151210</td>\n",
              "      <td>34890</td>\n",
              "      <td>0</td>\n",
              "      <td>34890</td>\n",
              "      <td>34890</td>\n",
              "      <td>372204</td>\n",
              "      <td>186100</td>\n",
              "      <td>0.434783</td>\n",
              "      <td>0.565217</td>\n",
              "      <td>0.551722</td>\n",
              "      <td>0.448275</td>\n",
              "      <td>12</td>\n",
              "    </tr>\n",
              "    <tr>\n",
              "      <th>4</th>\n",
              "      <td>39546</td>\n",
              "      <td>2009/04/10</td>\n",
              "      <td>2009/04/15</td>\n",
              "      <td>男</td>\n",
              "      <td>6</td>\n",
              "      <td>贵阳</td>\n",
              "      <td>贵州</td>\n",
              "      <td>CN</td>\n",
              "      <td>48.0</td>\n",
              "      <td>2014/03/31</td>\n",
              "      <td>152</td>\n",
              "      <td>273844</td>\n",
              "      <td>0</td>\n",
              "      <td>42265</td>\n",
              "      <td>124560.0</td>\n",
              "      <td>130702.0</td>\n",
              "      <td>309928</td>\n",
              "      <td>300834.06</td>\n",
              "      <td>2014/03/27</td>\n",
              "      <td>19.000</td>\n",
              "      <td>34230.500</td>\n",
              "      <td>3</td>\n",
              "      <td>5</td>\n",
              "      <td>4.788079</td>\n",
              "      <td>47</td>\n",
              "      <td>0</td>\n",
              "      <td>22704</td>\n",
              "      <td>27</td>\n",
              "      <td>0.970658</td>\n",
              "      <td>71</td>\n",
              "      <td>81</td>\n",
              "      <td>128448</td>\n",
              "      <td>145396</td>\n",
              "      <td>42265</td>\n",
              "      <td>22704</td>\n",
              "      <td>64969</td>\n",
              "      <td>64969</td>\n",
              "      <td>338813</td>\n",
              "      <td>210365</td>\n",
              "      <td>0.532895</td>\n",
              "      <td>0.467105</td>\n",
              "      <td>0.469054</td>\n",
              "      <td>0.530943</td>\n",
              "      <td>39</td>\n",
              "    </tr>\n",
              "  </tbody>\n",
              "</table>\n",
              "</div>"
            ],
            "text/plain": [
              "   MEMBER_NO    FFP_DATE  ... Ration_L1Y_BPS Point_NotFlight\n",
              "0      54993  2006/11/02  ...       0.512777              50\n",
              "1      28065  2007/02/19  ...       0.510708              33\n",
              "2      55106  2007/02/01  ...       0.518530              26\n",
              "3      21189  2008/08/22  ...       0.448275              12\n",
              "4      39546  2009/04/10  ...       0.530943              39\n",
              "\n",
              "[5 rows x 44 columns]"
            ]
          },
          "metadata": {
            "tags": []
          },
          "execution_count": 10
        }
      ]
    },
    {
      "cell_type": "code",
      "metadata": {
        "id": "_MXlhTblxmwy",
        "colab_type": "code",
        "colab": {
          "base_uri": "https://localhost:8080/",
          "height": 200
        },
        "outputId": "ab29d745-3a2c-4c8e-ac5d-8b76de37c9ce"
      },
      "source": [
        "data = pd.read_excel('zscoredata.xls')\n",
        "data = (data- data.mean(axis = 0))/(data.std(axis = 0))\n",
        "data.columns = ['Z' + i for i in data.columns]\n",
        "data.head()"
      ],
      "execution_count": 18,
      "outputs": [
        {
          "output_type": "execute_result",
          "data": {
            "text/html": [
              "<div>\n",
              "<style scoped>\n",
              "    .dataframe tbody tr th:only-of-type {\n",
              "        vertical-align: middle;\n",
              "    }\n",
              "\n",
              "    .dataframe tbody tr th {\n",
              "        vertical-align: top;\n",
              "    }\n",
              "\n",
              "    .dataframe thead th {\n",
              "        text-align: right;\n",
              "    }\n",
              "</style>\n",
              "<table border=\"1\" class=\"dataframe\">\n",
              "  <thead>\n",
              "    <tr style=\"text-align: right;\">\n",
              "      <th></th>\n",
              "      <th>ZL</th>\n",
              "      <th>ZR</th>\n",
              "      <th>ZF</th>\n",
              "      <th>ZM</th>\n",
              "      <th>ZC</th>\n",
              "    </tr>\n",
              "  </thead>\n",
              "  <tbody>\n",
              "    <tr>\n",
              "      <th>0</th>\n",
              "      <td>1.689882</td>\n",
              "      <td>0.140299</td>\n",
              "      <td>-0.635788</td>\n",
              "      <td>0.068794</td>\n",
              "      <td>-0.337186</td>\n",
              "    </tr>\n",
              "    <tr>\n",
              "      <th>1</th>\n",
              "      <td>1.689882</td>\n",
              "      <td>-0.322442</td>\n",
              "      <td>0.852453</td>\n",
              "      <td>0.843848</td>\n",
              "      <td>-0.553613</td>\n",
              "    </tr>\n",
              "    <tr>\n",
              "      <th>2</th>\n",
              "      <td>1.681743</td>\n",
              "      <td>-0.487707</td>\n",
              "      <td>-0.210576</td>\n",
              "      <td>0.158569</td>\n",
              "      <td>-1.094680</td>\n",
              "    </tr>\n",
              "    <tr>\n",
              "      <th>3</th>\n",
              "      <td>1.534185</td>\n",
              "      <td>-0.785184</td>\n",
              "      <td>0.002030</td>\n",
              "      <td>0.273091</td>\n",
              "      <td>-1.148787</td>\n",
              "    </tr>\n",
              "    <tr>\n",
              "      <th>4</th>\n",
              "      <td>0.890167</td>\n",
              "      <td>-0.426559</td>\n",
              "      <td>-0.635788</td>\n",
              "      <td>-0.685170</td>\n",
              "      <td>1.231909</td>\n",
              "    </tr>\n",
              "  </tbody>\n",
              "</table>\n",
              "</div>"
            ],
            "text/plain": [
              "         ZL        ZR        ZF        ZM        ZC\n",
              "0  1.689882  0.140299 -0.635788  0.068794 -0.337186\n",
              "1  1.689882 -0.322442  0.852453  0.843848 -0.553613\n",
              "2  1.681743 -0.487707 -0.210576  0.158569 -1.094680\n",
              "3  1.534185 -0.785184  0.002030  0.273091 -1.148787\n",
              "4  0.890167 -0.426559 -0.635788 -0.685170  1.231909"
            ]
          },
          "metadata": {
            "tags": []
          },
          "execution_count": 18
        }
      ]
    },
    {
      "cell_type": "code",
      "metadata": {
        "id": "VEZgdOT0ApCm",
        "colab_type": "code",
        "colab": {}
      },
      "source": [
        "data.to_excel('processed_zscoredata.xls', index=False)\n"
      ],
      "execution_count": 0,
      "outputs": []
    },
    {
      "cell_type": "code",
      "metadata": {
        "id": "099oceVgBCTd",
        "colab_type": "code",
        "colab": {}
      },
      "source": [
        "data = pd.read_excel('processed_zscoredata.xls')"
      ],
      "execution_count": 0,
      "outputs": []
    },
    {
      "cell_type": "code",
      "metadata": {
        "id": "mj6G8iglyL1A",
        "colab_type": "code",
        "colab": {
          "base_uri": "https://localhost:8080/",
          "height": 124
        },
        "outputId": "ce545012-5bf2-4e40-fbe8-0e5963c77fc5"
      },
      "source": [
        "  k = 5\n",
        "  kmodel = KMeans(n_clusters=k, n_jobs=3)\n",
        "  kmodel.fit(data)\n",
        "\n",
        "  print(kmodel.cluster_centers_)  # 查看聚类中心\n",
        "  print(kmodel.labels_)  # 查看各样本对应的类别"
      ],
      "execution_count": 24,
      "outputs": [
        {
          "output_type": "stream",
          "text": [
            "[[ 0.48347647 -0.79941777  2.48236495  2.42356419  0.30943042]\n",
            " [-0.70078618 -0.41511584 -0.16075614 -0.16047844 -0.25672933]\n",
            " [ 0.05149901 -0.00271409 -0.23091725 -0.23512403  2.1772287 ]\n",
            " [ 1.16037972 -0.37741377 -0.08700996 -0.09501774 -0.15844696]\n",
            " [-0.31405921  1.68670155 -0.57387501 -0.53664509 -0.17239155]]\n",
            "[3 3 3 ... 3 3 3]\n"
          ],
          "name": "stdout"
        }
      ]
    }
  ]
}