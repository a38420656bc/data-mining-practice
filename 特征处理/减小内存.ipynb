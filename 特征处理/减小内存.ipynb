{
  "nbformat": 4,
  "nbformat_minor": 0,
  "metadata": {
    "colab": {
      "name": "减小内存.ipynb",
      "version": "0.3.2",
      "provenance": [],
      "collapsed_sections": []
    },
    "kernelspec": {
      "name": "python3",
      "display_name": "Python 3"
    }
  },
  "cells": [
    {
      "cell_type": "markdown",
      "metadata": {
        "id": "q8ZBRpyPwiwE",
        "colab_type": "text"
      },
      "source": [
        "**处理数据时经常因为笔记本内存较小而数据又比较大而产生内存不够用的情况**\n",
        "\n",
        "**这里复制一段从[CSDN上一位博主的减小内存的函数](https://blog.csdn.net/Dr_Guo/article/details/90514911)，在以后导入数据时直接使用即可**"
      ]
    },
    {
      "cell_type": "code",
      "metadata": {
        "id": "jSi69Y0_wFyE",
        "colab_type": "code",
        "colab": {}
      },
      "source": [
        "jdata_action_file_dir = \"../../jdata/jdata_action.csv\"\n"
      ],
      "execution_count": 0,
      "outputs": []
    },
    {
      "cell_type": "code",
      "metadata": {
        "id": "IfMA6uNzxMnE",
        "colab_type": "code",
        "colab": {}
      },
      "source": [
        "# 减少内存使用\n",
        "def reduce_mem_usage(df, verbose=True):\n",
        "    numerics = ['int16', 'int32', 'int64', 'float16', 'float32', 'float64']\n",
        "    start_mem = df.memory_usage().sum() / 1024 ** 2\n",
        "    for col in df.columns:\n",
        "        col_type = df[col].dtypes\n",
        "        if col_type in numerics:\n",
        "            c_min = df[col].min()\n",
        "            c_max = df[col].max()\n",
        "            if str(col_type)[:3] == 'int':\n",
        "                if c_min > np.iinfo(np.int8).min and c_max < np.iinfo(np.int8).max:\n",
        "                    df[col] = df[col].astype(np.int8)\n",
        "                elif c_min > np.iinfo(np.int16).min and c_max < np.iinfo(np.int16).max:\n",
        "                    df[col] = df[col].astype(np.int16)\n",
        "                elif c_min > np.iinfo(np.int32).min and c_max < np.iinfo(np.int32).max:\n",
        "                    df[col] = df[col].astype(np.int32)\n",
        "                elif c_min > np.iinfo(np.int64).min and c_max < np.iinfo(np.int64).max:\n",
        "                    df[col] = df[col].astype(np.int64)\n",
        "            else:\n",
        "                if c_min > np.finfo(np.float16).min and c_max < np.finfo(np.float16).max:\n",
        "                    df[col] = df[col].astype(np.float16)\n",
        "                elif c_min > np.finfo(np.float32).min and c_max < np.finfo(np.float32).max:\n",
        "                    df[col] = df[col].astype(np.float32)\n",
        "                else:\n",
        "                    df[col] = df[col].astype(np.float64)\n",
        "    end_mem = df.memory_usage().sum() / 1024 ** 2\n",
        "    if verbose:\n",
        "        print('Mem. usage decreased to {:5.2f} Mb ({:.1f}% reduction)'.format(end_mem, 100 * (start_mem - end_mem) / start_mem))\n",
        "    return df\n"
      ],
      "execution_count": 0,
      "outputs": []
    },
    {
      "cell_type": "code",
      "metadata": {
        "id": "crXpEF8sxRGR",
        "colab_type": "code",
        "colab": {}
      },
      "source": [
        "jdata_action = reduce_mem_usage(pd.read_csv(jdata_action_file_dir))"
      ],
      "execution_count": 0,
      "outputs": []
    },
    {
      "cell_type": "markdown",
      "metadata": {
        "id": "feQki-lc1vZH",
        "colab_type": "text"
      },
      "source": [
        "#情况二：数据过大分段读取\n"
      ]
    },
    {
      "cell_type": "code",
      "metadata": {
        "id": "zrbH3YJ510fN",
        "colab_type": "code",
        "colab": {}
      },
      "source": [
        "def get_from_action_data(fname, chunk_size=100000):\n",
        "    reader = pd.read_csv(fname, header=0, iterator=True)\n",
        "    chunks = []\n",
        "    loop = True\n",
        "    while loop:\n",
        "        try:\n",
        "            chunk = reader.get_chunk(chunk_size)[\n",
        "                [\"user_id\", \"sku_id\", \"type\", \"time\"]]\n",
        "            chunks.append(chunk)\n",
        "        except StopIteration:\n",
        "            loop = False\n",
        "            print(\"Iteration is stopped\")\n",
        "\n",
        "    df_ac = pd.concat(chunks, ignore_index=True)#不重构index\n",
        "\n",
        "\n",
        "    return df_ac[[\"user_id\", \"sku_id\", \"time\"]]"
      ],
      "execution_count": 0,
      "outputs": []
    },
    {
      "cell_type": "code",
      "metadata": {
        "id": "MPBcE7Fr1_hr",
        "colab_type": "code",
        "colab": {}
      },
      "source": [
        "df_ac = []\n",
        "df_ac.append(get_from_action_data(fname=ACTION_201602_FILE))"
      ],
      "execution_count": 0,
      "outputs": []
    }
  ]
}