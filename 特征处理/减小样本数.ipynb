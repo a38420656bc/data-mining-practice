{
  "nbformat": 4,
  "nbformat_minor": 0,
  "metadata": {
    "colab": {
      "name": "减小样本数.ipynb",
      "version": "0.3.2",
      "provenance": []
    },
    "kernelspec": {
      "name": "python3",
      "display_name": "Python 3"
    }
  },
  "cells": [
    {
      "cell_type": "markdown",
      "metadata": {
        "id": "hV-dqX9XuMAQ",
        "colab_type": "text"
      },
      "source": [
        "**在刚开始导入数据时经常遇到数据集过大的情况，这样在后续处理起来比较麻烦**\n",
        "\n",
        "\n",
        "**这里提供了两种方式:**\n",
        "**一种是设置pd.read_csv函数中的nrows : int, default None 需要读取的行数（从文件头开始算起）。**\n",
        "\n",
        "另一种是在读取的时候将读取的前多少行保存为新的data，原来的大数据集放在ori文件夹下，我们以后在测试的时候直接read 这个小data就可以"
      ]
    },
    {
      "cell_type": "code",
      "metadata": {
        "id": "SjbPUtUmuDQ0",
        "colab_type": "code",
        "colab": {}
      },
      "source": [
        "# eg：\n",
        "# 定义文件名\n",
        "ACTION_201602_FILE = \"data/JData_Action_201602.csv\"\n",
        "ACTION_201603_FILE = \"data/JData_Action_201603.csv\"\n",
        "\n",
        "num_sample = 10000\n",
        "file_list = [ACTION_201602_FILE, ACTION_201603_FILE,\n",
        "             ACTION_201603_EXTRA_FILE, ACTION_201604_FILE,\n",
        "             NEW_USER_FILE, COMMENT_FILE]\n",
        "\n",
        "for fname in file_list:\n",
        "    with open(\"data_ori/\" + fname[5:], 'rb') as fi:\n",
        "        with open(fname, 'wb') as fo:\n",
        "            for i in xrange(num_sample):\n",
        "                fo.write(fi.readline())"
      ],
      "execution_count": 0,
      "outputs": []
    }
  ]
}