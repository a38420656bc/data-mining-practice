{
 "cells": [
  {
   "cell_type": "code",
   "execution_count": 2,
   "metadata": {},
   "outputs": [],
   "source": [
    "import pandas as pd"
   ]
  },
  {
   "cell_type": "code",
   "execution_count": 19,
   "metadata": {},
   "outputs": [],
   "source": [
    "sub1 = pd.read_csv(\"yulao02.csv\")\n",
    "sub2 = pd.read_csv(\"rongheguize_0902.csv\")\n",
    "sub3 = pd.read_csv(\"evaluation_public_20190917_lgb.csv\")\n",
    "sub4 = pd.read_csv(\"tutusubmit02.csv\")\n",
    "sub5 = pd.read_csv(\"yulao_xgb.csv\")"
   ]
  },
  {
   "cell_type": "code",
   "execution_count": 17,
   "metadata": {},
   "outputs": [
    {
     "name": "stdout",
     "output_type": "stream",
     "text": [
      "(5280, 2)\n",
      "(5280, 2)\n",
      "(5280, 2)\n",
      "(5280, 2)\n",
      "(5280, 2)\n",
      "(5280, 2)\n"
     ]
    }
   ],
   "source": [
    "print(sub1.shape)\n",
    "print(sub2.shape)\n",
    "print(sub3.shape)\n",
    "print(sub4.shape)\n",
    "print(sub5.shape)\n",
    "print(sub6.shape)"
   ]
  },
  {
   "cell_type": "code",
   "execution_count": 5,
   "metadata": {},
   "outputs": [
    {
     "name": "stdout",
     "output_type": "stream",
     "text": [
      "<bound method NDFrame.head of         id  forecastVolum\n",
      "0        1            269\n",
      "1        2            342\n",
      "2        3            177\n",
      "3        4            317\n",
      "4        5            417\n",
      "...    ...            ...\n",
      "5275  5364             96\n",
      "5276  5365            101\n",
      "5277  5366            106\n",
      "5278  5367            224\n",
      "5279  5368             83\n",
      "\n",
      "[5280 rows x 2 columns]>\n",
      "<bound method NDFrame.head of         id  forecastVolum\n",
      "0        1            288\n",
      "1        2            376\n",
      "2        3            154\n",
      "3        4            332\n",
      "4        5            402\n",
      "...    ...            ...\n",
      "5275  5364             95\n",
      "5276  5365             83\n",
      "5277  5366            104\n",
      "5278  5367            227\n",
      "5279  5368             66\n",
      "\n",
      "[5280 rows x 2 columns]>\n",
      "<bound method NDFrame.head of         id  forecastVolum\n",
      "0        1            249\n",
      "1        2            308\n",
      "2        3            163\n",
      "3        4            283\n",
      "4        5            393\n",
      "...    ...            ...\n",
      "5275  5364             94\n",
      "5276  5365             94\n",
      "5277  5366             76\n",
      "5278  5367            214\n",
      "5279  5368             41\n",
      "\n",
      "[5280 rows x 2 columns]>\n",
      "<bound method NDFrame.head of         id  forecastVolum\n",
      "0        1            183\n",
      "1        2            264\n",
      "2        3            129\n",
      "3        4            184\n",
      "4        5            244\n",
      "...    ...            ...\n",
      "5275  5364             64\n",
      "5276  5365             68\n",
      "5277  5366             69\n",
      "5278  5367            160\n",
      "5279  5368             55\n",
      "\n",
      "[5280 rows x 2 columns]>\n",
      "<bound method NDFrame.head of         id  forecastVolum\n",
      "0        1            223\n",
      "1        2            284\n",
      "2        3            138\n",
      "3        4            192\n",
      "4        5            331\n",
      "...    ...            ...\n",
      "5275  5364             60\n",
      "5276  5365             58\n",
      "5277  5366             84\n",
      "5278  5367            130\n",
      "5279  5368             39\n",
      "\n",
      "[5280 rows x 2 columns]>\n"
     ]
    }
   ],
   "source": [
    "print(sub1.head)\n",
    "print(sub2.head)\n",
    "print(sub3.head)\n",
    "print(sub4.head)\n",
    "print(sub5.head)"
   ]
  },
  {
   "cell_type": "code",
   "execution_count": 18,
   "metadata": {},
   "outputs": [
    {
     "data": {
      "text/html": [
       "<div>\n",
       "<style scoped>\n",
       "    .dataframe tbody tr th:only-of-type {\n",
       "        vertical-align: middle;\n",
       "    }\n",
       "\n",
       "    .dataframe tbody tr th {\n",
       "        vertical-align: top;\n",
       "    }\n",
       "\n",
       "    .dataframe thead th {\n",
       "        text-align: right;\n",
       "    }\n",
       "</style>\n",
       "<table border=\"1\" class=\"dataframe\">\n",
       "  <thead>\n",
       "    <tr style=\"text-align: right;\">\n",
       "      <th></th>\n",
       "      <th>id</th>\n",
       "      <th>forecastVolum</th>\n",
       "    </tr>\n",
       "  </thead>\n",
       "  <tbody>\n",
       "    <tr>\n",
       "      <td>0</td>\n",
       "      <td>1</td>\n",
       "      <td>253.000000</td>\n",
       "    </tr>\n",
       "    <tr>\n",
       "      <td>1</td>\n",
       "      <td>2</td>\n",
       "      <td>312.166667</td>\n",
       "    </tr>\n",
       "    <tr>\n",
       "      <td>2</td>\n",
       "      <td>3</td>\n",
       "      <td>155.000000</td>\n",
       "    </tr>\n",
       "    <tr>\n",
       "      <td>3</td>\n",
       "      <td>4</td>\n",
       "      <td>273.666667</td>\n",
       "    </tr>\n",
       "    <tr>\n",
       "      <td>4</td>\n",
       "      <td>5</td>\n",
       "      <td>370.833333</td>\n",
       "    </tr>\n",
       "  </tbody>\n",
       "</table>\n",
       "</div>"
      ],
      "text/plain": [
       "   id  forecastVolum\n",
       "0   1     253.000000\n",
       "1   2     312.166667\n",
       "2   3     155.000000\n",
       "3   4     273.666667\n",
       "4   5     370.833333"
      ]
     },
     "execution_count": 18,
     "metadata": {},
     "output_type": "execute_result"
    }
   ],
   "source": [
    "sub_ronghe = sub1.copy()\n",
    "sub_ronghe['forecastVolum'] = (sub1['forecastVolum'].values)*(1/6)+(sub2['forecastVolum'].values)*(1/6)+(sub3['forecastVolum'].values)*(1/6)+(sub4['forecastVolum'].values)*(1/6)+(sub5['forecastVolum'].values)*(1/6)+(sub6['forecastVolum'].values)*(1/6)\n",
    "sub_ronghe.head()"
   ]
  },
  {
   "cell_type": "code",
   "execution_count": 5,
   "metadata": {},
   "outputs": [],
   "source": [
    "a = (sub1['forecastVolum'].values)\n",
    "a = a*(1/3)"
   ]
  },
  {
   "cell_type": "code",
   "execution_count": 20,
   "metadata": {},
   "outputs": [
    {
     "data": {
      "text/html": [
       "<div>\n",
       "<style scoped>\n",
       "    .dataframe tbody tr th:only-of-type {\n",
       "        vertical-align: middle;\n",
       "    }\n",
       "\n",
       "    .dataframe tbody tr th {\n",
       "        vertical-align: top;\n",
       "    }\n",
       "\n",
       "    .dataframe thead th {\n",
       "        text-align: right;\n",
       "    }\n",
       "</style>\n",
       "<table border=\"1\" class=\"dataframe\">\n",
       "  <thead>\n",
       "    <tr style=\"text-align: right;\">\n",
       "      <th></th>\n",
       "      <th>id</th>\n",
       "      <th>forecastVolum</th>\n",
       "    </tr>\n",
       "  </thead>\n",
       "  <tbody>\n",
       "    <tr>\n",
       "      <td>0</td>\n",
       "      <td>1</td>\n",
       "      <td>254.750</td>\n",
       "    </tr>\n",
       "    <tr>\n",
       "      <td>1</td>\n",
       "      <td>2</td>\n",
       "      <td>312.000</td>\n",
       "    </tr>\n",
       "    <tr>\n",
       "      <td>2</td>\n",
       "      <td>3</td>\n",
       "      <td>154.375</td>\n",
       "    </tr>\n",
       "    <tr>\n",
       "      <td>3</td>\n",
       "      <td>4</td>\n",
       "      <td>278.375</td>\n",
       "    </tr>\n",
       "    <tr>\n",
       "      <td>4</td>\n",
       "      <td>5</td>\n",
       "      <td>370.000</td>\n",
       "    </tr>\n",
       "  </tbody>\n",
       "</table>\n",
       "</div>"
      ],
      "text/plain": [
       "   id  forecastVolum\n",
       "0   1        254.750\n",
       "1   2        312.000\n",
       "2   3        154.375\n",
       "3   4        278.375\n",
       "4   5        370.000"
      ]
     },
     "execution_count": 20,
     "metadata": {},
     "output_type": "execute_result"
    }
   ],
   "source": [
    "sub_ronghe = sub1.copy()\n",
    "sub_ronghe['forecastVolum'] = (sub1['forecastVolum'].values+sub5['forecastVolum'].values)*(1/8)+(sub2['forecastVolum'].values)*(1/4)+(sub3['forecastVolum'].values)*(1/4)+(sub4['forecastVolum'].values)*(1/4)\n",
    "sub_ronghe.head()"
   ]
  },
  {
   "cell_type": "code",
   "execution_count": 7,
   "metadata": {},
   "outputs": [
    {
     "data": {
      "text/html": [
       "<div>\n",
       "<style scoped>\n",
       "    .dataframe tbody tr th:only-of-type {\n",
       "        vertical-align: middle;\n",
       "    }\n",
       "\n",
       "    .dataframe tbody tr th {\n",
       "        vertical-align: top;\n",
       "    }\n",
       "\n",
       "    .dataframe thead th {\n",
       "        text-align: right;\n",
       "    }\n",
       "</style>\n",
       "<table border=\"1\" class=\"dataframe\">\n",
       "  <thead>\n",
       "    <tr style=\"text-align: right;\">\n",
       "      <th></th>\n",
       "      <th>id</th>\n",
       "      <th>forecastVolum</th>\n",
       "    </tr>\n",
       "  </thead>\n",
       "  <tbody>\n",
       "    <tr>\n",
       "      <td>0</td>\n",
       "      <td>1</td>\n",
       "      <td>247.25</td>\n",
       "    </tr>\n",
       "    <tr>\n",
       "      <td>1</td>\n",
       "      <td>2</td>\n",
       "      <td>322.50</td>\n",
       "    </tr>\n",
       "    <tr>\n",
       "      <td>2</td>\n",
       "      <td>3</td>\n",
       "      <td>155.75</td>\n",
       "    </tr>\n",
       "    <tr>\n",
       "      <td>3</td>\n",
       "      <td>4</td>\n",
       "      <td>279.00</td>\n",
       "    </tr>\n",
       "    <tr>\n",
       "      <td>4</td>\n",
       "      <td>5</td>\n",
       "      <td>364.00</td>\n",
       "    </tr>\n",
       "  </tbody>\n",
       "</table>\n",
       "</div>"
      ],
      "text/plain": [
       "   id  forecastVolum\n",
       "0   1         247.25\n",
       "1   2         322.50\n",
       "2   3         155.75\n",
       "3   4         279.00\n",
       "4   5         364.00"
      ]
     },
     "execution_count": 7,
     "metadata": {},
     "output_type": "execute_result"
    }
   ],
   "source": [
    "sub_ronghe = sub1.copy()\n",
    "sub_ronghe['forecastVolum'] = (sub1['forecastVolum'].values)*(1/4)+(sub2['forecastVolum'].values)*(1/4)+(sub3['forecastVolum'].values)*(1/4)+(sub4['forecastVolum'].values)*(1/4)\n",
    "sub_ronghe.head()"
   ]
  },
  {
   "cell_type": "code",
   "execution_count": 21,
   "metadata": {},
   "outputs": [],
   "source": [
    "sub_ronghe[['id','forecastVolum']].round().astype(int).to_csv('ronghe_091803.csv', index=False)"
   ]
  }
 ],
 "metadata": {
  "kernelspec": {
   "display_name": "Python 3",
   "language": "python",
   "name": "python3"
  },
  "language_info": {
   "codemirror_mode": {
    "name": "ipython",
    "version": 3
   },
   "file_extension": ".py",
   "mimetype": "text/x-python",
   "name": "python",
   "nbconvert_exporter": "python",
   "pygments_lexer": "ipython3",
   "version": "3.5.6"
  }
 },
 "nbformat": 4,
 "nbformat_minor": 2
}
