{
 "cells": [
  {
   "cell_type": "code",
   "execution_count": 1,
   "metadata": {},
   "outputs": [],
   "source": [
    "# import sys\n",
    "import numpy as np\n",
    "import pandas as pd\n",
    "# import os \n",
    "# import gc\n",
    "from tqdm import tqdm, tqdm_notebook\n",
    "from sklearn.model_selection import StratifiedKFold, KFold\n",
    "from sklearn.metrics import f1_score, roc_auc_score\n",
    "from sklearn.metrics import mean_squared_error as mse\n",
    "from sklearn.preprocessing import LabelEncoder\n",
    "import datetime\n",
    "import time\n",
    "import lightgbm as lgb\n",
    "import xgboost as xgb\n",
    "import warnings\n",
    "warnings.simplefilter(action='ignore', category=FutureWarning)\n",
    "warnings.filterwarnings('ignore')\n",
    "pd.set_option('display.max_columns', None)\n",
    "pd.set_option('display.max_rows', None)"
   ]
  },
  {
   "cell_type": "code",
   "execution_count": 2,
   "metadata": {},
   "outputs": [],
   "source": [
    "# path  = './ccf_car/'\n",
    "train_sales  = pd.read_csv('train_sales_data.csv')\n",
    "train_search = pd.read_csv('train_search_data.csv')\n",
    "train_user   = pd.read_csv('train_user_reply_data.csv')\n",
    "evaluation_public = pd.read_csv('evaluation_public.csv')\n",
    "submit_example    = pd.read_csv('submit_example.csv')\n",
    "data = pd.concat([train_sales, evaluation_public], ignore_index=True)\n",
    "data = data.merge(train_search, 'left', on=['province', 'adcode', 'model', 'regYear', 'regMonth'])\n",
    "data = data.merge(train_user, 'left', on=['model', 'regYear', 'regMonth'])\n",
    "data['label'] = data['salesVolume']\n",
    "data['id'] = data['id'].fillna(0).astype(int)\n",
    "data['bodyType'] = data['model'].map(train_sales.drop_duplicates('model').set_index('model')['bodyType'])\n",
    "#索引-->value\n",
    "\n",
    "#LabelEncoder\n",
    "for i in ['bodyType', 'model']:\n",
    "    data[i] = data[i].map(dict(zip(data[i].unique(), range(data[i].nunique()))))\n",
    "    #key-->value\n",
    "data['mt'] = (data['regYear'] - 2016) * 12 + data['regMonth']\n"
   ]
  },
  {
   "cell_type": "code",
   "execution_count": 3,
   "metadata": {},
   "outputs": [],
   "source": [
    "def get_stat_feature(df_):   \n",
    "    df = df_.copy()\n",
    "    stat_feat = []\n",
    "    df['model_adcode'] = df['adcode'] + df['model']\n",
    "    df['model_adcode_mt'] = df['model_adcode'] * 100 + df['mt']\n",
    "    for col in tqdm(['label','popularity']):\n",
    "        # shift\n",
    "        for i in [1,2,3,4,5,6,7,8,9,10,11,12]:\n",
    "            stat_feat.append('shift_model_adcode_mt_{}_{}'.format(col,i))\n",
    "            df['model_adcode_mt_{}_{}'.format(col,i)] = df['model_adcode_mt'] + i\n",
    "            df_last = df[~df[col].isnull()].set_index('model_adcode_mt_{}_{}'.format(col,i))\n",
    "            df['shift_model_adcode_mt_{}_{}'.format(col,i)] = df['model_adcode_mt'].map(df_last[col])    \n",
    "    return df,stat_feat"
   ]
  },
  {
   "cell_type": "code",
   "execution_count": 4,
   "metadata": {},
   "outputs": [],
   "source": [
    "def score(data, pred='pred_label', label='label', group='model'):\n",
    "    data['pred_label'] = data['pred_label'].apply(lambda x: 0 if x < 0 else x).round().astype(int)\n",
    "    data_agg = data.groupby('model').agg({\n",
    "        pred:  list,\n",
    "        label: [list, 'mean']\n",
    "    }).reset_index()\n",
    "    data_agg.columns = ['_'.join(col).strip() for col in data_agg.columns]\n",
    "    nrmse_score = []\n",
    "    for raw in data_agg[['{0}_list'.format(pred), '{0}_list'.format(label), '{0}_mean'.format(label)]].values:\n",
    "        nrmse_score.append(\n",
    "            mse(raw[0], raw[1]) ** 0.5 / raw[2]\n",
    "        )\n",
    "    print(1 - np.mean(nrmse_score))\n",
    "    return 1 - np.mean(nrmse_score)"
   ]
  },
  {
   "cell_type": "code",
   "execution_count": 10,
   "metadata": {},
   "outputs": [],
   "source": [
    "def get_model_type(train_x,train_y,valid_x,valid_y,m_type='lgb'):   \n",
    "    if m_type == 'lgb':\n",
    "        model = lgb.LGBMRegressor(\n",
    "                                num_leaves=2**5-1, reg_alpha=0.25, reg_lambda=0.25, objective='mse',\n",
    "                                max_depth=-1, learning_rate=0.05, min_child_samples=5, random_state=500,\n",
    "                                n_estimators=2000, subsample=0.9, colsample_bytree=0.7,\n",
    "                                )\n",
    "        model.fit(train_x, train_y, \n",
    "              eval_set=[(train_x, train_y),(valid_x, valid_y)], \n",
    "              categorical_feature=cate_feat, \n",
    "              early_stopping_rounds=100, verbose=100)      \n",
    "    elif m_type == 'xgb':\n",
    "        model = xgb.XGBRegressor(\n",
    "                                max_depth=5 , learning_rate=0.05, n_estimators=2000, \n",
    "                                objective='reg:gamma', tree_method = 'hist',subsample=0.9, \n",
    "                                colsample_bytree=0.7, min_child_samples=5,eval_metric = 'rmse' \n",
    "                                )\n",
    "        model.fit(train_x, train_y, \n",
    "              eval_set=[(train_x, train_y),(valid_x, valid_y)], \n",
    "              early_stopping_rounds=100, verbose=100)   \n",
    "    return model"
   ]
  },
  {
   "cell_type": "code",
   "execution_count": 6,
   "metadata": {},
   "outputs": [],
   "source": [
    "def get_train_model(df_, m, m_type='lgb'):\n",
    "    df = df_.copy()\n",
    "    # 数据集划分\n",
    "    st = 13\n",
    "    all_idx   = (df['mt'].between(st , m-1))\n",
    "    train_idx = (df['mt'].between(st , m-5))\n",
    "    valid_idx = (df['mt'].between(m-4, m-4))\n",
    "    test_idx  = (df['mt'].between(m  , m  ))\n",
    "    print('all_idx  :',st ,m-1)\n",
    "    print('train_idx:',st ,m-5)\n",
    "    print('valid_idx:',m-4,m-4)\n",
    "    print('test_idx :',m  ,m  )  \n",
    "    # 最终确认\n",
    "    train_x = df[train_idx][features]\n",
    "    train_y = df[train_idx]['label']\n",
    "    valid_x = df[valid_idx][features]\n",
    "    valid_y = df[valid_idx]['label']   \n",
    "    # get model\n",
    "    model = get_model_type(train_x,train_y,valid_x,valid_y,m_type)  \n",
    "    # offline\n",
    "    df['pred_label'] = model.predict(df[features])\n",
    "    best_score = score(df[valid_idx]) \n",
    "    # online\n",
    "    if m_type == 'lgb':\n",
    "        model.n_estimators = model.best_iteration_ + 100\n",
    "        model.fit(df[all_idx][features], df[all_idx]['label'], categorical_feature=cate_feat)\n",
    "    elif m_type == 'xgb':\n",
    "        model.n_estimators = model.best_iteration + 100\n",
    "        model.fit(df[all_idx][features], df[all_idx]['label'])\n",
    "    df['forecastVolum'] = model.predict(df[features]) \n",
    "    print('valid mean:',df[valid_idx]['pred_label'].mean())\n",
    "    print('true  mean:',df[valid_idx]['label'].mean())\n",
    "    print('test  mean:',df[test_idx]['forecastVolum'].mean())\n",
    "    # 阶段结果\n",
    "    sub = df[test_idx][['id']]\n",
    "    sub['forecastVolum'] = df[test_idx]['forecastVolum'].apply(lambda x: 0 if x < 0 else x).round().astype(int)  \n",
    "    return sub,df[valid_idx]['pred_label']"
   ]
  },
  {
   "cell_type": "code",
   "execution_count": 86,
   "metadata": {},
   "outputs": [
    {
     "data": {
      "text/html": [
       "<div>\n",
       "<style scoped>\n",
       "    .dataframe tbody tr th:only-of-type {\n",
       "        vertical-align: middle;\n",
       "    }\n",
       "\n",
       "    .dataframe tbody tr th {\n",
       "        vertical-align: top;\n",
       "    }\n",
       "\n",
       "    .dataframe thead th {\n",
       "        text-align: right;\n",
       "    }\n",
       "</style>\n",
       "<table border=\"1\" class=\"dataframe\">\n",
       "  <thead>\n",
       "    <tr style=\"text-align: right;\">\n",
       "      <th></th>\n",
       "      <th>adcode</th>\n",
       "      <th>bodyType</th>\n",
       "      <th>forecastVolum</th>\n",
       "      <th>id</th>\n",
       "      <th>model</th>\n",
       "      <th>province</th>\n",
       "      <th>regMonth</th>\n",
       "      <th>regYear</th>\n",
       "      <th>salesVolume</th>\n",
       "      <th>popularity</th>\n",
       "      <th>carCommentVolum</th>\n",
       "      <th>newsReplyVolum</th>\n",
       "      <th>label</th>\n",
       "      <th>mt</th>\n",
       "    </tr>\n",
       "  </thead>\n",
       "  <tbody>\n",
       "    <tr>\n",
       "      <th>0</th>\n",
       "      <td>310000</td>\n",
       "      <td>0</td>\n",
       "      <td>NaN</td>\n",
       "      <td>0</td>\n",
       "      <td>0</td>\n",
       "      <td>上海</td>\n",
       "      <td>1</td>\n",
       "      <td>2016</td>\n",
       "      <td>292.0</td>\n",
       "      <td>1479.0</td>\n",
       "      <td>11.0</td>\n",
       "      <td>106.0</td>\n",
       "      <td>292.0</td>\n",
       "      <td>1</td>\n",
       "    </tr>\n",
       "    <tr>\n",
       "      <th>1</th>\n",
       "      <td>530000</td>\n",
       "      <td>0</td>\n",
       "      <td>NaN</td>\n",
       "      <td>0</td>\n",
       "      <td>0</td>\n",
       "      <td>云南</td>\n",
       "      <td>1</td>\n",
       "      <td>2016</td>\n",
       "      <td>466.0</td>\n",
       "      <td>1594.0</td>\n",
       "      <td>11.0</td>\n",
       "      <td>106.0</td>\n",
       "      <td>466.0</td>\n",
       "      <td>1</td>\n",
       "    </tr>\n",
       "    <tr>\n",
       "      <th>2</th>\n",
       "      <td>150000</td>\n",
       "      <td>0</td>\n",
       "      <td>NaN</td>\n",
       "      <td>0</td>\n",
       "      <td>0</td>\n",
       "      <td>内蒙古</td>\n",
       "      <td>1</td>\n",
       "      <td>2016</td>\n",
       "      <td>257.0</td>\n",
       "      <td>1479.0</td>\n",
       "      <td>11.0</td>\n",
       "      <td>106.0</td>\n",
       "      <td>257.0</td>\n",
       "      <td>1</td>\n",
       "    </tr>\n",
       "    <tr>\n",
       "      <th>3</th>\n",
       "      <td>110000</td>\n",
       "      <td>0</td>\n",
       "      <td>NaN</td>\n",
       "      <td>0</td>\n",
       "      <td>0</td>\n",
       "      <td>北京</td>\n",
       "      <td>1</td>\n",
       "      <td>2016</td>\n",
       "      <td>408.0</td>\n",
       "      <td>2370.0</td>\n",
       "      <td>11.0</td>\n",
       "      <td>106.0</td>\n",
       "      <td>408.0</td>\n",
       "      <td>1</td>\n",
       "    </tr>\n",
       "    <tr>\n",
       "      <th>4</th>\n",
       "      <td>510000</td>\n",
       "      <td>0</td>\n",
       "      <td>NaN</td>\n",
       "      <td>0</td>\n",
       "      <td>0</td>\n",
       "      <td>四川</td>\n",
       "      <td>1</td>\n",
       "      <td>2016</td>\n",
       "      <td>610.0</td>\n",
       "      <td>3562.0</td>\n",
       "      <td>11.0</td>\n",
       "      <td>106.0</td>\n",
       "      <td>610.0</td>\n",
       "      <td>1</td>\n",
       "    </tr>\n",
       "  </tbody>\n",
       "</table>\n",
       "</div>"
      ],
      "text/plain": [
       "   adcode  bodyType  forecastVolum  id  model province  regMonth  regYear  \\\n",
       "0  310000         0            NaN   0      0       上海         1     2016   \n",
       "1  530000         0            NaN   0      0       云南         1     2016   \n",
       "2  150000         0            NaN   0      0      内蒙古         1     2016   \n",
       "3  110000         0            NaN   0      0       北京         1     2016   \n",
       "4  510000         0            NaN   0      0       四川         1     2016   \n",
       "\n",
       "   salesVolume  popularity  carCommentVolum  newsReplyVolum  label  mt  \n",
       "0        292.0      1479.0             11.0           106.0  292.0   1  \n",
       "1        466.0      1594.0             11.0           106.0  466.0   1  \n",
       "2        257.0      1479.0             11.0           106.0  257.0   1  \n",
       "3        408.0      2370.0             11.0           106.0  408.0   1  \n",
       "4        610.0      3562.0             11.0           106.0  610.0   1  "
      ]
     },
     "execution_count": 86,
     "metadata": {},
     "output_type": "execute_result"
    }
   ],
   "source": [
    "data.head()"
   ]
  },
  {
   "cell_type": "code",
   "execution_count": 11,
   "metadata": {},
   "outputs": [
    {
     "name": "stderr",
     "output_type": "stream",
     "text": [
      "100%|████████████████████████████████████████████████████████████████████████████████████| 2/2 [00:00<00:00,  2.58it/s]\n"
     ]
    },
    {
     "name": "stdout",
     "output_type": "stream",
     "text": [
      "29 29\n",
      "all_idx  : 13 24\n",
      "train_idx: 13 20\n",
      "valid_idx: 21 21\n",
      "test_idx : 25 25\n",
      "Training until validation scores don't improve for 100 rounds.\n",
      "[100]\ttraining's l2: 8297.45\tvalid_1's l2: 33865.7\n",
      "[200]\ttraining's l2: 4330.21\tvalid_1's l2: 30336\n",
      "[300]\ttraining's l2: 2917.34\tvalid_1's l2: 29756.2\n",
      "[400]\ttraining's l2: 2088.04\tvalid_1's l2: 29307.2\n",
      "[500]\ttraining's l2: 1566.78\tvalid_1's l2: 29098.4\n",
      "[600]\ttraining's l2: 1210.01\tvalid_1's l2: 29073.3\n",
      "[700]\ttraining's l2: 970.877\tvalid_1's l2: 29042.1\n",
      "[800]\ttraining's l2: 761.514\tvalid_1's l2: 28910.1\n",
      "Early stopping, best iteration is:\n",
      "[785]\ttraining's l2: 790.4\tvalid_1's l2: 28896.6\n",
      "0.7594149220102722\n",
      "valid mean: 597.6044421089272\n",
      "true  mean: 649.3121212121212\n",
      "test  mean: 498.3089027836437\n"
     ]
    },
    {
     "name": "stderr",
     "output_type": "stream",
     "text": [
      "100%|████████████████████████████████████████████████████████████████████████████████████| 2/2 [00:00<00:00,  2.52it/s]\n"
     ]
    },
    {
     "name": "stdout",
     "output_type": "stream",
     "text": [
      "29 29\n",
      "all_idx  : 13 25\n",
      "train_idx: 13 21\n",
      "valid_idx: 22 22\n",
      "test_idx : 26 26\n",
      "Training until validation scores don't improve for 100 rounds.\n",
      "[100]\ttraining's l2: 8960.79\tvalid_1's l2: 45424.7\n",
      "[200]\ttraining's l2: 4965.39\tvalid_1's l2: 44915.5\n",
      "[300]\ttraining's l2: 3333.06\tvalid_1's l2: 44686.8\n",
      "[400]\ttraining's l2: 2410.18\tvalid_1's l2: 44435\n",
      "[500]\ttraining's l2: 1874.15\tvalid_1's l2: 44378.2\n",
      "[600]\ttraining's l2: 1484.16\tvalid_1's l2: 44420.8\n",
      "Early stopping, best iteration is:\n",
      "[525]\ttraining's l2: 1764.58\tvalid_1's l2: 44347.9\n",
      "0.7356319961915723\n",
      "valid mean: 622.2060321741504\n",
      "true  mean: 616.5537878787878\n",
      "test  mean: 335.0132116566594\n"
     ]
    },
    {
     "name": "stderr",
     "output_type": "stream",
     "text": [
      "100%|████████████████████████████████████████████████████████████████████████████████████| 2/2 [00:00<00:00,  2.58it/s]\n"
     ]
    },
    {
     "name": "stdout",
     "output_type": "stream",
     "text": [
      "29 29\n",
      "all_idx  : 13 26\n",
      "train_idx: 13 22\n",
      "valid_idx: 23 23\n",
      "test_idx : 27 27\n",
      "Training until validation scores don't improve for 100 rounds.\n",
      "[100]\ttraining's l2: 10098.8\tvalid_1's l2: 35356.1\n",
      "[200]\ttraining's l2: 5542.35\tvalid_1's l2: 33904.7\n",
      "[300]\ttraining's l2: 3793.56\tvalid_1's l2: 33820.5\n",
      "Early stopping, best iteration is:\n",
      "[246]\ttraining's l2: 4631.42\tvalid_1's l2: 33528.7\n",
      "0.7824082341041323\n",
      "valid mean: 634.4264573093336\n",
      "true  mean: 673.0143939393939\n",
      "test  mean: 507.24666740850523\n"
     ]
    },
    {
     "name": "stderr",
     "output_type": "stream",
     "text": [
      "100%|████████████████████████████████████████████████████████████████████████████████████| 2/2 [00:00<00:00,  2.52it/s]\n"
     ]
    },
    {
     "name": "stdout",
     "output_type": "stream",
     "text": [
      "29 29\n",
      "all_idx  : 13 27\n",
      "train_idx: 13 23\n",
      "valid_idx: 24 24\n",
      "test_idx : 28 28\n",
      "Training until validation scores don't improve for 100 rounds.\n",
      "[100]\ttraining's l2: 10683\tvalid_1's l2: 311125\n",
      "[200]\ttraining's l2: 6111.38\tvalid_1's l2: 302843\n",
      "Early stopping, best iteration is:\n",
      "[136]\ttraining's l2: 8351.28\tvalid_1's l2: 302017\n",
      "0.6075122323501823\n",
      "valid mean: 653.0269497681012\n",
      "true  mean: 899.8204545454546\n",
      "test  mean: 504.1382169474577\n"
     ]
    }
   ],
   "source": [
    "for month in [25,26,27,28]: \n",
    "    m_type = 'lgb' \n",
    "    \n",
    "    data_df, stat_feat = get_stat_feature(data)\n",
    "    \n",
    "    num_feat = ['regYear'] + stat_feat\n",
    "    cate_feat = ['adcode','bodyType','model','regMonth']\n",
    "    \n",
    "    if m_type == 'lgb':\n",
    "        for i in cate_feat:\n",
    "            data_df[i] = data_df[i].astype('category')\n",
    "    elif m_type == 'xgb':\n",
    "        lbl = LabelEncoder()  \n",
    "        for i in tqdm(cate_feat):\n",
    "            data_df[i] = lbl.fit_transform(data_df[i].astype(str))\n",
    "           \n",
    "    features = num_feat + cate_feat\n",
    "    print(len(features), len(set(features)))   \n",
    "    \n",
    "    sub,val_pred = get_train_model(data_df, month, m_type)   \n",
    "    data.loc[(data.regMonth==(month-24))&(data.regYear==2018), 'salesVolume'] = sub['forecastVolum'].values\n",
    "    data.loc[(data.regMonth==(month-24))&(data.regYear==2018), 'label'      ] = sub['forecastVolum'].values\t\n",
    "sub = data.loc[(data.regMonth>=1)&(data.regYear==2018), ['id','salesVolume']]\n",
    "sub.columns = ['id','forecastVolum']\n",
    "sub[['id','forecastVolum']].round().astype(int).to_csv('submit/yulao.csv', index=False)\n"
   ]
  },
  {
   "cell_type": "code",
   "execution_count": 68,
   "metadata": {},
   "outputs": [
    {
     "name": "stderr",
     "output_type": "stream",
     "text": [
      "100%|████████████████████████████████████████████████████████████████████████████████████| 4/4 [00:02<00:00,  1.37it/s]\n"
     ]
    },
    {
     "name": "stdout",
     "output_type": "stream",
     "text": [
      "all_idx  : 13 24\n",
      "train_idx: 13 20\n",
      "valid_idx: 21 21\n",
      "test_idx : 25 25\n",
      "Training until validation scores don't improve for 100 rounds.\n",
      "[100]\ttraining's l2: 86584.9\tvalid_1's l2: 151719\n",
      "[200]\ttraining's l2: 27784.3\tvalid_1's l2: 71704.5\n",
      "[300]\ttraining's l2: 14902.5\tvalid_1's l2: 57361.3\n",
      "[400]\ttraining's l2: 10243.5\tvalid_1's l2: 52224.7\n",
      "[500]\ttraining's l2: 7869.38\tvalid_1's l2: 50304.7\n",
      "[600]\ttraining's l2: 6385.06\tvalid_1's l2: 49569.7\n",
      "[700]\ttraining's l2: 5380.65\tvalid_1's l2: 48911.9\n",
      "[800]\ttraining's l2: 4634.41\tvalid_1's l2: 48274\n",
      "[900]\ttraining's l2: 4071.47\tvalid_1's l2: 48026.2\n",
      "[1000]\ttraining's l2: 3625\tvalid_1's l2: 47641.9\n",
      "[1100]\ttraining's l2: 3253.2\tvalid_1's l2: 47425.4\n",
      "[1200]\ttraining's l2: 2928.61\tvalid_1's l2: 47143.3\n",
      "[1300]\ttraining's l2: 2653.04\tvalid_1's l2: 46870.8\n",
      "[1400]\ttraining's l2: 2414.07\tvalid_1's l2: 46669.9\n",
      "[1500]\ttraining's l2: 2207.68\tvalid_1's l2: 46487.6\n",
      "[1600]\ttraining's l2: 2028.06\tvalid_1's l2: 46336.7\n",
      "[1700]\ttraining's l2: 1876.96\tvalid_1's l2: 46208.4\n",
      "[1800]\ttraining's l2: 1749.37\tvalid_1's l2: 46176.2\n",
      "[1900]\ttraining's l2: 1632.35\tvalid_1's l2: 46079.2\n",
      "[2000]\ttraining's l2: 1525.02\tvalid_1's l2: 46029.5\n",
      "[2100]\ttraining's l2: 1420.06\tvalid_1's l2: 45984.2\n",
      "[2200]\ttraining's l2: 1322.58\tvalid_1's l2: 45885.2\n",
      "Early stopping, best iteration is:\n",
      "[2188]\ttraining's l2: 1333.16\tvalid_1's l2: 45878\n",
      "0.7657263463789578\n"
     ]
    },
    {
     "name": "stderr",
     "output_type": "stream",
     "text": [
      "100%|████████████████████████████████████████████████████████████████████████████████████| 4/4 [00:02<00:00,  1.41it/s]\n"
     ]
    },
    {
     "name": "stdout",
     "output_type": "stream",
     "text": [
      "all_idx  : 13 25\n",
      "train_idx: 13 21\n",
      "valid_idx: 22 22\n",
      "test_idx : 26 26\n",
      "Training until validation scores don't improve for 100 rounds.\n",
      "[100]\ttraining's l2: 90083.5\tvalid_1's l2: 118412\n",
      "[200]\ttraining's l2: 28475.8\tvalid_1's l2: 59906.1\n",
      "[300]\ttraining's l2: 15309.6\tvalid_1's l2: 52080.3\n",
      "[400]\ttraining's l2: 10785.7\tvalid_1's l2: 50404.3\n",
      "[500]\ttraining's l2: 8324.54\tvalid_1's l2: 49632.1\n",
      "[600]\ttraining's l2: 6828.3\tvalid_1's l2: 49046.4\n",
      "[700]\ttraining's l2: 5813.9\tvalid_1's l2: 48997.8\n",
      "Early stopping, best iteration is:\n",
      "[648]\ttraining's l2: 6301.83\tvalid_1's l2: 48762.4\n",
      "0.7352932759641437\n"
     ]
    },
    {
     "name": "stderr",
     "output_type": "stream",
     "text": [
      "100%|████████████████████████████████████████████████████████████████████████████████████| 4/4 [00:02<00:00,  1.40it/s]\n"
     ]
    },
    {
     "name": "stdout",
     "output_type": "stream",
     "text": [
      "all_idx  : 13 26\n",
      "train_idx: 13 22\n",
      "valid_idx: 23 23\n",
      "test_idx : 27 27\n",
      "Training until validation scores don't improve for 100 rounds.\n",
      "[100]\ttraining's l2: 93591.6\tvalid_1's l2: 135289\n",
      "[200]\ttraining's l2: 29582.9\tvalid_1's l2: 52574.8\n",
      "[300]\ttraining's l2: 15864.8\tvalid_1's l2: 39181.2\n",
      "[400]\ttraining's l2: 11154.7\tvalid_1's l2: 36023.5\n",
      "[500]\ttraining's l2: 8739.67\tvalid_1's l2: 35331.5\n",
      "[600]\ttraining's l2: 7173.39\tvalid_1's l2: 34526.5\n",
      "[700]\ttraining's l2: 6126.06\tvalid_1's l2: 34402.5\n",
      "[800]\ttraining's l2: 5347.97\tvalid_1's l2: 34349\n",
      "[900]\ttraining's l2: 4770.82\tvalid_1's l2: 34426\n",
      "Early stopping, best iteration is:\n",
      "[806]\ttraining's l2: 5308.31\tvalid_1's l2: 34325.1\n",
      "0.7811424903161602\n"
     ]
    },
    {
     "name": "stderr",
     "output_type": "stream",
     "text": [
      "100%|████████████████████████████████████████████████████████████████████████████████████| 4/4 [00:02<00:00,  1.38it/s]\n"
     ]
    },
    {
     "name": "stdout",
     "output_type": "stream",
     "text": [
      "all_idx  : 13 27\n",
      "train_idx: 13 23\n",
      "valid_idx: 24 24\n",
      "test_idx : 28 28\n",
      "Training until validation scores don't improve for 100 rounds.\n",
      "[100]\ttraining's l2: 96023.9\tvalid_1's l2: 552065\n",
      "[200]\ttraining's l2: 29709.3\tvalid_1's l2: 354551\n",
      "[300]\ttraining's l2: 16067.9\tvalid_1's l2: 299015\n",
      "[400]\ttraining's l2: 11490.5\tvalid_1's l2: 282547\n",
      "[500]\ttraining's l2: 9067.98\tvalid_1's l2: 274322\n",
      "[600]\ttraining's l2: 7522.51\tvalid_1's l2: 271372\n",
      "[700]\ttraining's l2: 6477.28\tvalid_1's l2: 271395\n",
      "Early stopping, best iteration is:\n",
      "[658]\ttraining's l2: 6879.88\tvalid_1's l2: 270441\n",
      "0.6226761089064834\n"
     ]
    }
   ],
   "source": [
    "for month in [25,26,27,28]: \n",
    "    m_type = 'lgb' \n",
    "    \n",
    "    data_df, stat_feat = get_stat_feature(data)\n",
    "    \n",
    "    num_feat = ['regYear','regMonth','popularity'] + stat_feat\n",
    "    cate_feat = ['adcode','bodyType','model']\n",
    "    \n",
    "    if m_type == 'lgb':\n",
    "        for i in cate_feat:\n",
    "            data_df[i] = data_df[i].astype('category')\n",
    "    elif m_type == 'xgb':\n",
    "        lbl = LabelEncoder()  \n",
    "        for i in tqdm(cate_feat):\n",
    "            data_df[i] = lbl.fit_transform(data_df[i].astype(str))\n",
    "           \n",
    "    features = num_feat + cate_feat\n",
    "#     print(len(features), len(set(features)))   \n",
    "    \n",
    "    sub,val_pred = get_train_model(data_df, month, m_type)   \n",
    "    data.loc[(data.regMonth==(month-24))&(data.regYear==2018), 'salesVolume'] = sub['forecastVolum'].values\n",
    "    data.loc[(data.regMonth==(month-24))&(data.regYear==2018), 'label'      ] = sub['forecastVolum'].values\n",
    "    \n",
    "    \n",
    "    \n",
    "    \n",
    "    \n",
    "sub = data.loc[(data.regMonth>=1)&(data.regYear==2018), ['id','salesVolume']]\n",
    "sub.columns = ['id','forecastVolum']\n",
    "# sub[['id','forecastVolum']].round().astype(int).to_csv('CCF_sales.csv', index=False)\n"
   ]
  },
  {
   "cell_type": "code",
   "execution_count": 69,
   "metadata": {},
   "outputs": [],
   "source": [
    "sub[['id','forecastVolum']].round().astype(int).to_csv('CCF_sales0914.csv', index=False)"
   ]
  },
  {
   "cell_type": "code",
   "execution_count": 38,
   "metadata": {},
   "outputs": [
    {
     "name": "stderr",
     "output_type": "stream",
     "text": [
      "100%|████████████████████████████████████████████████████████████████████████████████████| 4/4 [00:05<00:00,  1.38s/it]\n"
     ]
    },
    {
     "name": "stdout",
     "output_type": "stream",
     "text": [
      "53 53\n",
      "all_idx  : 13 24\n",
      "train_idx: 13 20\n",
      "valid_idx: 21 21\n",
      "test_idx : 25 25\n",
      "Training until validation scores don't improve for 100 rounds.\n",
      "[100]\ttraining's l2: 7291.26\tvalid_1's l2: 37932.3\n",
      "[200]\ttraining's l2: 3715.93\tvalid_1's l2: 35716.9\n",
      "[300]\ttraining's l2: 2515.27\tvalid_1's l2: 35194.8\n",
      "[400]\ttraining's l2: 1831.38\tvalid_1's l2: 34788.8\n",
      "[500]\ttraining's l2: 1397.64\tvalid_1's l2: 34608.6\n",
      "[600]\ttraining's l2: 1065.51\tvalid_1's l2: 34527.1\n",
      "[700]\ttraining's l2: 849.095\tvalid_1's l2: 34415.2\n",
      "[800]\ttraining's l2: 679.238\tvalid_1's l2: 34333.1\n",
      "[900]\ttraining's l2: 545.247\tvalid_1's l2: 34326.4\n",
      "Early stopping, best iteration is:\n",
      "[838]\ttraining's l2: 624.086\tvalid_1's l2: 34316.6\n",
      "0.7559303097480222\n",
      "valid mean: 602.8972278482273\n",
      "true  mean: 649.3121212121212\n",
      "test  mean: 493.9801201875369\n"
     ]
    },
    {
     "name": "stderr",
     "output_type": "stream",
     "text": [
      "100%|████████████████████████████████████████████████████████████████████████████████████| 4/4 [00:05<00:00,  1.35s/it]\n"
     ]
    },
    {
     "name": "stdout",
     "output_type": "stream",
     "text": [
      "53 53\n",
      "all_idx  : 13 25\n",
      "train_idx: 13 21\n",
      "valid_idx: 22 22\n",
      "test_idx : 26 26\n",
      "Training until validation scores don't improve for 100 rounds.\n",
      "[100]\ttraining's l2: 7936.91\tvalid_1's l2: 41558.5\n",
      "Early stopping, best iteration is:\n",
      "[75]\ttraining's l2: 10761.5\tvalid_1's l2: 41117.3\n",
      "0.7414955122487169\n",
      "valid mean: 623.4500376146684\n",
      "true  mean: 616.5537878787878\n",
      "test  mean: 324.6451813135614\n"
     ]
    },
    {
     "name": "stderr",
     "output_type": "stream",
     "text": [
      "100%|████████████████████████████████████████████████████████████████████████████████████| 4/4 [00:05<00:00,  1.36s/it]\n"
     ]
    },
    {
     "name": "stdout",
     "output_type": "stream",
     "text": [
      "53 53\n",
      "all_idx  : 13 26\n",
      "train_idx: 13 22\n",
      "valid_idx: 23 23\n",
      "test_idx : 27 27\n",
      "Training until validation scores don't improve for 100 rounds.\n",
      "[100]\ttraining's l2: 8653.84\tvalid_1's l2: 32560.4\n",
      "[200]\ttraining's l2: 4627.91\tvalid_1's l2: 32133.2\n",
      "Early stopping, best iteration is:\n",
      "[155]\ttraining's l2: 5757.15\tvalid_1's l2: 31853.4\n",
      "0.7794578141087838\n",
      "valid mean: 639.6227869473659\n",
      "true  mean: 673.0143939393939\n",
      "test  mean: 479.55100257280156\n"
     ]
    },
    {
     "name": "stderr",
     "output_type": "stream",
     "text": [
      "100%|████████████████████████████████████████████████████████████████████████████████████| 4/4 [00:05<00:00,  1.40s/it]\n"
     ]
    },
    {
     "name": "stdout",
     "output_type": "stream",
     "text": [
      "53 53\n",
      "all_idx  : 13 27\n",
      "train_idx: 13 23\n",
      "valid_idx: 24 24\n",
      "test_idx : 28 28\n",
      "Training until validation scores don't improve for 100 rounds.\n",
      "[100]\ttraining's l2: 9306.24\tvalid_1's l2: 302435\n",
      "[200]\ttraining's l2: 5107.21\tvalid_1's l2: 292129\n",
      "[300]\ttraining's l2: 3583.18\tvalid_1's l2: 289373\n",
      "[400]\ttraining's l2: 2709.06\tvalid_1's l2: 288389\n",
      "[500]\ttraining's l2: 2162.77\tvalid_1's l2: 287983\n",
      "[600]\ttraining's l2: 1746.75\tvalid_1's l2: 287504\n",
      "[700]\ttraining's l2: 1446.22\tvalid_1's l2: 287029\n",
      "[800]\ttraining's l2: 1196.94\tvalid_1's l2: 286429\n",
      "[900]\ttraining's l2: 1008.26\tvalid_1's l2: 286030\n",
      "Early stopping, best iteration is:\n",
      "[856]\ttraining's l2: 1089.91\tvalid_1's l2: 286004\n",
      "0.588139278724323\n",
      "valid mean: 645.3917897243205\n",
      "true  mean: 899.8204545454546\n",
      "test  mean: 468.0356962498267\n"
     ]
    }
   ],
   "source": [
    "for month in [25,26,27,28]: \n",
    "    m_type = 'lgb' \n",
    "    \n",
    "    data_df, stat_feat = get_stat_feature(data)\n",
    "    \n",
    "    num_feat = ['regYear'] + stat_feat\n",
    "    cate_feat = ['adcode','bodyType','model','regMonth']\n",
    "    \n",
    "    if m_type == 'lgb':\n",
    "        for i in cate_feat:\n",
    "            data_df[i] = data_df[i].astype('category')\n",
    "    elif m_type == 'xgb':\n",
    "        lbl = LabelEncoder()  \n",
    "        for i in tqdm(cate_feat):\n",
    "            data_df[i] = lbl.fit_transform(data_df[i].astype(str))\n",
    "           \n",
    "    features = num_feat + cate_feat\n",
    "    print(len(features), len(set(features)))   \n",
    "    \n",
    "    sub,val_pred = get_train_model(data_df, month, m_type)   \n",
    "    data.loc[(data.regMonth==(month-24))&(data.regYear==2018), 'salesVolume'] = sub['forecastVolum'].values\n",
    "    data.loc[(data.regMonth==(month-24))&(data.regYear==2018), 'label'      ] = sub['forecastVolum'].values\n",
    "sub = data.loc[(data.regMonth>=1)&(data.regYear==2018), ['id','salesVolume']]\n",
    "sub.columns = ['id','forecastVolum']\n",
    "# sub[['id','forecastVolum']].round().astype(int).to_csv('CCF_sales.csv', index=False)\n"
   ]
  }
 ],
 "metadata": {
  "kernelspec": {
   "display_name": "Python 3",
   "language": "python",
   "name": "python3"
  },
  "language_info": {
   "codemirror_mode": {
    "name": "ipython",
    "version": 3
   },
   "file_extension": ".py",
   "mimetype": "text/x-python",
   "name": "python",
   "nbconvert_exporter": "python",
   "pygments_lexer": "ipython3",
   "version": "3.5.6"
  }
 },
 "nbformat": 4,
 "nbformat_minor": 2
}
