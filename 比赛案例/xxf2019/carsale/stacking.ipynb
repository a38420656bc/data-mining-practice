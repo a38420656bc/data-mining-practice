{
 "cells": [
  {
   "cell_type": "markdown",
   "metadata": {
    "colab_type": "text",
    "id": "kZuI6FRX93tx"
   },
   "source": [
    "# 笨办法融合一下\n",
    "\n",
    "# lgb_mae*0.3+lgb_mse*0.3 +cat*0.3 +xgb*0.1)*0.5 +(guize1*0.5+guize2*0.5)*0.5\n",
    "#LGB 0.636 mse\n",
    "#0.639 mae"
   ]
  },
  {
   "cell_type": "markdown",
   "metadata": {
    "colab_type": "text",
    "id": "McVfqbSalxXp"
   },
   "source": [
    "# 0.50151896000 lgb"
   ]
  },
  {
   "cell_type": "code",
   "execution_count": 0,
   "metadata": {
    "colab": {
     "base_uri": "https://localhost:8080/",
     "height": 232
    },
    "colab_type": "code",
    "id": "WYqofqu086Hv",
    "outputId": "e92c20a5-f6f2-43bb-9786-a406d2474ab2"
   },
   "outputs": [
    {
     "name": "stdout",
     "output_type": "stream",
     "text": [
      "E: Package 'python-software-properties' has no installation candidate\n",
      "Selecting previously unselected package google-drive-ocamlfuse.\n",
      "(Reading database ... 131183 files and directories currently installed.)\n",
      "Preparing to unpack .../google-drive-ocamlfuse_0.7.6-0ubuntu1~ubuntu18.04.1_amd64.deb ...\n",
      "Unpacking google-drive-ocamlfuse (0.7.6-0ubuntu1~ubuntu18.04.1) ...\n",
      "Setting up google-drive-ocamlfuse (0.7.6-0ubuntu1~ubuntu18.04.1) ...\n",
      "Processing triggers for man-db (2.8.3-2ubuntu0.1) ...\n",
      "Please, open the following URL in a web browser: https://accounts.google.com/o/oauth2/auth?client_id=32555940559.apps.googleusercontent.com&redirect_uri=urn%3Aietf%3Awg%3Aoauth%3A2.0%3Aoob&scope=https%3A%2F%2Fwww.googleapis.com%2Fauth%2Fdrive&response_type=code&access_type=offline&approval_prompt=force\n",
      "··········\n",
      "Please, open the following URL in a web browser: https://accounts.google.com/o/oauth2/auth?client_id=32555940559.apps.googleusercontent.com&redirect_uri=urn%3Aietf%3Awg%3Aoauth%3A2.0%3Aoob&scope=https%3A%2F%2Fwww.googleapis.com%2Fauth%2Fdrive&response_type=code&access_type=offline&approval_prompt=force\n",
      "Please enter the verification code: Access token retrieved correctly.\n"
     ]
    }
   ],
   "source": [
    "!apt-get install -y -qq software-properties-common python-software-properties module-init-tools\n",
    "!add-apt-repository -y ppa:alessandro-strada/ppa 2>&1 > /dev/null\n",
    "!apt-get update -qq 2>&1 > /dev/null\n",
    "!apt-get -y install -qq google-drive-ocamlfuse fuse\n",
    "from google.colab import auth\n",
    "auth.authenticate_user()\n",
    "from oauth2client.client import GoogleCredentials\n",
    "creds = GoogleCredentials.get_application_default()\n",
    "import getpass\n",
    "!google-drive-ocamlfuse -headless -id={creds.client_id} -secret={creds.client_secret} < /dev/null 2>&1 | grep URL\n",
    "vcode = getpass.getpass()\n",
    "!echo {vcode} | google-drive-ocamlfuse -headless -id={creds.client_id} -secret={creds.client_secret}\n"
   ]
  },
  {
   "cell_type": "code",
   "execution_count": 54,
   "metadata": {
    "colab": {
     "base_uri": "https://localhost:8080/",
     "height": 372
    },
    "colab_type": "code",
    "id": "T6_tyRn8vi2o",
    "outputId": "2c548d97-185b-4c41-87f0-9830f344fb72"
   },
   "outputs": [
    {
     "name": "stdout",
     "output_type": "stream",
     "text": [
      "0825ccf_carsale.csv\t   baseline2.ipynb\n",
      "0825ccf_car_sales_lgb.csv  catboost_info\n",
      "083101_car_sale.csv\t   ccf_car_sales082601.csv\n",
      "083101sub.csv\t\t   ccf_car_sales082602.csv\n",
      "083103_car_sale.csv\t   ccf_car_sales.csv\n",
      "083103sub.csv\t\t   ccf_car_sales_lgb.csv\n",
      "090101car_sales.csv\t   evaluation_public.csv\n",
      "090102car_sales.csv\t   evaluation_public_new.csv\n",
      "090103car_sales.csv\t   evaluation_public_xishao.csv\n",
      "090201car_sales.csv\t   guize1-new.ipynb\n",
      "baseline082601.ipynb\t   GuodongDrive\n",
      "baseline082701.ipynb\t   ronghe_car_sales.csv\n",
      "baseline082702.ipynb\t   submit_example.csv\n",
      "baseline082703.ipynb\t   train_sales_data.csv\n",
      "baseline082704.ipynb\t   train_sales_new.csv\n",
      "baseline083101.ipynb\t   train_search_data.csv\n",
      "baseline083102.ipynb\t   train_user_reply_data.csv\n",
      "baseline090101.ipynb\t   Untitled0.ipynb\n",
      "baseline1_copy.ipynb\t   xishao_car_sale.csv\n",
      "baseline1.ipynb\t\t   统计_car_sales.csv\n"
     ]
    }
   ],
   "source": [
    "!mkdir -p GuodongDrive\n",
    "!google-drive-ocamlfuse GuodongDrive\n",
    "import os\n",
    "os.chdir(\"GuodongDrive\")\n",
    "os.chdir(\"ccf/carsale\")\n",
    "!ls"
   ]
  },
  {
   "cell_type": "code",
   "execution_count": 1,
   "metadata": {
    "colab": {},
    "colab_type": "code",
    "id": "NFkq61fp1fC_"
   },
   "outputs": [],
   "source": [
    "import pandas as pd\n",
    "import numpy as np\n",
    "\n",
    "from sklearn.model_selection import KFold\n",
    "from sklearn.model_selection import train_test_split\n",
    "from sklearn.metrics import mean_squared_error as mse\n",
    "from sklearn.model_selection import GridSearchCV\n",
    "\n",
    "from sklearn.preprocessing import LabelEncoder\n",
    "\n",
    "import xgboost as xgb\n",
    "import lightgbm as lgb\n",
    "import catboost as ctb\n",
    "\n",
    "import matplotlib.pyplot as plt\n",
    "import seaborn as sns \n",
    "%matplotlib inline \n",
    "import warnings\n",
    "warnings.simplefilter(action='ignore', category=FutureWarning)\n",
    "warnings.filterwarnings('ignore')"
   ]
  },
  {
   "cell_type": "code",
   "execution_count": 2,
   "metadata": {
    "colab": {},
    "colab_type": "code",
    "id": "5GFXPa7wN-Je"
   },
   "outputs": [],
   "source": [
    "from sklearn import linear_model, svm, gaussian_process\n",
    "from sklearn.ensemble import RandomForestRegressor"
   ]
  },
  {
   "cell_type": "code",
   "execution_count": 3,
   "metadata": {},
   "outputs": [],
   "source": [
    "pd.set_option('display.max_columns', None)"
   ]
  },
  {
   "cell_type": "code",
   "execution_count": 4,
   "metadata": {},
   "outputs": [],
   "source": [
    "def score(data, pred='pred_label', label='label', group='model'):\n",
    "  \n",
    "    data['pred_label'] = data['pred_label'].apply(lambda x: 0 if x < 0 else x).round().astype(int)\n",
    "    data_agg = data.groupby('model').agg({\n",
    "        pred: list,\n",
    "        label: [list, 'mean'],\n",
    "\n",
    "    }).reset_index()\n",
    "\n",
    "    data_agg.columns = ['_'.join(col).strip() for col in data_agg.columns]\n",
    "    nrmse_score = []\n",
    "    for raw in data_agg[['{0}_list'.format(pred), '{0}_list'.format(label), '{0}_mean'.format(label)]].values:\n",
    "        nrmse_score.append(\n",
    "            mse(raw[0], raw[1]) ** 0.5 / raw[2]\n",
    "        )\n",
    "    print(1 - np.mean(nrmse_score))\n",
    "    return 1 - np.mean(nrmse_score)"
   ]
  },
  {
   "cell_type": "markdown",
   "metadata": {
    "colab_type": "text",
    "id": "gmvmwTj1QyD0"
   },
   "source": [
    "思路：  \n",
    "- 这种popularity\tcarCommentVolum\tnewsReplyVolum我感觉都是增长的，可以预测出来,我们可以单独用模型将接下来四个月份的这三个指标预测出来\n",
    "\n",
    "- 在统计分数的时候所用的验证集，已经作为模型的验证集训练过，所以得到的分数会偏高\n",
    "应该用split先将train_set分为train和valid，再去用17年最后的四个月作为统计分数的指标\n",
    "\n",
    "- 可以用KFold进行train_set和valid_set的训练\n",
    "\n",
    "- 他在训练时将特征model和type换成另一种表现方式，不妨把这种表现方式设为新的特征，model和type依然保留作为特征\n",
    "\n",
    "-预测流量指数考虑clfs = {\n",
    "        'svm':svm.SVR(), \n",
    "        'RandomForestRegressor':RandomForestRegressor(n_estimators=400),\n",
    "        'BayesianRidge':linear_model.BayesianRidge()\n",
    "       }\n",
    "for clf in clfs:\n",
    "    try:\n",
    "        clfs[clf].fit(X_train, y_train)\n",
    "        y_pred = clfs[clf].predict(X_test)\n",
    "        print(clf + \" cost:\" + str(np.sum(y_pred-y_test)/len(y_pred)) )"
   ]
  },
  {
   "cell_type": "code",
   "execution_count": 5,
   "metadata": {
    "colab": {},
    "colab_type": "code",
    "id": "11u-g-Hk1yV5"
   },
   "outputs": [],
   "source": [
    "train_sales_data = pd.read_csv('train_sales_data.csv')\n",
    "train_search_data = pd.read_csv('train_search_data.csv')\n",
    "train_user_reply_data = pd.read_csv('train_user_reply_data.csv')\n",
    "test = pd.read_csv('evaluation_public.csv')"
   ]
  },
  {
   "cell_type": "code",
   "execution_count": 6,
   "metadata": {},
   "outputs": [
    {
     "data": {
      "text/plain": [
       "array(['SUV', 'Sedan', 'MPV', 'Hatchback'], dtype=object)"
      ]
     },
     "execution_count": 6,
     "metadata": {},
     "output_type": "execute_result"
    }
   ],
   "source": [
    "train_sales_data['bodyType'].unique()"
   ]
  },
  {
   "cell_type": "code",
   "execution_count": 0,
   "metadata": {
    "colab": {
     "base_uri": "https://localhost:8080/",
     "height": 352
    },
    "colab_type": "code",
    "id": "6bRiNwZD3tg_",
    "outputId": "edaf5090-4f12-4f70-cc0e-9334ee331fcd"
   },
   "outputs": [
    {
     "data": {
      "text/html": [
       "<div>\n",
       "<style scoped>\n",
       "    .dataframe tbody tr th:only-of-type {\n",
       "        vertical-align: middle;\n",
       "    }\n",
       "\n",
       "    .dataframe tbody tr th {\n",
       "        vertical-align: top;\n",
       "    }\n",
       "\n",
       "    .dataframe thead th {\n",
       "        text-align: right;\n",
       "    }\n",
       "</style>\n",
       "<table border=\"1\" class=\"dataframe\">\n",
       "  <thead>\n",
       "    <tr style=\"text-align: right;\">\n",
       "      <th></th>\n",
       "      <th>id</th>\n",
       "      <th>province</th>\n",
       "      <th>adcode</th>\n",
       "      <th>model</th>\n",
       "      <th>regYear</th>\n",
       "      <th>regMonth</th>\n",
       "      <th>forecastVolum</th>\n",
       "      <th>qushi_v</th>\n",
       "    </tr>\n",
       "  </thead>\n",
       "  <tbody>\n",
       "    <tr>\n",
       "      <th>5270</th>\n",
       "      <td>5359</td>\n",
       "      <td>河北</td>\n",
       "      <td>130000</td>\n",
       "      <td>a9a43d1a7ecbe75d</td>\n",
       "      <td>2018</td>\n",
       "      <td>4</td>\n",
       "      <td>NaN</td>\n",
       "      <td>4.009867</td>\n",
       "    </tr>\n",
       "    <tr>\n",
       "      <th>5271</th>\n",
       "      <td>5360</td>\n",
       "      <td>河南</td>\n",
       "      <td>410000</td>\n",
       "      <td>a9a43d1a7ecbe75d</td>\n",
       "      <td>2018</td>\n",
       "      <td>4</td>\n",
       "      <td>NaN</td>\n",
       "      <td>3.543448</td>\n",
       "    </tr>\n",
       "    <tr>\n",
       "      <th>5272</th>\n",
       "      <td>5361</td>\n",
       "      <td>浙江</td>\n",
       "      <td>330000</td>\n",
       "      <td>a9a43d1a7ecbe75d</td>\n",
       "      <td>2018</td>\n",
       "      <td>4</td>\n",
       "      <td>NaN</td>\n",
       "      <td>11.047862</td>\n",
       "    </tr>\n",
       "    <tr>\n",
       "      <th>5273</th>\n",
       "      <td>5362</td>\n",
       "      <td>湖北</td>\n",
       "      <td>420000</td>\n",
       "      <td>a9a43d1a7ecbe75d</td>\n",
       "      <td>2018</td>\n",
       "      <td>4</td>\n",
       "      <td>NaN</td>\n",
       "      <td>6.149299</td>\n",
       "    </tr>\n",
       "    <tr>\n",
       "      <th>5274</th>\n",
       "      <td>5363</td>\n",
       "      <td>湖南</td>\n",
       "      <td>430000</td>\n",
       "      <td>a9a43d1a7ecbe75d</td>\n",
       "      <td>2018</td>\n",
       "      <td>4</td>\n",
       "      <td>NaN</td>\n",
       "      <td>9.926640</td>\n",
       "    </tr>\n",
       "    <tr>\n",
       "      <th>5275</th>\n",
       "      <td>5364</td>\n",
       "      <td>福建</td>\n",
       "      <td>350000</td>\n",
       "      <td>a9a43d1a7ecbe75d</td>\n",
       "      <td>2018</td>\n",
       "      <td>4</td>\n",
       "      <td>NaN</td>\n",
       "      <td>3.347938</td>\n",
       "    </tr>\n",
       "    <tr>\n",
       "      <th>5276</th>\n",
       "      <td>5365</td>\n",
       "      <td>辽宁</td>\n",
       "      <td>210000</td>\n",
       "      <td>a9a43d1a7ecbe75d</td>\n",
       "      <td>2018</td>\n",
       "      <td>4</td>\n",
       "      <td>NaN</td>\n",
       "      <td>2.723840</td>\n",
       "    </tr>\n",
       "    <tr>\n",
       "      <th>5277</th>\n",
       "      <td>5366</td>\n",
       "      <td>重庆</td>\n",
       "      <td>500000</td>\n",
       "      <td>a9a43d1a7ecbe75d</td>\n",
       "      <td>2018</td>\n",
       "      <td>4</td>\n",
       "      <td>NaN</td>\n",
       "      <td>3.632789</td>\n",
       "    </tr>\n",
       "    <tr>\n",
       "      <th>5278</th>\n",
       "      <td>5367</td>\n",
       "      <td>陕西</td>\n",
       "      <td>610000</td>\n",
       "      <td>a9a43d1a7ecbe75d</td>\n",
       "      <td>2018</td>\n",
       "      <td>4</td>\n",
       "      <td>NaN</td>\n",
       "      <td>7.321233</td>\n",
       "    </tr>\n",
       "    <tr>\n",
       "      <th>5279</th>\n",
       "      <td>5368</td>\n",
       "      <td>黑龙江</td>\n",
       "      <td>230000</td>\n",
       "      <td>a9a43d1a7ecbe75d</td>\n",
       "      <td>2018</td>\n",
       "      <td>4</td>\n",
       "      <td>NaN</td>\n",
       "      <td>1.811766</td>\n",
       "    </tr>\n",
       "  </tbody>\n",
       "</table>\n",
       "</div>"
      ],
      "text/plain": [
       "        id province  adcode             model  regYear  regMonth  \\\n",
       "5270  5359       河北  130000  a9a43d1a7ecbe75d     2018         4   \n",
       "5271  5360       河南  410000  a9a43d1a7ecbe75d     2018         4   \n",
       "5272  5361       浙江  330000  a9a43d1a7ecbe75d     2018         4   \n",
       "5273  5362       湖北  420000  a9a43d1a7ecbe75d     2018         4   \n",
       "5274  5363       湖南  430000  a9a43d1a7ecbe75d     2018         4   \n",
       "5275  5364       福建  350000  a9a43d1a7ecbe75d     2018         4   \n",
       "5276  5365       辽宁  210000  a9a43d1a7ecbe75d     2018         4   \n",
       "5277  5366       重庆  500000  a9a43d1a7ecbe75d     2018         4   \n",
       "5278  5367       陕西  610000  a9a43d1a7ecbe75d     2018         4   \n",
       "5279  5368      黑龙江  230000  a9a43d1a7ecbe75d     2018         4   \n",
       "\n",
       "      forecastVolum    qushi_v  \n",
       "5270            NaN   4.009867  \n",
       "5271            NaN   3.543448  \n",
       "5272            NaN  11.047862  \n",
       "5273            NaN   6.149299  \n",
       "5274            NaN   9.926640  \n",
       "5275            NaN   3.347938  \n",
       "5276            NaN   2.723840  \n",
       "5277            NaN   3.632789  \n",
       "5278            NaN   7.321233  \n",
       "5279            NaN   1.811766  "
      ]
     },
     "execution_count": 37,
     "metadata": {
      "tags": []
     },
     "output_type": "execute_result"
    }
   ],
   "source": [
    "test.tail(10)"
   ]
  },
  {
   "cell_type": "code",
   "execution_count": 7,
   "metadata": {
    "colab": {
     "base_uri": "https://localhost:8080/",
     "height": 352
    },
    "colab_type": "code",
    "id": "5kaa8veQ17W7",
    "outputId": "b55bc946-69fe-42a5-b45d-0ba6aa94e208"
   },
   "outputs": [
    {
     "data": {
      "text/html": [
       "<div>\n",
       "<style scoped>\n",
       "    .dataframe tbody tr th:only-of-type {\n",
       "        vertical-align: middle;\n",
       "    }\n",
       "\n",
       "    .dataframe tbody tr th {\n",
       "        vertical-align: top;\n",
       "    }\n",
       "\n",
       "    .dataframe thead th {\n",
       "        text-align: right;\n",
       "    }\n",
       "</style>\n",
       "<table border=\"1\" class=\"dataframe\">\n",
       "  <thead>\n",
       "    <tr style=\"text-align: right;\">\n",
       "      <th></th>\n",
       "      <th>adcode</th>\n",
       "      <th>bodyType</th>\n",
       "      <th>forecastVolum</th>\n",
       "      <th>id</th>\n",
       "      <th>model</th>\n",
       "      <th>province</th>\n",
       "      <th>regMonth</th>\n",
       "      <th>regYear</th>\n",
       "      <th>salesVolume</th>\n",
       "      <th>popularity</th>\n",
       "      <th>carCommentVolum</th>\n",
       "      <th>newsReplyVolum</th>\n",
       "    </tr>\n",
       "  </thead>\n",
       "  <tbody>\n",
       "    <tr>\n",
       "      <td>0</td>\n",
       "      <td>310000</td>\n",
       "      <td>SUV</td>\n",
       "      <td>NaN</td>\n",
       "      <td>NaN</td>\n",
       "      <td>3c974920a76ac9c1</td>\n",
       "      <td>上海</td>\n",
       "      <td>1</td>\n",
       "      <td>2016</td>\n",
       "      <td>292.0</td>\n",
       "      <td>1479.0</td>\n",
       "      <td>11.0</td>\n",
       "      <td>106.0</td>\n",
       "    </tr>\n",
       "    <tr>\n",
       "      <td>1</td>\n",
       "      <td>530000</td>\n",
       "      <td>SUV</td>\n",
       "      <td>NaN</td>\n",
       "      <td>NaN</td>\n",
       "      <td>3c974920a76ac9c1</td>\n",
       "      <td>云南</td>\n",
       "      <td>1</td>\n",
       "      <td>2016</td>\n",
       "      <td>466.0</td>\n",
       "      <td>1594.0</td>\n",
       "      <td>11.0</td>\n",
       "      <td>106.0</td>\n",
       "    </tr>\n",
       "    <tr>\n",
       "      <td>2</td>\n",
       "      <td>150000</td>\n",
       "      <td>SUV</td>\n",
       "      <td>NaN</td>\n",
       "      <td>NaN</td>\n",
       "      <td>3c974920a76ac9c1</td>\n",
       "      <td>内蒙古</td>\n",
       "      <td>1</td>\n",
       "      <td>2016</td>\n",
       "      <td>257.0</td>\n",
       "      <td>1479.0</td>\n",
       "      <td>11.0</td>\n",
       "      <td>106.0</td>\n",
       "    </tr>\n",
       "    <tr>\n",
       "      <td>3</td>\n",
       "      <td>110000</td>\n",
       "      <td>SUV</td>\n",
       "      <td>NaN</td>\n",
       "      <td>NaN</td>\n",
       "      <td>3c974920a76ac9c1</td>\n",
       "      <td>北京</td>\n",
       "      <td>1</td>\n",
       "      <td>2016</td>\n",
       "      <td>408.0</td>\n",
       "      <td>2370.0</td>\n",
       "      <td>11.0</td>\n",
       "      <td>106.0</td>\n",
       "    </tr>\n",
       "    <tr>\n",
       "      <td>4</td>\n",
       "      <td>510000</td>\n",
       "      <td>SUV</td>\n",
       "      <td>NaN</td>\n",
       "      <td>NaN</td>\n",
       "      <td>3c974920a76ac9c1</td>\n",
       "      <td>四川</td>\n",
       "      <td>1</td>\n",
       "      <td>2016</td>\n",
       "      <td>610.0</td>\n",
       "      <td>3562.0</td>\n",
       "      <td>11.0</td>\n",
       "      <td>106.0</td>\n",
       "    </tr>\n",
       "    <tr>\n",
       "      <td>5</td>\n",
       "      <td>340000</td>\n",
       "      <td>SUV</td>\n",
       "      <td>NaN</td>\n",
       "      <td>NaN</td>\n",
       "      <td>3c974920a76ac9c1</td>\n",
       "      <td>安徽</td>\n",
       "      <td>1</td>\n",
       "      <td>2016</td>\n",
       "      <td>206.0</td>\n",
       "      <td>1314.0</td>\n",
       "      <td>11.0</td>\n",
       "      <td>106.0</td>\n",
       "    </tr>\n",
       "    <tr>\n",
       "      <td>6</td>\n",
       "      <td>370000</td>\n",
       "      <td>SUV</td>\n",
       "      <td>NaN</td>\n",
       "      <td>NaN</td>\n",
       "      <td>3c974920a76ac9c1</td>\n",
       "      <td>山东</td>\n",
       "      <td>1</td>\n",
       "      <td>2016</td>\n",
       "      <td>503.0</td>\n",
       "      <td>3476.0</td>\n",
       "      <td>11.0</td>\n",
       "      <td>106.0</td>\n",
       "    </tr>\n",
       "    <tr>\n",
       "      <td>7</td>\n",
       "      <td>140000</td>\n",
       "      <td>SUV</td>\n",
       "      <td>NaN</td>\n",
       "      <td>NaN</td>\n",
       "      <td>3c974920a76ac9c1</td>\n",
       "      <td>山西</td>\n",
       "      <td>1</td>\n",
       "      <td>2016</td>\n",
       "      <td>236.0</td>\n",
       "      <td>1422.0</td>\n",
       "      <td>11.0</td>\n",
       "      <td>106.0</td>\n",
       "    </tr>\n",
       "    <tr>\n",
       "      <td>8</td>\n",
       "      <td>440000</td>\n",
       "      <td>SUV</td>\n",
       "      <td>NaN</td>\n",
       "      <td>NaN</td>\n",
       "      <td>3c974920a76ac9c1</td>\n",
       "      <td>广东</td>\n",
       "      <td>1</td>\n",
       "      <td>2016</td>\n",
       "      <td>3635.0</td>\n",
       "      <td>7182.0</td>\n",
       "      <td>11.0</td>\n",
       "      <td>106.0</td>\n",
       "    </tr>\n",
       "    <tr>\n",
       "      <td>9</td>\n",
       "      <td>450000</td>\n",
       "      <td>SUV</td>\n",
       "      <td>NaN</td>\n",
       "      <td>NaN</td>\n",
       "      <td>3c974920a76ac9c1</td>\n",
       "      <td>广西</td>\n",
       "      <td>1</td>\n",
       "      <td>2016</td>\n",
       "      <td>450.0</td>\n",
       "      <td>1163.0</td>\n",
       "      <td>11.0</td>\n",
       "      <td>106.0</td>\n",
       "    </tr>\n",
       "  </tbody>\n",
       "</table>\n",
       "</div>"
      ],
      "text/plain": [
       "   adcode bodyType  forecastVolum  id             model province  regMonth  \\\n",
       "0  310000      SUV            NaN NaN  3c974920a76ac9c1       上海         1   \n",
       "1  530000      SUV            NaN NaN  3c974920a76ac9c1       云南         1   \n",
       "2  150000      SUV            NaN NaN  3c974920a76ac9c1      内蒙古         1   \n",
       "3  110000      SUV            NaN NaN  3c974920a76ac9c1       北京         1   \n",
       "4  510000      SUV            NaN NaN  3c974920a76ac9c1       四川         1   \n",
       "5  340000      SUV            NaN NaN  3c974920a76ac9c1       安徽         1   \n",
       "6  370000      SUV            NaN NaN  3c974920a76ac9c1       山东         1   \n",
       "7  140000      SUV            NaN NaN  3c974920a76ac9c1       山西         1   \n",
       "8  440000      SUV            NaN NaN  3c974920a76ac9c1       广东         1   \n",
       "9  450000      SUV            NaN NaN  3c974920a76ac9c1       广西         1   \n",
       "\n",
       "   regYear  salesVolume  popularity  carCommentVolum  newsReplyVolum  \n",
       "0     2016        292.0      1479.0             11.0           106.0  \n",
       "1     2016        466.0      1594.0             11.0           106.0  \n",
       "2     2016        257.0      1479.0             11.0           106.0  \n",
       "3     2016        408.0      2370.0             11.0           106.0  \n",
       "4     2016        610.0      3562.0             11.0           106.0  \n",
       "5     2016        206.0      1314.0             11.0           106.0  \n",
       "6     2016        503.0      3476.0             11.0           106.0  \n",
       "7     2016        236.0      1422.0             11.0           106.0  \n",
       "8     2016       3635.0      7182.0             11.0           106.0  \n",
       "9     2016        450.0      1163.0             11.0           106.0  "
      ]
     },
     "execution_count": 7,
     "metadata": {},
     "output_type": "execute_result"
    }
   ],
   "source": [
    "data = pd.concat([train_sales_data, test], ignore_index=True)\n",
    "data = data.merge(train_search_data, 'left', on=['province', 'adcode', 'model', 'regYear', 'regMonth'])\n",
    "data = data.merge(train_user_reply_data, 'left', on=['model', 'regYear', 'regMonth'])\n",
    "data.head(10)"
   ]
  },
  {
   "cell_type": "code",
   "execution_count": 8,
   "metadata": {
    "colab": {
     "base_uri": "https://localhost:8080/",
     "height": 124
    },
    "colab_type": "code",
    "id": "BGvKRqTa17dj",
    "outputId": "b150fbdf-ef62-4538-c160-ce59f6b779cf"
   },
   "outputs": [],
   "source": [
    "data['label'] = data['salesVolume']\n",
    "data['id'] = data['id'].fillna(0).astype(int)\n",
    "del data['salesVolume'], data['forecastVolum']\n",
    "data['bodyType_2'] = data['model'].map(train_sales_data.drop_duplicates('model').set_index('model')['bodyType'])\n",
    "data['model'].head()\n",
    "data['model_2'] = data['model']\n",
    "#一种model可能对应多种type"
   ]
  },
  {
   "cell_type": "code",
   "execution_count": 9,
   "metadata": {
    "colab": {
     "base_uri": "https://localhost:8080/",
     "height": 352
    },
    "colab_type": "code",
    "id": "6hZZOaQO17iy",
    "outputId": "d6bd1719-d33e-4ea4-b407-ba3138f10014"
   },
   "outputs": [
    {
     "data": {
      "text/html": [
       "<div>\n",
       "<style scoped>\n",
       "    .dataframe tbody tr th:only-of-type {\n",
       "        vertical-align: middle;\n",
       "    }\n",
       "\n",
       "    .dataframe tbody tr th {\n",
       "        vertical-align: top;\n",
       "    }\n",
       "\n",
       "    .dataframe thead th {\n",
       "        text-align: right;\n",
       "    }\n",
       "</style>\n",
       "<table border=\"1\" class=\"dataframe\">\n",
       "  <thead>\n",
       "    <tr style=\"text-align: right;\">\n",
       "      <th></th>\n",
       "      <th>adcode</th>\n",
       "      <th>bodyType</th>\n",
       "      <th>id</th>\n",
       "      <th>model</th>\n",
       "      <th>province</th>\n",
       "      <th>regMonth</th>\n",
       "      <th>regYear</th>\n",
       "      <th>popularity</th>\n",
       "      <th>carCommentVolum</th>\n",
       "      <th>newsReplyVolum</th>\n",
       "      <th>label</th>\n",
       "      <th>bodyType_2</th>\n",
       "      <th>model_2</th>\n",
       "    </tr>\n",
       "  </thead>\n",
       "  <tbody>\n",
       "    <tr>\n",
       "      <td>0</td>\n",
       "      <td>310000</td>\n",
       "      <td>SUV</td>\n",
       "      <td>0</td>\n",
       "      <td>3c974920a76ac9c1</td>\n",
       "      <td>上海</td>\n",
       "      <td>1</td>\n",
       "      <td>2016</td>\n",
       "      <td>1479.0</td>\n",
       "      <td>11.0</td>\n",
       "      <td>106.0</td>\n",
       "      <td>292.0</td>\n",
       "      <td>0</td>\n",
       "      <td>0</td>\n",
       "    </tr>\n",
       "    <tr>\n",
       "      <td>1</td>\n",
       "      <td>530000</td>\n",
       "      <td>SUV</td>\n",
       "      <td>0</td>\n",
       "      <td>3c974920a76ac9c1</td>\n",
       "      <td>云南</td>\n",
       "      <td>1</td>\n",
       "      <td>2016</td>\n",
       "      <td>1594.0</td>\n",
       "      <td>11.0</td>\n",
       "      <td>106.0</td>\n",
       "      <td>466.0</td>\n",
       "      <td>0</td>\n",
       "      <td>0</td>\n",
       "    </tr>\n",
       "    <tr>\n",
       "      <td>2</td>\n",
       "      <td>150000</td>\n",
       "      <td>SUV</td>\n",
       "      <td>0</td>\n",
       "      <td>3c974920a76ac9c1</td>\n",
       "      <td>内蒙古</td>\n",
       "      <td>1</td>\n",
       "      <td>2016</td>\n",
       "      <td>1479.0</td>\n",
       "      <td>11.0</td>\n",
       "      <td>106.0</td>\n",
       "      <td>257.0</td>\n",
       "      <td>0</td>\n",
       "      <td>0</td>\n",
       "    </tr>\n",
       "    <tr>\n",
       "      <td>3</td>\n",
       "      <td>110000</td>\n",
       "      <td>SUV</td>\n",
       "      <td>0</td>\n",
       "      <td>3c974920a76ac9c1</td>\n",
       "      <td>北京</td>\n",
       "      <td>1</td>\n",
       "      <td>2016</td>\n",
       "      <td>2370.0</td>\n",
       "      <td>11.0</td>\n",
       "      <td>106.0</td>\n",
       "      <td>408.0</td>\n",
       "      <td>0</td>\n",
       "      <td>0</td>\n",
       "    </tr>\n",
       "    <tr>\n",
       "      <td>4</td>\n",
       "      <td>510000</td>\n",
       "      <td>SUV</td>\n",
       "      <td>0</td>\n",
       "      <td>3c974920a76ac9c1</td>\n",
       "      <td>四川</td>\n",
       "      <td>1</td>\n",
       "      <td>2016</td>\n",
       "      <td>3562.0</td>\n",
       "      <td>11.0</td>\n",
       "      <td>106.0</td>\n",
       "      <td>610.0</td>\n",
       "      <td>0</td>\n",
       "      <td>0</td>\n",
       "    </tr>\n",
       "    <tr>\n",
       "      <td>5</td>\n",
       "      <td>340000</td>\n",
       "      <td>SUV</td>\n",
       "      <td>0</td>\n",
       "      <td>3c974920a76ac9c1</td>\n",
       "      <td>安徽</td>\n",
       "      <td>1</td>\n",
       "      <td>2016</td>\n",
       "      <td>1314.0</td>\n",
       "      <td>11.0</td>\n",
       "      <td>106.0</td>\n",
       "      <td>206.0</td>\n",
       "      <td>0</td>\n",
       "      <td>0</td>\n",
       "    </tr>\n",
       "    <tr>\n",
       "      <td>6</td>\n",
       "      <td>370000</td>\n",
       "      <td>SUV</td>\n",
       "      <td>0</td>\n",
       "      <td>3c974920a76ac9c1</td>\n",
       "      <td>山东</td>\n",
       "      <td>1</td>\n",
       "      <td>2016</td>\n",
       "      <td>3476.0</td>\n",
       "      <td>11.0</td>\n",
       "      <td>106.0</td>\n",
       "      <td>503.0</td>\n",
       "      <td>0</td>\n",
       "      <td>0</td>\n",
       "    </tr>\n",
       "    <tr>\n",
       "      <td>7</td>\n",
       "      <td>140000</td>\n",
       "      <td>SUV</td>\n",
       "      <td>0</td>\n",
       "      <td>3c974920a76ac9c1</td>\n",
       "      <td>山西</td>\n",
       "      <td>1</td>\n",
       "      <td>2016</td>\n",
       "      <td>1422.0</td>\n",
       "      <td>11.0</td>\n",
       "      <td>106.0</td>\n",
       "      <td>236.0</td>\n",
       "      <td>0</td>\n",
       "      <td>0</td>\n",
       "    </tr>\n",
       "    <tr>\n",
       "      <td>8</td>\n",
       "      <td>440000</td>\n",
       "      <td>SUV</td>\n",
       "      <td>0</td>\n",
       "      <td>3c974920a76ac9c1</td>\n",
       "      <td>广东</td>\n",
       "      <td>1</td>\n",
       "      <td>2016</td>\n",
       "      <td>7182.0</td>\n",
       "      <td>11.0</td>\n",
       "      <td>106.0</td>\n",
       "      <td>3635.0</td>\n",
       "      <td>0</td>\n",
       "      <td>0</td>\n",
       "    </tr>\n",
       "    <tr>\n",
       "      <td>9</td>\n",
       "      <td>450000</td>\n",
       "      <td>SUV</td>\n",
       "      <td>0</td>\n",
       "      <td>3c974920a76ac9c1</td>\n",
       "      <td>广西</td>\n",
       "      <td>1</td>\n",
       "      <td>2016</td>\n",
       "      <td>1163.0</td>\n",
       "      <td>11.0</td>\n",
       "      <td>106.0</td>\n",
       "      <td>450.0</td>\n",
       "      <td>0</td>\n",
       "      <td>0</td>\n",
       "    </tr>\n",
       "  </tbody>\n",
       "</table>\n",
       "</div>"
      ],
      "text/plain": [
       "   adcode bodyType  id             model province  regMonth  regYear  \\\n",
       "0  310000      SUV   0  3c974920a76ac9c1       上海         1     2016   \n",
       "1  530000      SUV   0  3c974920a76ac9c1       云南         1     2016   \n",
       "2  150000      SUV   0  3c974920a76ac9c1      内蒙古         1     2016   \n",
       "3  110000      SUV   0  3c974920a76ac9c1       北京         1     2016   \n",
       "4  510000      SUV   0  3c974920a76ac9c1       四川         1     2016   \n",
       "5  340000      SUV   0  3c974920a76ac9c1       安徽         1     2016   \n",
       "6  370000      SUV   0  3c974920a76ac9c1       山东         1     2016   \n",
       "7  140000      SUV   0  3c974920a76ac9c1       山西         1     2016   \n",
       "8  440000      SUV   0  3c974920a76ac9c1       广东         1     2016   \n",
       "9  450000      SUV   0  3c974920a76ac9c1       广西         1     2016   \n",
       "\n",
       "   popularity  carCommentVolum  newsReplyVolum   label  bodyType_2  model_2  \n",
       "0      1479.0             11.0           106.0   292.0           0        0  \n",
       "1      1594.0             11.0           106.0   466.0           0        0  \n",
       "2      1479.0             11.0           106.0   257.0           0        0  \n",
       "3      2370.0             11.0           106.0   408.0           0        0  \n",
       "4      3562.0             11.0           106.0   610.0           0        0  \n",
       "5      1314.0             11.0           106.0   206.0           0        0  \n",
       "6      3476.0             11.0           106.0   503.0           0        0  \n",
       "7      1422.0             11.0           106.0   236.0           0        0  \n",
       "8      7182.0             11.0           106.0  3635.0           0        0  \n",
       "9      1163.0             11.0           106.0   450.0           0        0  "
      ]
     },
     "execution_count": 9,
     "metadata": {},
     "output_type": "execute_result"
    }
   ],
   "source": [
    "for i in ['bodyType_2', 'model_2']:\n",
    "    data[i] = data[i].map(dict(zip(data[i].unique(), range(data[i].nunique()))))#用这个函数可以查看数据有多少个不同值。\n",
    "\n",
    "data.head(10)"
   ]
  },
  {
   "cell_type": "code",
   "execution_count": 10,
   "metadata": {
    "colab": {
     "base_uri": "https://localhost:8080/",
     "height": 35
    },
    "colab_type": "code",
    "id": "aPtDdtse7KXJ",
    "outputId": "ed224c8f-ee37-458b-a2c0-539e7879bfa2"
   },
   "outputs": [
    {
     "data": {
      "text/plain": [
       "['shift_model_adcode_mt_label_12']"
      ]
     },
     "execution_count": 10,
     "metadata": {},
     "output_type": "execute_result"
    }
   ],
   "source": [
    "data['mt'] = (data['regYear'] - 2016) * 12 + data['regMonth']\n",
    "\n",
    "# 'popularity', 'carCommentVolum', 'newsReplyVolum','label'/\n",
    "\n",
    "shift_feat = []\n",
    "\n",
    "data['model_adcode'] = data['adcode'] + data['model_2']\n",
    "data['model_adcode_mt'] = data['model_adcode'] * 100 + data['mt']\n",
    "for i in [11]:\n",
    "    i = i + 1\n",
    "    shift_feat.append('shift_model_adcode_mt_label_{0}'.format(i))\n",
    "    data['model_adcode_mt_{0}'.format(i)] = data['model_adcode_mt'] + i\n",
    "    data_last = data[~data.label.isnull()].set_index('model_adcode_mt_{0}'.format(i))\n",
    "    data['shift_model_adcode_mt_label_{0}'.format(i)] = data['model_adcode_mt'].map(data_last['label'])\n",
    "\n",
    "shift_feat"
   ]
  },
  {
   "cell_type": "code",
   "execution_count": 11,
   "metadata": {},
   "outputs": [],
   "source": [
    "num_feat = ['adcode', 'regMonth', 'regYear', 'popularity', 'carCommentVolum', 'newsReplyVolum', 'bodyType_2', 'model_2']+ shift_feat\n",
    "cate_feat = ['bodyType', 'model', 'province']\n",
    "\n",
    "# lbl = LabelEncoder()\n",
    "# for i in cate_feat:\n",
    "#   data[i] = lbl.fit_transform(data[i].astype(str))\n",
    "for i in cate_feat:\n",
    "    data[i] = data[i].astype('category')\n",
    "features = num_feat + cate_feat"
   ]
  },
  {
   "cell_type": "markdown",
   "metadata": {
    "colab_type": "text",
    "id": "QPqQlH65LBkO"
   },
   "source": [
    "**划分训练集，线下验证集，测试集index**"
   ]
  },
  {
   "cell_type": "code",
   "execution_count": 12,
   "metadata": {
    "colab": {},
    "colab_type": "code",
    "id": "QkyCUSfi7y8s"
   },
   "outputs": [],
   "source": [
    "# data['n_label'] = data['label'] / data.groupby('model')['label'].transform('mean')\n",
    "train_idx = (data['mt'] <= 20)\n",
    "\n",
    "valid_idx = (data['mt'].between(21, 24))\n",
    "\n",
    "test_idx = (data['mt'] > 24)"
   ]
  },
  {
   "cell_type": "code",
   "execution_count": 13,
   "metadata": {
    "colab": {},
    "colab_type": "code",
    "id": "Xny8BrkJ70XA"
   },
   "outputs": [],
   "source": [
    "data['model_weight'] = data.groupby('model_2')['label'].transform('mean')\n",
    "data['n_label'] = data['label'] / data['model_weight']"
   ]
  },
  {
   "cell_type": "code",
   "execution_count": 14,
   "metadata": {
    "colab": {
     "base_uri": "https://localhost:8080/",
     "height": 1000
    },
    "colab_type": "code",
    "id": "fsk15URuO959",
    "outputId": "22248c2a-4ac5-4145-854d-6902da07d74f"
   },
   "outputs": [
    {
     "name": "stdout",
     "output_type": "stream",
     "text": [
      "train_x is\n",
      "\n",
      "-----------------------------------\n",
      "valid_x is\n",
      "\n",
      "-----------------------------------\n"
     ]
    }
   ],
   "source": [
    "train_x = data[train_idx][features]\n",
    "train_y = data[train_idx]['n_label']\n",
    "print(\"train_x is\\n\")\n",
    "#print(train_x)\n",
    "print(\"-----------------------------------\")\n",
    "valid_x = data[valid_idx][features]\n",
    "valid_y = data[valid_idx]['n_label']\n",
    "print(\"valid_x is\\n\")\n",
    "#print(valid_x)\n",
    "print(\"-----------------------------------\")"
   ]
  },
  {
   "cell_type": "code",
   "execution_count": null,
   "metadata": {},
   "outputs": [],
   "source": []
  },
  {
   "cell_type": "code",
   "execution_count": null,
   "metadata": {},
   "outputs": [],
   "source": []
  },
  {
   "cell_type": "code",
   "execution_count": 14,
   "metadata": {
    "colab": {
     "base_uri": "https://localhost:8080/",
     "height": 1000
    },
    "colab_type": "code",
    "id": "fsk15URuO959",
    "outputId": "22248c2a-4ac5-4145-854d-6902da07d74f"
   },
   "outputs": [
    {
     "name": "stdout",
     "output_type": "stream",
     "text": [
      "0:\tlearn: 1.3017983\ttest: 1.5183241\tbest: 1.5183241 (0)\ttotal: 136ms\tremaining: 13m 38s\n",
      "100:\tlearn: 0.6351388\ttest: 0.8162979\tbest: 0.8162979 (100)\ttotal: 3.2s\tremaining: 3m 6s\n",
      "200:\tlearn: 0.5237058\ttest: 0.6404836\tbest: 0.6404836 (200)\ttotal: 6.25s\tremaining: 3m\n",
      "300:\tlearn: 0.4815920\ttest: 0.5857065\tbest: 0.5857065 (300)\ttotal: 9.26s\tremaining: 2m 55s\n",
      "400:\tlearn: 0.4530496\ttest: 0.5586910\tbest: 0.5586910 (400)\ttotal: 12.5s\tremaining: 2m 54s\n",
      "500:\tlearn: 0.4321139\ttest: 0.5422140\tbest: 0.5422140 (500)\ttotal: 15.5s\tremaining: 2m 49s\n",
      "600:\tlearn: 0.4133561\ttest: 0.5281193\tbest: 0.5281035 (599)\ttotal: 18.5s\tremaining: 2m 45s\n",
      "700:\tlearn: 0.3966433\ttest: 0.5185434\tbest: 0.5185434 (700)\ttotal: 21.5s\tremaining: 2m 42s\n",
      "800:\tlearn: 0.3830909\ttest: 0.5124849\tbest: 0.5124849 (800)\ttotal: 24.5s\tremaining: 2m 39s\n",
      "900:\tlearn: 0.3717200\ttest: 0.5076737\tbest: 0.5076120 (898)\ttotal: 27.5s\tremaining: 2m 35s\n",
      "1000:\tlearn: 0.3616507\ttest: 0.5032858\tbest: 0.5032858 (1000)\ttotal: 30.7s\tremaining: 2m 33s\n",
      "1100:\tlearn: 0.3509341\ttest: 0.4993120\tbest: 0.4993120 (1100)\ttotal: 33.7s\tremaining: 2m 30s\n",
      "1200:\tlearn: 0.3416437\ttest: 0.4968971\tbest: 0.4968971 (1200)\ttotal: 36.8s\tremaining: 2m 26s\n",
      "1300:\tlearn: 0.3332083\ttest: 0.4936436\tbest: 0.4936341 (1298)\ttotal: 39.8s\tremaining: 2m 23s\n",
      "1400:\tlearn: 0.3255965\ttest: 0.4908922\tbest: 0.4908922 (1400)\ttotal: 42.9s\tremaining: 2m 20s\n",
      "1500:\tlearn: 0.3184178\ttest: 0.4886918\tbest: 0.4886728 (1486)\ttotal: 46.1s\tremaining: 2m 18s\n",
      "1600:\tlearn: 0.3121991\ttest: 0.4868168\tbest: 0.4868168 (1600)\ttotal: 49.2s\tremaining: 2m 15s\n",
      "1700:\tlearn: 0.3047540\ttest: 0.4837501\tbest: 0.4837501 (1700)\ttotal: 52.4s\tremaining: 2m 12s\n",
      "1800:\tlearn: 0.2981577\ttest: 0.4817823\tbest: 0.4816652 (1794)\ttotal: 55.9s\tremaining: 2m 10s\n",
      "1900:\tlearn: 0.2924078\ttest: 0.4809195\tbest: 0.4808351 (1896)\ttotal: 59s\tremaining: 2m 7s\n",
      "2000:\tlearn: 0.2864979\ttest: 0.4787473\tbest: 0.4787335 (1997)\ttotal: 1m 2s\tremaining: 2m 4s\n",
      "2100:\tlearn: 0.2817193\ttest: 0.4775533\tbest: 0.4775199 (2099)\ttotal: 1m 5s\tremaining: 2m 1s\n",
      "2200:\tlearn: 0.2767379\ttest: 0.4766430\tbest: 0.4766430 (2200)\ttotal: 1m 8s\tremaining: 1m 58s\n",
      "2300:\tlearn: 0.2723105\ttest: 0.4750848\tbest: 0.4750117 (2299)\ttotal: 1m 11s\tremaining: 1m 55s\n",
      "2400:\tlearn: 0.2681269\ttest: 0.4741124\tbest: 0.4741114 (2396)\ttotal: 1m 14s\tremaining: 1m 52s\n",
      "2500:\tlearn: 0.2645135\ttest: 0.4730502\tbest: 0.4730415 (2498)\ttotal: 1m 18s\tremaining: 1m 49s\n",
      "2600:\tlearn: 0.2602134\ttest: 0.4722610\tbest: 0.4722403 (2594)\ttotal: 1m 21s\tremaining: 1m 46s\n",
      "2700:\tlearn: 0.2567648\ttest: 0.4711139\tbest: 0.4710929 (2698)\ttotal: 1m 24s\tremaining: 1m 43s\n",
      "2800:\tlearn: 0.2536341\ttest: 0.4706006\tbest: 0.4705950 (2799)\ttotal: 1m 27s\tremaining: 1m 39s\n",
      "2900:\tlearn: 0.2508112\ttest: 0.4700993\tbest: 0.4700720 (2897)\ttotal: 1m 30s\tremaining: 1m 36s\n",
      "3000:\tlearn: 0.2480215\ttest: 0.4694679\tbest: 0.4693802 (2955)\ttotal: 1m 33s\tremaining: 1m 33s\n",
      "3100:\tlearn: 0.2450463\ttest: 0.4689443\tbest: 0.4688848 (3097)\ttotal: 1m 37s\tremaining: 1m 30s\n",
      "3200:\tlearn: 0.2421173\ttest: 0.4688688\tbest: 0.4686164 (3148)\ttotal: 1m 40s\tremaining: 1m 27s\n",
      "Stopped by overfitting detector  (100 iterations wait)\n",
      "\n",
      "bestTest = 0.4686163803\n",
      "bestIteration = 3148\n",
      "\n",
      "Shrink model to first 3149 iterations.\n"
     ]
    },
    {
     "data": {
      "text/plain": [
       "<catboost.core.CatBoostRegressor at 0x210a3b2fcc0>"
      ]
     },
     "execution_count": 14,
     "metadata": {},
     "output_type": "execute_result"
    }
   ],
   "source": [
    "ctb_params = {\n",
    "    'n_estimators': 6000,\n",
    "    'learning_rate': 0.02,\n",
    "    'random_seed': 2019,\n",
    "    'reg_lambda': 0.08,\n",
    "    'subsample': 0.7,\n",
    "    'bootstrap_type': 'Bernoulli',\n",
    "    'boosting_type': 'Plain',\n",
    "    'one_hot_max_size': 10,\n",
    "    'rsm': 0.5,\n",
    "    'leaf_estimation_iterations': 5,\n",
    "    'use_best_model': True,\n",
    "    'max_depth': 6,\n",
    "    'verbose': -1,\n",
    "    'thread_count': 4\n",
    "}\n",
    "\n",
    "\n",
    "ctb_model = ctb.CatBoostRegressor(**ctb_params, cat_features=cate_feat, early_stopping_rounds=100)\n",
    "\n",
    "ctb_model.fit(train_x, train_y,\n",
    "           eval_set=[(valid_x, valid_y)],\n",
    "                      #eval_metric='mae',\n",
    "                     \n",
    "                      #sample_weight=train_data.loc[train_idx]['sample_weight'],\n",
    "                      verbose=100)"
   ]
  },
  {
   "cell_type": "code",
   "execution_count": 15,
   "metadata": {
    "colab": {
     "base_uri": "https://localhost:8080/",
     "height": 35
    },
    "colab_type": "code",
    "id": "_7d7fmph8T1F",
    "outputId": "de292851-4c93-4dd4-87a5-f1d7bf814059"
   },
   "outputs": [],
   "source": [
    "data['pred_label'] = ctb_model.predict(data[features].fillna(0)) * data['model_weight']\n",
    "data['ctb'] =data['pred_label'] "
   ]
  },
  {
   "cell_type": "code",
   "execution_count": 16,
   "metadata": {
    "colab": {},
    "colab_type": "code",
    "id": "jBprs1BEeO3L"
   },
   "outputs": [
    {
     "name": "stdout",
     "output_type": "stream",
     "text": [
      "0.6202980332493366\n"
     ]
    }
   ],
   "source": [
    "best_score = score(data[valid_idx])"
   ]
  },
  {
   "cell_type": "code",
   "execution_count": 17,
   "metadata": {},
   "outputs": [
    {
     "name": "stdout",
     "output_type": "stream",
     "text": [
      "0:\tlearn: 1.3393961\ttest: 1.5147387\tbest: 1.5147387 (0)\ttotal: 33.4ms\tremaining: 3m 20s\n",
      "100:\tlearn: 0.6408931\ttest: 0.6762768\tbest: 0.6762768 (100)\ttotal: 3.4s\tremaining: 3m 18s\n",
      "200:\tlearn: 0.5282867\ttest: 0.5473581\tbest: 0.5473581 (200)\ttotal: 6.74s\tremaining: 3m 14s\n",
      "300:\tlearn: 0.4857088\ttest: 0.4991373\tbest: 0.4991373 (300)\ttotal: 9.93s\tremaining: 3m 7s\n",
      "400:\tlearn: 0.4573631\ttest: 0.4715907\tbest: 0.4715907 (400)\ttotal: 13.1s\tremaining: 3m 2s\n",
      "500:\tlearn: 0.4373318\ttest: 0.4514052\tbest: 0.4514052 (500)\ttotal: 16.4s\tremaining: 2m 59s\n",
      "600:\tlearn: 0.4209861\ttest: 0.4353594\tbest: 0.4353594 (600)\ttotal: 19.7s\tremaining: 2m 56s\n",
      "700:\tlearn: 0.4058238\ttest: 0.4197957\tbest: 0.4197957 (700)\ttotal: 22.9s\tremaining: 2m 53s\n",
      "800:\tlearn: 0.3928628\ttest: 0.4053943\tbest: 0.4053943 (800)\ttotal: 26.2s\tremaining: 2m 49s\n",
      "900:\tlearn: 0.3814894\ttest: 0.3929611\tbest: 0.3929611 (900)\ttotal: 29.5s\tremaining: 2m 46s\n",
      "1000:\tlearn: 0.3714172\ttest: 0.3808815\tbest: 0.3808815 (1000)\ttotal: 32.8s\tremaining: 2m 43s\n",
      "1100:\tlearn: 0.3631715\ttest: 0.3716439\tbest: 0.3716439 (1100)\ttotal: 36.1s\tremaining: 2m 40s\n",
      "1200:\tlearn: 0.3547781\ttest: 0.3631352\tbest: 0.3631352 (1200)\ttotal: 39.6s\tremaining: 2m 38s\n",
      "1300:\tlearn: 0.3464869\ttest: 0.3542914\tbest: 0.3542914 (1300)\ttotal: 43s\tremaining: 2m 35s\n",
      "1400:\tlearn: 0.3387525\ttest: 0.3451060\tbest: 0.3451060 (1400)\ttotal: 46.3s\tremaining: 2m 31s\n",
      "1500:\tlearn: 0.3313156\ttest: 0.3371988\tbest: 0.3371988 (1500)\ttotal: 49.7s\tremaining: 2m 29s\n",
      "1600:\tlearn: 0.3247217\ttest: 0.3299511\tbest: 0.3299511 (1600)\ttotal: 52.9s\tremaining: 2m 25s\n",
      "1700:\tlearn: 0.3185940\ttest: 0.3230064\tbest: 0.3230064 (1700)\ttotal: 56.2s\tremaining: 2m 22s\n",
      "1800:\tlearn: 0.3129170\ttest: 0.3169752\tbest: 0.3169752 (1800)\ttotal: 59.4s\tremaining: 2m 18s\n",
      "1900:\tlearn: 0.3069693\ttest: 0.3115315\tbest: 0.3115296 (1899)\ttotal: 1m 2s\tremaining: 2m 15s\n",
      "2000:\tlearn: 0.3021649\ttest: 0.3070645\tbest: 0.3070645 (2000)\ttotal: 1m 5s\tremaining: 2m 11s\n",
      "2100:\tlearn: 0.2973556\ttest: 0.3024158\tbest: 0.3024158 (2100)\ttotal: 1m 9s\tremaining: 2m 8s\n",
      "2200:\tlearn: 0.2926972\ttest: 0.2975739\tbest: 0.2975739 (2200)\ttotal: 1m 12s\tremaining: 2m 5s\n",
      "2300:\tlearn: 0.2883311\ttest: 0.2935355\tbest: 0.2935355 (2300)\ttotal: 1m 15s\tremaining: 2m 1s\n",
      "2400:\tlearn: 0.2845929\ttest: 0.2889022\tbest: 0.2889022 (2400)\ttotal: 1m 19s\tremaining: 1m 58s\n",
      "2500:\tlearn: 0.2805648\ttest: 0.2842837\tbest: 0.2842837 (2500)\ttotal: 1m 22s\tremaining: 1m 55s\n",
      "2600:\tlearn: 0.2769854\ttest: 0.2799678\tbest: 0.2799678 (2600)\ttotal: 1m 25s\tremaining: 1m 52s\n",
      "2700:\tlearn: 0.2734153\ttest: 0.2762043\tbest: 0.2762043 (2700)\ttotal: 1m 29s\tremaining: 1m 48s\n",
      "2800:\tlearn: 0.2703844\ttest: 0.2727562\tbest: 0.2727562 (2800)\ttotal: 1m 32s\tremaining: 1m 45s\n",
      "2900:\tlearn: 0.2669672\ttest: 0.2690774\tbest: 0.2690774 (2900)\ttotal: 1m 35s\tremaining: 1m 42s\n",
      "3000:\tlearn: 0.2641505\ttest: 0.2654678\tbest: 0.2654678 (3000)\ttotal: 1m 39s\tremaining: 1m 38s\n",
      "3100:\tlearn: 0.2613303\ttest: 0.2624398\tbest: 0.2624398 (3100)\ttotal: 1m 42s\tremaining: 1m 35s\n",
      "3200:\tlearn: 0.2583911\ttest: 0.2599155\tbest: 0.2599155 (3200)\ttotal: 1m 46s\tremaining: 1m 32s\n",
      "3300:\tlearn: 0.2555023\ttest: 0.2567700\tbest: 0.2567700 (3300)\ttotal: 1m 50s\tremaining: 1m 30s\n",
      "3400:\tlearn: 0.2528559\ttest: 0.2546681\tbest: 0.2546681 (3400)\ttotal: 1m 53s\tremaining: 1m 26s\n",
      "3500:\tlearn: 0.2503607\ttest: 0.2521835\tbest: 0.2521835 (3500)\ttotal: 1m 56s\tremaining: 1m 23s\n",
      "3600:\tlearn: 0.2480407\ttest: 0.2501727\tbest: 0.2501727 (3600)\ttotal: 1m 59s\tremaining: 1m 19s\n",
      "3700:\tlearn: 0.2454646\ttest: 0.2475153\tbest: 0.2475153 (3700)\ttotal: 2m 3s\tremaining: 1m 16s\n",
      "3800:\tlearn: 0.2432763\ttest: 0.2449087\tbest: 0.2449087 (3800)\ttotal: 2m 6s\tremaining: 1m 13s\n",
      "3900:\tlearn: 0.2410325\ttest: 0.2427363\tbest: 0.2427363 (3900)\ttotal: 2m 9s\tremaining: 1m 9s\n",
      "4000:\tlearn: 0.2389550\ttest: 0.2408018\tbest: 0.2408018 (4000)\ttotal: 2m 12s\tremaining: 1m 6s\n",
      "4100:\tlearn: 0.2364076\ttest: 0.2388039\tbest: 0.2388039 (4100)\ttotal: 2m 16s\tremaining: 1m 3s\n",
      "4200:\tlearn: 0.2345012\ttest: 0.2369358\tbest: 0.2369358 (4200)\ttotal: 2m 19s\tremaining: 59.8s\n",
      "4300:\tlearn: 0.2325894\ttest: 0.2351732\tbest: 0.2351732 (4300)\ttotal: 2m 22s\tremaining: 56.5s\n",
      "4400:\tlearn: 0.2306931\ttest: 0.2329543\tbest: 0.2329543 (4400)\ttotal: 2m 26s\tremaining: 53.1s\n",
      "4500:\tlearn: 0.2292081\ttest: 0.2314284\tbest: 0.2314284 (4500)\ttotal: 2m 29s\tremaining: 49.8s\n",
      "4600:\tlearn: 0.2273548\ttest: 0.2296056\tbest: 0.2296056 (4600)\ttotal: 2m 33s\tremaining: 46.6s\n",
      "4700:\tlearn: 0.2254137\ttest: 0.2279970\tbest: 0.2279970 (4700)\ttotal: 2m 36s\tremaining: 43.2s\n",
      "4800:\tlearn: 0.2235255\ttest: 0.2262710\tbest: 0.2262710 (4800)\ttotal: 2m 39s\tremaining: 39.9s\n",
      "4900:\tlearn: 0.2215792\ttest: 0.2248042\tbest: 0.2248042 (4900)\ttotal: 2m 43s\tremaining: 36.6s\n",
      "5000:\tlearn: 0.2199297\ttest: 0.2234221\tbest: 0.2234221 (5000)\ttotal: 2m 46s\tremaining: 33.3s\n",
      "5100:\tlearn: 0.2183147\ttest: 0.2219175\tbest: 0.2219175 (5100)\ttotal: 2m 50s\tremaining: 30s\n",
      "5200:\tlearn: 0.2167795\ttest: 0.2202942\tbest: 0.2202942 (5200)\ttotal: 2m 53s\tremaining: 26.7s\n",
      "5300:\tlearn: 0.2152155\ttest: 0.2188377\tbest: 0.2188377 (5300)\ttotal: 2m 57s\tremaining: 23.4s\n",
      "5400:\tlearn: 0.2138476\ttest: 0.2173056\tbest: 0.2173017 (5397)\ttotal: 3m\tremaining: 20s\n",
      "5500:\tlearn: 0.2123470\ttest: 0.2158341\tbest: 0.2158341 (5500)\ttotal: 3m 4s\tremaining: 16.7s\n",
      "5600:\tlearn: 0.2108163\ttest: 0.2146159\tbest: 0.2146159 (5600)\ttotal: 3m 7s\tremaining: 13.3s\n",
      "5700:\tlearn: 0.2093297\ttest: 0.2134516\tbest: 0.2134516 (5700)\ttotal: 3m 10s\tremaining: 10s\n",
      "5800:\tlearn: 0.2080710\ttest: 0.2122058\tbest: 0.2122058 (5800)\ttotal: 3m 14s\tremaining: 6.66s\n",
      "5900:\tlearn: 0.2067196\ttest: 0.2112559\tbest: 0.2112559 (5900)\ttotal: 3m 17s\tremaining: 3.31s\n",
      "5999:\tlearn: 0.2053361\ttest: 0.2101275\tbest: 0.2101275 (5999)\ttotal: 3m 21s\tremaining: 0us\n",
      "\n",
      "bestTest = 0.2101274826\n",
      "bestIteration = 5999\n",
      "\n"
     ]
    }
   ],
   "source": [
    "ctb_model.n_estimators = 10000\n",
    "\n",
    "ctb_model.fit(data[~test_idx][features], data[~test_idx]['n_label'], eval_set=[(valid_x, valid_y)],cat_features=cate_feat,verbose=100)\n",
    "\n",
    "data['forecastVolum'] = ctb_model.predict(data[features].fillna(0))   * data['model_weight']\n",
    "sub = data[test_idx][['id']]\n",
    "sub['forecastVolum'] = data[test_idx]['forecastVolum'].apply(lambda x: 0 if x < 0 else x).round().astype(int)\n",
    "sub.head(10)\n",
    "sub.to_csv('0902xtb.csv', index=False)"
   ]
  },
  {
   "cell_type": "markdown",
   "metadata": {},
   "source": [
    "# lgb mse"
   ]
  },
  {
   "cell_type": "code",
   "execution_count": 18,
   "metadata": {},
   "outputs": [],
   "source": [
    "num_feat = ['adcode', 'regMonth', 'regYear', 'popularity', 'carCommentVolum', 'newsReplyVolum', 'bodyType_2', 'model_2']+ shift_feat\n",
    "cate_feat = ['bodyType', 'model', 'province']\n",
    "\n",
    "# lbl = LabelEncoder()\n",
    "# for i in cate_feat:\n",
    "#   data[i] = lbl.fit_transform(data[i].astype(str))\n",
    "for i in cate_feat:\n",
    "    data[i] = data[i].astype('category')\n",
    "features = num_feat + cate_feat"
   ]
  },
  {
   "cell_type": "code",
   "execution_count": 19,
   "metadata": {},
   "outputs": [
    {
     "name": "stdout",
     "output_type": "stream",
     "text": [
      "train_x is\n",
      "\n",
      "-----------------------------------\n",
      "valid_x is\n",
      "\n",
      "-----------------------------------\n"
     ]
    }
   ],
   "source": [
    "train_x = data[train_idx][features]\n",
    "train_y = data[train_idx]['n_label']\n",
    "print(\"train_x is\\n\")\n",
    "#print(train_x)\n",
    "print(\"-----------------------------------\")\n",
    "valid_x = data[valid_idx][features]\n",
    "valid_y = data[valid_idx]['n_label']\n",
    "print(\"valid_x is\\n\")\n",
    "#print(valid_x)\n",
    "print(\"-----------------------------------\")"
   ]
  },
  {
   "cell_type": "code",
   "execution_count": 15,
   "metadata": {
    "colab": {
     "base_uri": "https://localhost:8080/",
     "height": 461
    },
    "colab_type": "code",
    "id": "UXC98D8-70wW",
    "outputId": "ab1bf4be-8bb6-4fbe-9817-bb5e0b485ec5"
   },
   "outputs": [
    {
     "name": "stdout",
     "output_type": "stream",
     "text": [
      "Training until validation scores don't improve for 100 rounds.\n",
      "[100]\tvalid_0's l2: 0.245083\n",
      "[200]\tvalid_0's l2: 0.217479\n",
      "[300]\tvalid_0's l2: 0.211469\n",
      "[400]\tvalid_0's l2: 0.208165\n",
      "[500]\tvalid_0's l2: 0.205436\n",
      "[600]\tvalid_0's l2: 0.203275\n",
      "[700]\tvalid_0's l2: 0.20211\n",
      "[800]\tvalid_0's l2: 0.201059\n",
      "[900]\tvalid_0's l2: 0.200388\n",
      "[1000]\tvalid_0's l2: 0.199784\n",
      "[1100]\tvalid_0's l2: 0.199313\n",
      "[1200]\tvalid_0's l2: 0.199069\n",
      "[1300]\tvalid_0's l2: 0.1989\n",
      "[1400]\tvalid_0's l2: 0.198668\n",
      "[1500]\tvalid_0's l2: 0.198268\n",
      "[1600]\tvalid_0's l2: 0.198138\n",
      "[1700]\tvalid_0's l2: 0.197808\n",
      "[1800]\tvalid_0's l2: 0.197555\n",
      "[1900]\tvalid_0's l2: 0.197336\n",
      "[2000]\tvalid_0's l2: 0.197301\n",
      "[2100]\tvalid_0's l2: 0.197191\n",
      "[2200]\tvalid_0's l2: 0.197033\n",
      "Early stopping, best iteration is:\n",
      "[2195]\tvalid_0's l2: 0.197027\n"
     ]
    },
    {
     "data": {
      "text/plain": [
       "LGBMRegressor(boosting_type='gbdt', class_weight=None, colsample_bytree=0.7,\n",
       "              importance_type='split', learning_rate=0.05, max_depth=-1,\n",
       "              min_child_samples=20, min_child_weight=0.001, min_split_gain=0.0,\n",
       "              n_estimators=6000, n_jobs=-1, num_leaves=64, objective='mse',\n",
       "              random_state=698, reg_alpha=1, reg_lambda=0.1, silent=True,\n",
       "              subsample=0.7, subsample_for_bin=200000, subsample_freq=0)"
      ]
     },
     "execution_count": 15,
     "metadata": {},
     "output_type": "execute_result"
    }
   ],
   "source": [
    "\n",
    "\n",
    "\n",
    "\n",
    "lgb_model = lgb.LGBMRegressor(\n",
    "    num_leaves=64, reg_alpha=1, reg_lambda=0.1, objective='mse',\n",
    "    max_depth=-1, learning_rate=0.05, min_child_samples=20, random_state=np.random.randint(1000),\n",
    "    n_estimators=6000, subsample=0.7, colsample_bytree=0.7,n_jobs=-1\n",
    ")\n",
    "\n",
    "lgb_model.fit(train_x, train_y, eval_set=[\n",
    "    (valid_x, valid_y),\n",
    "], categorical_feature=cate_feat, early_stopping_rounds=100, verbose=100)\n",
    "\n",
    "#也就是说我们在训练集和验证集上训练完了之后再让它重新预测整个数据集，让其中的valid和vaild\n",
    "\n"
   ]
  },
  {
   "cell_type": "code",
   "execution_count": 16,
   "metadata": {
    "colab": {},
    "colab_type": "code",
    "id": "pjkLvIUjLOYw"
   },
   "outputs": [],
   "source": [
    "data['pred_label'] = lgb_model.predict(data[features]) * data['model_weight']\n"
   ]
  },
  {
   "cell_type": "code",
   "execution_count": 18,
   "metadata": {
    "colab": {
     "base_uri": "https://localhost:8080/",
     "height": 35
    },
    "colab_type": "code",
    "id": "-GTT2FtSzFgb",
    "outputId": "ea7b5a1d-c7e9-4fb4-9901-46de07c30e0e"
   },
   "outputs": [
    {
     "name": "stdout",
     "output_type": "stream",
     "text": [
      "0.6338625159298399\n"
     ]
    }
   ],
   "source": [
    "data['lgb_mse'] =data['pred_label'] \n",
    "best_score = score(data[valid_idx])\n",
    "\n",
    "\n"
   ]
  },
  {
   "cell_type": "code",
   "execution_count": 19,
   "metadata": {},
   "outputs": [],
   "source": [
    "lgb_model.n_estimators = 6000\n",
    "\n",
    "lgb_model.fit(data[~test_idx][features], data[~test_idx]['n_label'], categorical_feature=cate_feat)\n",
    "\n",
    "data['forecastVolum'] = lgb_model.predict(data[features])   * data['model_weight']\n",
    "sub = data[test_idx][['id']]\n",
    "sub['forecastVolum'] = data[test_idx]['forecastVolum'].apply(lambda x: 0 if x < 0 else x).round().astype(int)\n",
    "sub.head(10)\n",
    "sub.to_csv('0905gb_mse.csv', index=False)"
   ]
  },
  {
   "cell_type": "markdown",
   "metadata": {},
   "source": [
    "# lgb mae"
   ]
  },
  {
   "cell_type": "code",
   "execution_count": 20,
   "metadata": {
    "colab": {
     "base_uri": "https://localhost:8080/",
     "height": 35
    },
    "colab_type": "code",
    "id": "aq0E_OP0_e2G",
    "outputId": "9f656110-3a98-4c06-c5ce-e65467e20e7b"
   },
   "outputs": [
    {
     "name": "stdout",
     "output_type": "stream",
     "text": [
      "Training until validation scores don't improve for 100 rounds.\n",
      "[100]\tvalid_0's l1: 0.31382\n",
      "[200]\tvalid_0's l1: 0.281314\n",
      "[300]\tvalid_0's l1: 0.275241\n",
      "[400]\tvalid_0's l1: 0.270725\n",
      "[500]\tvalid_0's l1: 0.267879\n",
      "[600]\tvalid_0's l1: 0.266247\n",
      "[700]\tvalid_0's l1: 0.265128\n",
      "[800]\tvalid_0's l1: 0.264404\n",
      "[900]\tvalid_0's l1: 0.263551\n",
      "[1000]\tvalid_0's l1: 0.262537\n",
      "[1100]\tvalid_0's l1: 0.262034\n",
      "[1200]\tvalid_0's l1: 0.261804\n",
      "[1300]\tvalid_0's l1: 0.261676\n",
      "[1400]\tvalid_0's l1: 0.261366\n",
      "[1500]\tvalid_0's l1: 0.261273\n",
      "Early stopping, best iteration is:\n",
      "[1438]\tvalid_0's l1: 0.261244\n"
     ]
    },
    {
     "data": {
      "text/plain": [
       "LGBMRegressor(boosting_type='gbdt', class_weight=None, colsample_bytree=0.7,\n",
       "              importance_type='split', learning_rate=0.05, max_depth=-1,\n",
       "              min_child_samples=20, min_child_weight=0.001, min_split_gain=0.0,\n",
       "              n_estimators=6000, n_jobs=-1, num_leaves=64, objective='mae',\n",
       "              random_state=518, reg_alpha=1, reg_lambda=0.1, silent=True,\n",
       "              subsample=0.7, subsample_for_bin=200000, subsample_freq=0)"
      ]
     },
     "execution_count": 20,
     "metadata": {},
     "output_type": "execute_result"
    }
   ],
   "source": [
    "lgb_model = lgb.LGBMRegressor(\n",
    "    num_leaves=64, reg_alpha=1, reg_lambda=0.1, objective='mae',\n",
    "    max_depth=-1, learning_rate=0.05, min_child_samples=20, random_state=np.random.randint(1000),\n",
    "    n_estimators=6000, subsample=0.7, colsample_bytree=0.7,n_jobs=-1\n",
    ")\n",
    "\n",
    "lgb_model.fit(train_x, train_y, eval_set=[\n",
    "    (valid_x, valid_y),\n",
    "], categorical_feature=cate_feat, early_stopping_rounds=100, verbose=100)\n",
    "\n",
    "#也就是说我们在训练集和验证集上训练完了之后再让它重新预测整个数据集，让其中的valid和vaild"
   ]
  },
  {
   "cell_type": "code",
   "execution_count": 21,
   "metadata": {
    "colab": {},
    "colab_type": "code",
    "id": "HoO1DRKOeAVT"
   },
   "outputs": [],
   "source": [
    "data['pred_label'] = lgb_model.predict(data[features]) * data['model_weight']\n",
    "data['lgb_mae'] =data['pred_label'] \n"
   ]
  },
  {
   "cell_type": "code",
   "execution_count": 22,
   "metadata": {},
   "outputs": [
    {
     "name": "stdout",
     "output_type": "stream",
     "text": [
      "0.6294606071067068\n"
     ]
    }
   ],
   "source": [
    "best_score = score(data[valid_idx])"
   ]
  },
  {
   "cell_type": "code",
   "execution_count": 24,
   "metadata": {},
   "outputs": [],
   "source": [
    "lgb_model.n_estimators = 6000\n",
    "\n",
    "lgb_model.fit(data[~test_idx][features], data[~test_idx]['n_label'], categorical_feature=cate_feat)\n",
    "\n",
    "data['forecastVolum'] = lgb_model.predict(data[features])   * data['model_weight']\n",
    "sub = data[test_idx][['id']]\n",
    "sub['forecastVolum'] = data[test_idx]['forecastVolum'].apply(lambda x: 0 if x < 0 else x).round().astype(int)\n",
    "sub.head(10)\n",
    "sub.to_csv('0905gb_mae.csv', index=False)"
   ]
  },
  {
   "cell_type": "markdown",
   "metadata": {},
   "source": [
    "# xgb"
   ]
  },
  {
   "cell_type": "code",
   "execution_count": 28,
   "metadata": {},
   "outputs": [],
   "source": [
    "num_feat = ['adcode', 'regMonth', 'regYear', 'popularity', 'carCommentVolum', 'newsReplyVolum', 'bodyType_2', 'model_2']+ shift_feat\n",
    "cate_feat = ['bodyType', 'model', 'province']\n",
    "\n",
    "lbl = LabelEncoder()\n",
    "for i in cate_feat:\n",
    "  data[i] = lbl.fit_transform(data[i].astype(str))\n",
    "# for i in cate_feat:\n",
    "#     data[i] = data[i].astype('category')\n",
    "# features = num_feat + cate_feat"
   ]
  },
  {
   "cell_type": "code",
   "execution_count": 29,
   "metadata": {},
   "outputs": [
    {
     "name": "stdout",
     "output_type": "stream",
     "text": [
      "train_x is\n",
      "\n",
      "-----------------------------------\n",
      "valid_x is\n",
      "\n",
      "-----------------------------------\n"
     ]
    }
   ],
   "source": [
    "train_x = data[train_idx][features]\n",
    "train_y = data[train_idx]['n_label']\n",
    "print(\"train_x is\\n\")\n",
    "#print(train_x)\n",
    "print(\"-----------------------------------\")\n",
    "valid_x = data[valid_idx][features]\n",
    "valid_y = data[valid_idx]['n_label']\n",
    "print(\"valid_x is\\n\")\n",
    "#print(valid_x)\n",
    "print(\"-----------------------------------\")"
   ]
  },
  {
   "cell_type": "code",
   "execution_count": 30,
   "metadata": {
    "colab": {
     "base_uri": "https://localhost:8080/",
     "height": 200
    },
    "colab_type": "code",
    "id": "ih2J5RR0BXNv",
    "outputId": "944bfd2b-d124-4869-c564-b192b25f91be"
   },
   "outputs": [
    {
     "name": "stdout",
     "output_type": "stream",
     "text": [
      "[0]\tvalidation_0-mae:0.697464\n",
      "Will train until validation_0-mae hasn't improved in 100 rounds.\n",
      "[100]\tvalidation_0-mae:0.347672\n",
      "[200]\tvalidation_0-mae:0.333725\n",
      "[300]\tvalidation_0-mae:0.324919\n",
      "[400]\tvalidation_0-mae:0.31852\n",
      "[500]\tvalidation_0-mae:0.316557\n",
      "[600]\tvalidation_0-mae:0.315082\n",
      "[700]\tvalidation_0-mae:0.312972\n",
      "[800]\tvalidation_0-mae:0.311815\n",
      "[900]\tvalidation_0-mae:0.310314\n",
      "[1000]\tvalidation_0-mae:0.309885\n",
      "[1100]\tvalidation_0-mae:0.30947\n",
      "[1200]\tvalidation_0-mae:0.30946\n",
      "Stopping. Best iteration:\n",
      "[1120]\tvalidation_0-mae:0.309159\n",
      "\n"
     ]
    },
    {
     "data": {
      "text/plain": [
       "XGBRegressor(base_score=0.5, booster='gbtree', colsample_bylevel=1,\n",
       "             colsample_bytree=0.5, eval_metric='mae', gamma=0,\n",
       "             learning_rate=0.1, max_delta_step=0, max_depth=6,\n",
       "             min_child_weight=20, missing=None, n_estimators=6000, n_jobs=-1,\n",
       "             nthread=None, objective='reg:linear', random_state=0, reg_alpha=1,\n",
       "             reg_lambda=0.01, scale_pos_weight=1, seed=None, silent=True,\n",
       "             subsample=0.8)"
      ]
     },
     "execution_count": 30,
     "metadata": {},
     "output_type": "execute_result"
    }
   ],
   "source": [
    "xgb_model = xgb.XGBRegressor(\n",
    "    max_depth=6,\n",
    "    learning_rate=0.1,\n",
    "    #objective='reg:squarederror',\n",
    "    eval_metric='mae',\n",
    "    subsample=0.8, colsample_bytree=0.5,\n",
    "    n_estimators=6000,\n",
    "    reg_alpha=1,\n",
    "    reg_lambda=0.01,\n",
    "    min_child_weight=20,\n",
    "    n_jobs=-1,\n",
    "   \n",
    ")\n",
    "xgb_model.fit(train_x, train_y, eval_set=[\n",
    "    (valid_x, valid_y),\n",
    "] ,early_stopping_rounds=100, verbose=100)"
   ]
  },
  {
   "cell_type": "code",
   "execution_count": 31,
   "metadata": {
    "colab": {
     "base_uri": "https://localhost:8080/",
     "height": 35
    },
    "colab_type": "code",
    "id": "u1icpq5hBXSY",
    "outputId": "f62a9fd9-921f-4bae-98a7-005271cfc33e"
   },
   "outputs": [],
   "source": [
    "data['pred_label'] = xgb_model.predict(data[features].fillna(0)) * data['model_weight']\n",
    "data['xgb'] =data['pred_label'] "
   ]
  },
  {
   "cell_type": "code",
   "execution_count": 32,
   "metadata": {},
   "outputs": [
    {
     "name": "stdout",
     "output_type": "stream",
     "text": [
      "0.5828131634631482\n"
     ]
    }
   ],
   "source": [
    "best_score = score(data[valid_idx])"
   ]
  },
  {
   "cell_type": "code",
   "execution_count": 33,
   "metadata": {},
   "outputs": [],
   "source": [
    "xgb_model.n_estimators = 5000\n",
    "\n",
    "xgb_model.fit(data[~test_idx][features], data[~test_idx]['n_label'])\n",
    "\n",
    "data['forecastVolum'] = xgb_model.predict(data[features])   * data['model_weight']\n",
    "sub = data[test_idx][['id']]\n",
    "sub['forecastVolum'] = data[test_idx]['forecastVolum'].apply(lambda x: 0 if x < 0 else x).round().astype(int)\n",
    "sub.head(10)\n",
    "sub.to_csv('0102xgb.csv', index=False)"
   ]
  },
  {
   "cell_type": "code",
   "execution_count": 52,
   "metadata": {},
   "outputs": [],
   "source": [
    "# sub_ctb = pd.read_csv(\"0902xtb.csv\").rename(columns={'forecastVolum':'forecastVolum1'})\n",
    "# sub_ctb = pd.read_csv(\"0902lgb_mse.csv\").rename(columns={'forecastVolum':'forecastVolum2'})\n",
    "# sub_lgb_mae = pd.read_csv(\"0902lgb_mae.csv\").rename(columns={'forecastVolum':'forecastVolum3'})\n",
    "# sub_xgb = pd.read_csv(\"0102xgb.csv\").rename(columns={'forecastVolum':'forecastVolum4'})"
   ]
  },
  {
   "cell_type": "code",
   "execution_count": 55,
   "metadata": {},
   "outputs": [],
   "source": [
    "sub_ctb = pd.read_csv(\"0902xtb.csv\")\n",
    "sub_ctb = pd.read_csv(\"0902lgb_mse.csv\")\n",
    "sub_lgb_mae = pd.read_csv(\"0902lgb_mae.csv\")\n",
    "sub_xgb = pd.read_csv(\"0102xgb.csv\")"
   ]
  },
  {
   "cell_type": "code",
   "execution_count": 50,
   "metadata": {},
   "outputs": [
    {
     "data": {
      "text/html": [
       "<div>\n",
       "<style scoped>\n",
       "    .dataframe tbody tr th:only-of-type {\n",
       "        vertical-align: middle;\n",
       "    }\n",
       "\n",
       "    .dataframe tbody tr th {\n",
       "        vertical-align: top;\n",
       "    }\n",
       "\n",
       "    .dataframe thead th {\n",
       "        text-align: right;\n",
       "    }\n",
       "</style>\n",
       "<table border=\"1\" class=\"dataframe\">\n",
       "  <thead>\n",
       "    <tr style=\"text-align: right;\">\n",
       "      <th></th>\n",
       "      <th>id</th>\n",
       "      <th>forecastVolum</th>\n",
       "    </tr>\n",
       "  </thead>\n",
       "  <tbody>\n",
       "    <tr>\n",
       "      <td>0</td>\n",
       "      <td>1</td>\n",
       "      <td>116</td>\n",
       "    </tr>\n",
       "    <tr>\n",
       "      <td>1</td>\n",
       "      <td>2</td>\n",
       "      <td>264</td>\n",
       "    </tr>\n",
       "    <tr>\n",
       "      <td>2</td>\n",
       "      <td>3</td>\n",
       "      <td>60</td>\n",
       "    </tr>\n",
       "    <tr>\n",
       "      <td>3</td>\n",
       "      <td>4</td>\n",
       "      <td>255</td>\n",
       "    </tr>\n",
       "    <tr>\n",
       "      <td>4</td>\n",
       "      <td>5</td>\n",
       "      <td>303</td>\n",
       "    </tr>\n",
       "    <tr>\n",
       "      <td>5</td>\n",
       "      <td>6</td>\n",
       "      <td>106</td>\n",
       "    </tr>\n",
       "    <tr>\n",
       "      <td>6</td>\n",
       "      <td>7</td>\n",
       "      <td>239</td>\n",
       "    </tr>\n",
       "    <tr>\n",
       "      <td>7</td>\n",
       "      <td>8</td>\n",
       "      <td>80</td>\n",
       "    </tr>\n",
       "    <tr>\n",
       "      <td>8</td>\n",
       "      <td>9</td>\n",
       "      <td>1814</td>\n",
       "    </tr>\n",
       "    <tr>\n",
       "      <td>9</td>\n",
       "      <td>10</td>\n",
       "      <td>331</td>\n",
       "    </tr>\n",
       "  </tbody>\n",
       "</table>\n",
       "</div>"
      ],
      "text/plain": [
       "   id  forecastVolum\n",
       "0   1            116\n",
       "1   2            264\n",
       "2   3             60\n",
       "3   4            255\n",
       "4   5            303\n",
       "5   6            106\n",
       "6   7            239\n",
       "7   8             80\n",
       "8   9           1814\n",
       "9  10            331"
      ]
     },
     "execution_count": 50,
     "metadata": {},
     "output_type": "execute_result"
    }
   ],
   "source": [
    "# rule=rule2.merge(rule1,on=[\"adcode\", \"model\", \"province\",\"regMonth\"],how='left').rename(columns={'forecastVolum':'forecastVolum2'})\n",
    "# result.head(10)"
   ]
  },
  {
   "cell_type": "code",
   "execution_count": 56,
   "metadata": {},
   "outputs": [
    {
     "data": {
      "text/html": [
       "<div>\n",
       "<style scoped>\n",
       "    .dataframe tbody tr th:only-of-type {\n",
       "        vertical-align: middle;\n",
       "    }\n",
       "\n",
       "    .dataframe tbody tr th {\n",
       "        vertical-align: top;\n",
       "    }\n",
       "\n",
       "    .dataframe thead th {\n",
       "        text-align: right;\n",
       "    }\n",
       "</style>\n",
       "<table border=\"1\" class=\"dataframe\">\n",
       "  <thead>\n",
       "    <tr style=\"text-align: right;\">\n",
       "      <th></th>\n",
       "      <th>id</th>\n",
       "      <th>forecastVolum</th>\n",
       "    </tr>\n",
       "  </thead>\n",
       "  <tbody>\n",
       "    <tr>\n",
       "      <td>0</td>\n",
       "      <td>1</td>\n",
       "      <td>133</td>\n",
       "    </tr>\n",
       "    <tr>\n",
       "      <td>1</td>\n",
       "      <td>2</td>\n",
       "      <td>244</td>\n",
       "    </tr>\n",
       "    <tr>\n",
       "      <td>2</td>\n",
       "      <td>3</td>\n",
       "      <td>40</td>\n",
       "    </tr>\n",
       "    <tr>\n",
       "      <td>3</td>\n",
       "      <td>4</td>\n",
       "      <td>92</td>\n",
       "    </tr>\n",
       "    <tr>\n",
       "      <td>4</td>\n",
       "      <td>5</td>\n",
       "      <td>81</td>\n",
       "    </tr>\n",
       "  </tbody>\n",
       "</table>\n",
       "</div>"
      ],
      "text/plain": [
       "   id  forecastVolum\n",
       "0   1            133\n",
       "1   2            244\n",
       "2   3             40\n",
       "3   4             92\n",
       "4   5             81"
      ]
     },
     "execution_count": 56,
     "metadata": {},
     "output_type": "execute_result"
    }
   ],
   "source": [
    "sub_ctb.head()\n",
    "\n",
    "sub_lgb_mae.head()\n",
    "sub_xgb.head()"
   ]
  },
  {
   "cell_type": "code",
   "execution_count": 38,
   "metadata": {},
   "outputs": [
    {
     "data": {
      "text/html": [
       "<div>\n",
       "<style scoped>\n",
       "    .dataframe tbody tr th:only-of-type {\n",
       "        vertical-align: middle;\n",
       "    }\n",
       "\n",
       "    .dataframe tbody tr th {\n",
       "        vertical-align: top;\n",
       "    }\n",
       "\n",
       "    .dataframe thead th {\n",
       "        text-align: right;\n",
       "    }\n",
       "</style>\n",
       "<table border=\"1\" class=\"dataframe\">\n",
       "  <thead>\n",
       "    <tr style=\"text-align: right;\">\n",
       "      <th></th>\n",
       "      <th>id</th>\n",
       "      <th>forecastVolum</th>\n",
       "    </tr>\n",
       "  </thead>\n",
       "  <tbody>\n",
       "    <tr>\n",
       "      <td>0</td>\n",
       "      <td>1</td>\n",
       "      <td>206</td>\n",
       "    </tr>\n",
       "    <tr>\n",
       "      <td>1</td>\n",
       "      <td>2</td>\n",
       "      <td>285</td>\n",
       "    </tr>\n",
       "    <tr>\n",
       "      <td>2</td>\n",
       "      <td>3</td>\n",
       "      <td>116</td>\n",
       "    </tr>\n",
       "    <tr>\n",
       "      <td>3</td>\n",
       "      <td>4</td>\n",
       "      <td>262</td>\n",
       "    </tr>\n",
       "    <tr>\n",
       "      <td>4</td>\n",
       "      <td>5</td>\n",
       "      <td>273</td>\n",
       "    </tr>\n",
       "  </tbody>\n",
       "</table>\n",
       "</div>"
      ],
      "text/plain": [
       "   id  forecastVolum\n",
       "0   1            206\n",
       "1   2            285\n",
       "2   3            116\n",
       "3   4            262\n",
       "4   5            273"
      ]
     },
     "execution_count": 38,
     "metadata": {},
     "output_type": "execute_result"
    }
   ],
   "source": [
    "sub_lgb_mse.head()"
   ]
  },
  {
   "cell_type": "code",
   "execution_count": 57,
   "metadata": {},
   "outputs": [
    {
     "data": {
      "text/html": [
       "<div>\n",
       "<style scoped>\n",
       "    .dataframe tbody tr th:only-of-type {\n",
       "        vertical-align: middle;\n",
       "    }\n",
       "\n",
       "    .dataframe tbody tr th {\n",
       "        vertical-align: top;\n",
       "    }\n",
       "\n",
       "    .dataframe thead th {\n",
       "        text-align: right;\n",
       "    }\n",
       "</style>\n",
       "<table border=\"1\" class=\"dataframe\">\n",
       "  <thead>\n",
       "    <tr style=\"text-align: right;\">\n",
       "      <th></th>\n",
       "      <th>id</th>\n",
       "      <th>forecastVolum</th>\n",
       "    </tr>\n",
       "  </thead>\n",
       "  <tbody>\n",
       "    <tr>\n",
       "      <td>0</td>\n",
       "      <td>1</td>\n",
       "      <td>203.2</td>\n",
       "    </tr>\n",
       "    <tr>\n",
       "      <td>1</td>\n",
       "      <td>2</td>\n",
       "      <td>288.4</td>\n",
       "    </tr>\n",
       "    <tr>\n",
       "      <td>2</td>\n",
       "      <td>3</td>\n",
       "      <td>133.6</td>\n",
       "    </tr>\n",
       "    <tr>\n",
       "      <td>3</td>\n",
       "      <td>4</td>\n",
       "      <td>262.8</td>\n",
       "    </tr>\n",
       "    <tr>\n",
       "      <td>4</td>\n",
       "      <td>5</td>\n",
       "      <td>277.8</td>\n",
       "    </tr>\n",
       "  </tbody>\n",
       "</table>\n",
       "</div>"
      ],
      "text/plain": [
       "   id  forecastVolum\n",
       "0   1          203.2\n",
       "1   2          288.4\n",
       "2   3          133.6\n",
       "3   4          262.8\n",
       "4   5          277.8"
      ]
     },
     "execution_count": 57,
     "metadata": {},
     "output_type": "execute_result"
    }
   ],
   "source": [
    "result = sub_lgb_mse\n",
    "result['forecastVolum'] = sub_ctb['forecastVolum']*0.4+sub_lgb_mae['forecastVolum']*0.4+sub_lgb_mse['forecastVolum']*0.2\n",
    "result.head()"
   ]
  },
  {
   "cell_type": "code",
   "execution_count": 58,
   "metadata": {},
   "outputs": [
    {
     "data": {
      "text/html": [
       "<div>\n",
       "<style scoped>\n",
       "    .dataframe tbody tr th:only-of-type {\n",
       "        vertical-align: middle;\n",
       "    }\n",
       "\n",
       "    .dataframe tbody tr th {\n",
       "        vertical-align: top;\n",
       "    }\n",
       "\n",
       "    .dataframe thead th {\n",
       "        text-align: right;\n",
       "    }\n",
       "</style>\n",
       "<table border=\"1\" class=\"dataframe\">\n",
       "  <thead>\n",
       "    <tr style=\"text-align: right;\">\n",
       "      <th></th>\n",
       "      <th>id</th>\n",
       "      <th>forecastVolum</th>\n",
       "    </tr>\n",
       "  </thead>\n",
       "  <tbody>\n",
       "    <tr>\n",
       "      <td>0</td>\n",
       "      <td>1</td>\n",
       "      <td>203</td>\n",
       "    </tr>\n",
       "    <tr>\n",
       "      <td>1</td>\n",
       "      <td>2</td>\n",
       "      <td>288</td>\n",
       "    </tr>\n",
       "    <tr>\n",
       "      <td>2</td>\n",
       "      <td>3</td>\n",
       "      <td>134</td>\n",
       "    </tr>\n",
       "    <tr>\n",
       "      <td>3</td>\n",
       "      <td>4</td>\n",
       "      <td>263</td>\n",
       "    </tr>\n",
       "    <tr>\n",
       "      <td>4</td>\n",
       "      <td>5</td>\n",
       "      <td>278</td>\n",
       "    </tr>\n",
       "  </tbody>\n",
       "</table>\n",
       "</div>"
      ],
      "text/plain": [
       "   id  forecastVolum\n",
       "0   1            203\n",
       "1   2            288\n",
       "2   3            134\n",
       "3   4            263\n",
       "4   5            278"
      ]
     },
     "execution_count": 58,
     "metadata": {},
     "output_type": "execute_result"
    }
   ],
   "source": [
    "result['forecastVolum'] = result['forecastVolum'].round().astype(int)\n",
    "result.head()"
   ]
  },
  {
   "cell_type": "code",
   "execution_count": 59,
   "metadata": {
    "colab": {
     "base_uri": "https://localhost:8080/",
     "height": 200
    },
    "colab_type": "code",
    "id": "25pJPMsuBXWh",
    "outputId": "0357b32e-9250-4af3-8162-3a9c47c8de51"
   },
   "outputs": [
    {
     "data": {
      "text/html": [
       "<div>\n",
       "<style scoped>\n",
       "    .dataframe tbody tr th:only-of-type {\n",
       "        vertical-align: middle;\n",
       "    }\n",
       "\n",
       "    .dataframe tbody tr th {\n",
       "        vertical-align: top;\n",
       "    }\n",
       "\n",
       "    .dataframe thead th {\n",
       "        text-align: right;\n",
       "    }\n",
       "</style>\n",
       "<table border=\"1\" class=\"dataframe\">\n",
       "  <thead>\n",
       "    <tr style=\"text-align: right;\">\n",
       "      <th></th>\n",
       "      <th>id</th>\n",
       "      <th>forecastVolum</th>\n",
       "    </tr>\n",
       "  </thead>\n",
       "  <tbody>\n",
       "    <tr>\n",
       "      <td>0</td>\n",
       "      <td>1</td>\n",
       "      <td>289</td>\n",
       "    </tr>\n",
       "    <tr>\n",
       "      <td>1</td>\n",
       "      <td>2</td>\n",
       "      <td>378</td>\n",
       "    </tr>\n",
       "    <tr>\n",
       "      <td>2</td>\n",
       "      <td>3</td>\n",
       "      <td>154</td>\n",
       "    </tr>\n",
       "    <tr>\n",
       "      <td>3</td>\n",
       "      <td>4</td>\n",
       "      <td>344</td>\n",
       "    </tr>\n",
       "    <tr>\n",
       "      <td>4</td>\n",
       "      <td>5</td>\n",
       "      <td>402</td>\n",
       "    </tr>\n",
       "  </tbody>\n",
       "</table>\n",
       "</div>"
      ],
      "text/plain": [
       "   id  forecastVolum\n",
       "0   1            289\n",
       "1   2            378\n",
       "2   3            154\n",
       "3   4            344\n",
       "4   5            402"
      ]
     },
     "execution_count": 59,
     "metadata": {},
     "output_type": "execute_result"
    }
   ],
   "source": [
    "result2 = pd.read_csv(\"rongheguize_0901.csv\")\n",
    "\n",
    "result2.head(5)"
   ]
  },
  {
   "cell_type": "code",
   "execution_count": 45,
   "metadata": {
    "colab": {
     "base_uri": "https://localhost:8080/",
     "height": 35
    },
    "colab_type": "code",
    "id": "3mO_1b2BCqFv",
    "outputId": "138634cb-599a-4557-b155-271bdcd5d2af"
   },
   "outputs": [
    {
     "data": {
      "text/plain": [
       "(5280, 2)"
      ]
     },
     "execution_count": 45,
     "metadata": {},
     "output_type": "execute_result"
    }
   ],
   "source": [
    "result2.shape"
   ]
  },
  {
   "cell_type": "code",
   "execution_count": 60,
   "metadata": {
    "colab": {
     "base_uri": "https://localhost:8080/",
     "height": 200
    },
    "colab_type": "code",
    "id": "_mP8TOhACrrO",
    "outputId": "351aa5f0-9625-411e-f261-f26a8794daec"
   },
   "outputs": [
    {
     "data": {
      "text/html": [
       "<div>\n",
       "<style scoped>\n",
       "    .dataframe tbody tr th:only-of-type {\n",
       "        vertical-align: middle;\n",
       "    }\n",
       "\n",
       "    .dataframe tbody tr th {\n",
       "        vertical-align: top;\n",
       "    }\n",
       "\n",
       "    .dataframe thead th {\n",
       "        text-align: right;\n",
       "    }\n",
       "</style>\n",
       "<table border=\"1\" class=\"dataframe\">\n",
       "  <thead>\n",
       "    <tr style=\"text-align: right;\">\n",
       "      <th></th>\n",
       "      <th>id</th>\n",
       "      <th>forecastVolum</th>\n",
       "    </tr>\n",
       "  </thead>\n",
       "  <tbody>\n",
       "    <tr>\n",
       "      <td>0</td>\n",
       "      <td>1</td>\n",
       "      <td>246.0</td>\n",
       "    </tr>\n",
       "    <tr>\n",
       "      <td>1</td>\n",
       "      <td>2</td>\n",
       "      <td>333.0</td>\n",
       "    </tr>\n",
       "    <tr>\n",
       "      <td>2</td>\n",
       "      <td>3</td>\n",
       "      <td>144.0</td>\n",
       "    </tr>\n",
       "    <tr>\n",
       "      <td>3</td>\n",
       "      <td>4</td>\n",
       "      <td>303.5</td>\n",
       "    </tr>\n",
       "    <tr>\n",
       "      <td>4</td>\n",
       "      <td>5</td>\n",
       "      <td>340.0</td>\n",
       "    </tr>\n",
       "  </tbody>\n",
       "</table>\n",
       "</div>"
      ],
      "text/plain": [
       "   id  forecastVolum\n",
       "0   1          246.0\n",
       "1   2          333.0\n",
       "2   3          144.0\n",
       "3   4          303.5\n",
       "4   5          340.0"
      ]
     },
     "execution_count": 60,
     "metadata": {},
     "output_type": "execute_result"
    }
   ],
   "source": [
    "result2['forecastVolum'] = result['forecastVolum']*0.5 + result2['forecastVolum']*0.5\n",
    "result2.head()"
   ]
  },
  {
   "cell_type": "code",
   "execution_count": 61,
   "metadata": {
    "colab": {
     "base_uri": "https://localhost:8080/",
     "height": 200
    },
    "colab_type": "code",
    "id": "plaLBGBkDMIO",
    "outputId": "449ec29d-272d-49dd-91cd-9b164565b4e1"
   },
   "outputs": [
    {
     "data": {
      "text/html": [
       "<div>\n",
       "<style scoped>\n",
       "    .dataframe tbody tr th:only-of-type {\n",
       "        vertical-align: middle;\n",
       "    }\n",
       "\n",
       "    .dataframe tbody tr th {\n",
       "        vertical-align: top;\n",
       "    }\n",
       "\n",
       "    .dataframe thead th {\n",
       "        text-align: right;\n",
       "    }\n",
       "</style>\n",
       "<table border=\"1\" class=\"dataframe\">\n",
       "  <thead>\n",
       "    <tr style=\"text-align: right;\">\n",
       "      <th></th>\n",
       "      <th>id</th>\n",
       "      <th>forecastVolum</th>\n",
       "    </tr>\n",
       "  </thead>\n",
       "  <tbody>\n",
       "    <tr>\n",
       "      <td>0</td>\n",
       "      <td>1</td>\n",
       "      <td>246</td>\n",
       "    </tr>\n",
       "    <tr>\n",
       "      <td>1</td>\n",
       "      <td>2</td>\n",
       "      <td>333</td>\n",
       "    </tr>\n",
       "    <tr>\n",
       "      <td>2</td>\n",
       "      <td>3</td>\n",
       "      <td>144</td>\n",
       "    </tr>\n",
       "    <tr>\n",
       "      <td>3</td>\n",
       "      <td>4</td>\n",
       "      <td>304</td>\n",
       "    </tr>\n",
       "    <tr>\n",
       "      <td>4</td>\n",
       "      <td>5</td>\n",
       "      <td>340</td>\n",
       "    </tr>\n",
       "  </tbody>\n",
       "</table>\n",
       "</div>"
      ],
      "text/plain": [
       "   id  forecastVolum\n",
       "0   1            246\n",
       "1   2            333\n",
       "2   3            144\n",
       "3   4            304\n",
       "4   5            340"
      ]
     },
     "execution_count": 61,
     "metadata": {},
     "output_type": "execute_result"
    }
   ],
   "source": [
    "result2['forecastVolum'] = result2['forecastVolum'].round().astype(int)\n",
    "result2.head()"
   ]
  },
  {
   "cell_type": "code",
   "execution_count": 62,
   "metadata": {
    "colab": {},
    "colab_type": "code",
    "id": "S4F1ItEMDek2"
   },
   "outputs": [],
   "source": [
    "result2.to_csv('stacking1.csv', index=False)"
   ]
  },
  {
   "cell_type": "code",
   "execution_count": 0,
   "metadata": {
    "colab": {},
    "colab_type": "code",
    "id": "Z7zrENQmzJE8"
   },
   "outputs": [],
   "source": [
    "\n",
    "# def get_predict_w(model, data, label='label', feature=[], cate_feature=[], random_state=2018, n_splits=5,\n",
    "#                   model_type='lgb'):\n",
    "#     if 'sample_weight' not in data.keys():\n",
    "#         data['sample_weight'] = 1\n",
    "#     model.random_state = random_state\n",
    "#     predict_label = 'predict_' + label\n",
    "#     kfold = KFold(n_splits=n_splits, shuffle=True, random_state=random_state)\n",
    "#     data[predict_label] = 0\n",
    "#     test_index = (data[label].isnull()) | (data[label] == -1)\n",
    "#     train_data = data[~test_index].reset_index(drop=True)\n",
    "#     test_data = data[test_index]\n",
    "#\n",
    "#     for train_idx, val_idx in kfold.split(train_data):\n",
    "#         model.random_state = model.random_state + 1\n",
    "#\n",
    "#         train_x = train_data.loc[train_idx][feature]\n",
    "#         train_y = train_data.loc[train_idx][label]\n",
    "#\n",
    "#         test_x = train_data.loc[val_idx][feature]\n",
    "#         test_y = train_data.loc[val_idx][label]\n",
    "#         if model_type == 'lgb':\n",
    "#             try:\n",
    "#                 model.fit(train_x, train_y, eval_set=[(test_x, test_y)], early_stopping_rounds=100,\n",
    "#                           # eval_metric='mae',\n",
    "#                           categorical_feature=cate_feature,\n",
    "#                           sample_weight=train_data.loc[train_idx]['sample_weight'],\n",
    "#                           verbose=100)\n",
    "#             except:\n",
    "#                 model.fit(train_x, train_y, eval_set=[(test_x, test_y)], early_stopping_rounds=100,\n",
    "#                           eval_metric='mae',\n",
    "#                           # categorical_feature=cate_feature,\n",
    "#                           sample_weight=train_data.loc[train_idx]['sample_weight'],\n",
    "#                           verbose=100)\n",
    "#         elif model_type == 'ctb':\n",
    "#             model.fit(train_x, train_y, eval_set=[(test_x, test_y)], early_stopping_rounds=100,\n",
    "#                       # eval_metric='mae',\n",
    "#                       cat_features=cate_feature,\n",
    "#                       sample_weight=train_data.loc[train_idx]['sample_weight'],\n",
    "#                       verbose=100)\n",
    "#         train_data.loc[val_idx, predict_label] = model.predict(test_x)\n",
    "#         if len(test_data) != 0:\n",
    "#             test_data[predict_label] = test_data[predict_label] + model.predict(test_data[feature])\n",
    "#     test_data[predict_label] = test_data[predict_label] / n_splits\n",
    "#     print(mse(train_data[label], train_data[predict_label]), train_data[predict_label].mean(),\n",
    "#           test_data[predict_label].mean())\n",
    "#     return pd.concat([train_data, test_data], sort=True, ignore_index=True), predict_label\n",
    "#\n",
    "#\n",
    "# data, predict_label = get_predict_w(lgb_model, data, label='label',\n",
    "#                                     feature=features, cate_feature=cate_feat,\n",
    "#                                     random_state=2019, n_splits=5)\n",
    "#\n",
    "# # 自定义评价函数\n",
    "# model = data[valid_idx]['model'].values\n",
    "#\n",
    "#\n",
    "# def n_rmse(preds, labels):\n",
    "#     valid_data = pd.DataFrame({\n",
    "#         'label': labels,\n",
    "#         'pred_label': preds,\n",
    "#         'model': model\n",
    "#     })\n",
    "#     n_rmse = score(valid_data)\n",
    "#     return 'n_rmse', n_rmse, True\n",
    "#\n",
    "# #\n",
    "# # data['lgb'] = data[predict_label]\n",
    "# #\n",
    "# # data['forecastVolum'] = data['lgb'].apply(lambda x: 0 if x < 0 else x)\n",
    "# # data[data.label.isnull()][['id', 'forecastVolum']].round().astype(int).to_csv(path + '/sub/sub.csv', index=False)\n",
    "# #\n",
    "# # ## 简单版本，预测下一个月。\n",
    "# #\n",
    "# #\n",
    "# # #\n",
    "# # # xgb_model = xgb.XGBRegressor(\n",
    "# # #     max_depth=5,\n",
    "# # #     learning_rate=0.01,\n",
    "# # #     objective='reg:linear',\n",
    "# # #     eval_metric='mae',\n",
    "# # #     subsample=0.8, colsample_bytree=0.5,\n",
    "# # #     n_estimators=3000,\n",
    "# # #     reg_alpha=0.,\n",
    "# # #     reg_lambda=0.001,\n",
    "# # #     min_child_weight=50,\n",
    "# # #     n_jobs=8,\n",
    "# # #     seed=42,\n",
    "# # # )\n",
    "# # #\n",
    "# # # data, predict_label = get_predict_w(xgb_model, data, label='temp_label',\n",
    "# # #                                     feature=features, random_state=2018, n_splits=5)\n",
    "# # #\n",
    "# # # data['xgb'] = data[predict_label]\n",
    "# # #\n",
    "# # # ctb_params = {\n",
    "# # #     'n_estimators': 10000,\n",
    "# # #     'learning_rate': 0.02,\n",
    "# # #     'random_seed': 4590,\n",
    "# # #     'reg_lambda': 0.08,\n",
    "# # #     'subsample': 0.7,\n",
    "# # #     'bootstrap_type': 'Bernoulli',\n",
    "# # #     'boosting_type': 'Plain',\n",
    "# # #     'one_hot_max_size': 10,\n",
    "# # #     'rsm': 0.5,\n",
    "# # #     'leaf_estimation_iterations': 5,\n",
    "# # #     'use_best_model': True,\n",
    "# # #     'max_depth': 6,\n",
    "# # #     'verbose': -1,\n",
    "# # #     'thread_count': 4\n",
    "# # # }\n",
    "# # #\n",
    "# # # ctb_model = ctb.CatBoostRegressor(**ctb_params)\n",
    "# # #\n",
    "# # # data, predict_label = get_predict_w(ctb_model, data, label='temp_label',\n",
    "# # #                                     feature=features,\n",
    "# # #                                     random_state=2019, n_splits=5, model_type='ctb')\n",
    "# # #\n",
    "# # # data['ctb'] = data[predict_label]\n",
    "# # #\n",
    "# # # data['t_label'] = data['lgb_mse'] * 0.4 + data['xgb_mse'] * 0.1 + data['ctb_mse'] * 0.4 + data['lgb_mae'] * 0.1"
   ]
  }
 ],
 "metadata": {
  "colab": {
   "collapsed_sections": [],
   "name": "baseline083101.ipynb",
   "provenance": [],
   "version": "0.3.2"
  },
  "kernelspec": {
   "display_name": "Python 3",
   "language": "python",
   "name": "python3"
  },
  "language_info": {
   "codemirror_mode": {
    "name": "ipython",
    "version": 3
   },
   "file_extension": ".py",
   "mimetype": "text/x-python",
   "name": "python",
   "nbconvert_exporter": "python",
   "pygments_lexer": "ipython3",
   "version": "3.5.6"
  }
 },
 "nbformat": 4,
 "nbformat_minor": 1
}
