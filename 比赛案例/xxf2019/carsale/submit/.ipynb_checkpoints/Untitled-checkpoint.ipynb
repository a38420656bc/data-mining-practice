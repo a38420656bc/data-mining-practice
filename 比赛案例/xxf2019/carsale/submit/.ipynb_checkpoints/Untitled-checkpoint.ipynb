{
 "cells": [
  {
   "cell_type": "code",
   "execution_count": 1,
   "metadata": {},
   "outputs": [],
   "source": [
    "import pandas as pd"
   ]
  },
  {
   "cell_type": "code",
   "execution_count": 3,
   "metadata": {},
   "outputs": [],
   "source": [
    "sub1 = pd.read_csv(\"yulao.csv\")\n",
    "sub2 = pd.read_csv(\"rongheguize_0902.csv\")\n",
    "sub3 = pd.read_csv(\"evaluation_public_20190916_lgb.csv\")"
   ]
  },
  {
   "cell_type": "code",
   "execution_count": 4,
   "metadata": {},
   "outputs": [
    {
     "name": "stdout",
     "output_type": "stream",
     "text": [
      "(5280, 2)\n",
      "(5280, 2)\n",
      "(5280, 2)\n"
     ]
    }
   ],
   "source": [
    "print(sub1.shape)\n",
    "print(sub2.shape)\n",
    "print(sub3.shape)"
   ]
  },
  {
   "cell_type": "code",
   "execution_count": 6,
   "metadata": {},
   "outputs": [
    {
     "name": "stdout",
     "output_type": "stream",
     "text": [
      "<bound method NDFrame.head of         id  forecastVolum\n",
      "0        1            267\n",
      "1        2            333\n",
      "2        3            165\n",
      "3        4            312\n",
      "4        5            421\n",
      "...    ...            ...\n",
      "5275  5364             91\n",
      "5276  5365             91\n",
      "5277  5366            106\n",
      "5278  5367            223\n",
      "5279  5368             74\n",
      "\n",
      "[5280 rows x 2 columns]>\n",
      "<bound method NDFrame.head of         id  forecastVolum\n",
      "0        1            288\n",
      "1        2            376\n",
      "2        3            154\n",
      "3        4            332\n",
      "4        5            402\n",
      "...    ...            ...\n",
      "5275  5364             95\n",
      "5276  5365             83\n",
      "5277  5366            104\n",
      "5278  5367            227\n",
      "5279  5368             66\n",
      "\n",
      "[5280 rows x 2 columns]>\n",
      "<bound method NDFrame.head of         id  forecastVolum\n",
      "0        1            268\n",
      "1        2            313\n",
      "2        3            182\n",
      "3        4            345\n",
      "4        5            407\n",
      "...    ...            ...\n",
      "5275  5364             82\n",
      "5276  5365             93\n",
      "5277  5366             75\n",
      "5278  5367            224\n",
      "5279  5368             54\n",
      "\n",
      "[5280 rows x 2 columns]>\n"
     ]
    }
   ],
   "source": [
    "print(sub1.head)\n",
    "print(sub2.head)\n",
    "print(sub3.head)"
   ]
  },
  {
   "cell_type": "code",
   "execution_count": 17,
   "metadata": {},
   "outputs": [],
   "source": [
    "a = (sub1['forecastVolum'].values)\n",
    "a = a*(1/3)"
   ]
  },
  {
   "cell_type": "code",
   "execution_count": 22,
   "metadata": {},
   "outputs": [
    {
     "data": {
      "text/html": [
       "<div>\n",
       "<style scoped>\n",
       "    .dataframe tbody tr th:only-of-type {\n",
       "        vertical-align: middle;\n",
       "    }\n",
       "\n",
       "    .dataframe tbody tr th {\n",
       "        vertical-align: top;\n",
       "    }\n",
       "\n",
       "    .dataframe thead th {\n",
       "        text-align: right;\n",
       "    }\n",
       "</style>\n",
       "<table border=\"1\" class=\"dataframe\">\n",
       "  <thead>\n",
       "    <tr style=\"text-align: right;\">\n",
       "      <th></th>\n",
       "      <th>id</th>\n",
       "      <th>forecastVolum</th>\n",
       "    </tr>\n",
       "  </thead>\n",
       "  <tbody>\n",
       "    <tr>\n",
       "      <td>0</td>\n",
       "      <td>1</td>\n",
       "      <td>274.333333</td>\n",
       "    </tr>\n",
       "    <tr>\n",
       "      <td>1</td>\n",
       "      <td>2</td>\n",
       "      <td>340.666667</td>\n",
       "    </tr>\n",
       "    <tr>\n",
       "      <td>2</td>\n",
       "      <td>3</td>\n",
       "      <td>167.000000</td>\n",
       "    </tr>\n",
       "    <tr>\n",
       "      <td>3</td>\n",
       "      <td>4</td>\n",
       "      <td>329.666667</td>\n",
       "    </tr>\n",
       "    <tr>\n",
       "      <td>4</td>\n",
       "      <td>5</td>\n",
       "      <td>410.000000</td>\n",
       "    </tr>\n",
       "  </tbody>\n",
       "</table>\n",
       "</div>"
      ],
      "text/plain": [
       "   id  forecastVolum\n",
       "0   1     274.333333\n",
       "1   2     340.666667\n",
       "2   3     167.000000\n",
       "3   4     329.666667\n",
       "4   5     410.000000"
      ]
     },
     "execution_count": 22,
     "metadata": {},
     "output_type": "execute_result"
    }
   ],
   "source": [
    "sub_ronghe = sub1.copy()\n",
    "sub_ronghe['forecastVolum'] = (sub1['forecastVolum'].values)*(1/3)+(sub2['forecastVolum'].values)*(1/3)+(sub3['forecastVolum'].values)*(1/3)\n",
    "sub_ronghe.head()"
   ]
  },
  {
   "cell_type": "code",
   "execution_count": 24,
   "metadata": {},
   "outputs": [],
   "source": [
    "sub_ronghe[['id','forecastVolum']].round().astype(int).to_csv('ronghe_0916.csv', index=False)"
   ]
  }
 ],
 "metadata": {
  "kernelspec": {
   "display_name": "Python 3",
   "language": "python",
   "name": "python3"
  },
  "language_info": {
   "codemirror_mode": {
    "name": "ipython",
    "version": 3
   },
   "file_extension": ".py",
   "mimetype": "text/x-python",
   "name": "python",
   "nbconvert_exporter": "python",
   "pygments_lexer": "ipython3",
   "version": "3.5.6"
  }
 },
 "nbformat": 4,
 "nbformat_minor": 2
}
