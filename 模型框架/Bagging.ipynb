{
  "nbformat": 4,
  "nbformat_minor": 0,
  "metadata": {
    "colab": {
      "name": "Bagging.ipynb",
      "version": "0.3.2",
      "provenance": []
    },
    "kernelspec": {
      "name": "python3",
      "display_name": "Python 3"
    }
  },
  "cells": [
    {
      "cell_type": "markdown",
      "metadata": {
        "id": "E39b2NYnmsUY",
        "colab_type": "text"
      },
      "source": [
        "#Bagging Method\n",
        "\n",
        "![bagging classifier](https://prachimjoshi.files.wordpress.com/2015/07/screen_shot_2010-12-03_at_5-46-21_pm.png)\n",
        "\n",
        "Bagging是集成学习方式的一种，同一个学习算法在来自同一分布的多个不同的训练数据集上训练得到的模型偏差可能较大，即**模型的方差（variance）较大**，为了解决这个问题，可以综合多个模型的输出结果，对于回归问题可以取平均值，对于分类问题可以采取多数投票的方法。这就是Bagging的核心思想，有点类似随机森林的学习方式。\n",
        "\n",
        "有放回的随机采样，同cross-validation一样，是一种resample技术。示例如下：\n",
        "\n",
        "![分类示例](https://uc-r.github.io/public/images/analytics/bootstrap/bootstrap.png)\n",
        "\n",
        "我个人理解是通过多次对同一分布的数据集进行采样从而得到多个服从同一分布的数据集，但这对模型的性能不会有决定性的影响。\n",
        "\n",
        "**以KNN为例**"
      ]
    },
    {
      "cell_type": "code",
      "metadata": {
        "id": "rWAMQLKymnNy",
        "colab_type": "code",
        "colab": {}
      },
      "source": [
        "from sklearn.ensemble import BaggingClassifier\n",
        "from sklearn.neighbors import KNeighborsClassifier\n",
        "\n",
        "bagging = BaggingClassifier(KNeighborsClassifier(),max_samples=0.1,max_features=0.5,random_state=1)\n",
        "\n",
        "X_train,X_test,y_train,y_test=load_data()\n",
        "\n",
        "bagging.fit(X_train,y_train)\n",
        "y_pre = bagging.predict(X_test)\n",
        "\n"
      ],
      "execution_count": 0,
      "outputs": []
    },
    {
      "cell_type": "markdown",
      "metadata": {
        "id": "3qEpMDy1peuw",
        "colab_type": "text"
      },
      "source": [
        "在 scikit-learn 中，bagging 方法使用统一的 BaggingClassifier 元估计器（或者 BaggingRegressor ），输入的参数和随机子集抽取策略由用户指定。max_samples 和 max_features 控制着子集的大小（对于样例和特征）， bootstrap 和 bootstrap_features 控制着样例和特征的抽取是有放回还是无放回的。 当使用样本子集时，通过设置 oob_score=True ，可以使用袋外(out-of-bag)样本来评估泛化精度。\n"
      ]
    }
  ]
}