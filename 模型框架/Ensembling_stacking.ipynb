{
  "nbformat": 4,
  "nbformat_minor": 0,
  "metadata": {
    "colab": {
      "name": "集成学习（ensembling/stacking）.ipynb",
      "version": "0.3.2",
      "provenance": [],
      "collapsed_sections": []
    },
    "kernelspec": {
      "name": "python3",
      "display_name": "Python 3"
    }
  },
  "cells": [
    {
      "cell_type": "markdown",
      "metadata": {
        "id": "76BpD7m3GKnP",
        "colab_type": "text"
      },
      "source": [
        "#Introduction\n",
        "\n",
        "这篇笔记是一篇简单和基础的对于集成学习方式的介绍，尤其是对于**stacking** 这种方式。\n",
        "\n",
        "在这里，将使用nutshell作为第一层，用其他方式(xgboost)分类的结果作为第二层。\n",
        "\n",
        "Titanc 生存预测是Kaggle上大多数新手的入门竞赛，而stacking这种方式帮助了许多队伍在数据竞赛中拿到非常好的名次，所以这篇笔记主要是填补stacking在Titanic生存预测kernal中的空缺。\n",
        "\n",
        "\n",
        "\n"
      ]
    },
    {
      "cell_type": "markdown",
      "metadata": {
        "id": "3VM-uY53QIt-",
        "colab_type": "text"
      },
      "source": [
        "**基本原理：**\n",
        "![Image of KFold](https://img-blog.csdn.net/20180329162218540?watermark/2/text/aHR0cHM6Ly9ibG9nLmNzZG4ubmV0L3UwMTMzOTU1MTY=/font/5a6L5L2T/fontsize/400/fill/I0JBQkFCMA==/dissolve/70)\n",
        "\n",
        "对于每一轮的 5-fold，Model 1都要做满5次的训练和预测。\n",
        "\n",
        "Titanic 栗子：\n",
        "\n",
        "Train Data有890行。(请对应图中的上层部分）\n",
        "\n",
        "每1次的fold，都会生成 713行 小train， 178行 小test。我们用Model 1来训练 713行的小train，然后预测 178行 小test。预测的结果是长度为 178 的预测值。\n",
        "\n",
        "这样的动作走5次！ 长度为178 的预测值 X 5 = 890 预测值，刚好和Train data长度吻合。这个890预测值是Model 1产生的，我们先存着，因为，一会让它将是第二层模型的训练来源。\n",
        "\n",
        "重点：这一步产生的预测值我们可以转成 890 X 1 （890 行，1列），记作 P1 (大写P)\n",
        "\n",
        "接着说 Test Data 有 418 行。(请对应图中的下层部分，对对对，绿绿的那些框框）\n",
        "\n",
        "每1次的fold，713行 小train训练出来的Model 1要去预测我们全部的Test Data（全部！因为Test Data没有加入5-fold，所以每次都是全部！）。此时，Model 1的预测结果是长度为418的预测值。\n",
        "\n",
        "这样的动作走5次！我们可以得到一个 5 X 418 的预测值矩阵。然后我们根据行来就平均值，最后得到一个 1 X 418 的平均预测值。\n",
        "\n",
        "重点：这一步产生的预测值我们可以转成 418 X 1 （418行，1列），记作 p1 (小写p)\n",
        "\n",
        "走到这里，你的第一层的Model 1完成了它的使命。\n",
        "\n",
        "第一层还会有其他Model的，比如Model 2，同样的走一遍， 我们有可以得到  890 X 1  (P2) 和  418 X 1 (p2) 列预测值。\n",
        "\n",
        "这样吧，假设你第一层有3个模型，这样你就会得到：\n",
        "\n",
        "来自5-fold的预测值矩阵 890 X 3，（P1，P2， P3）  和 来自Test Data预测值矩阵 418 X 3， （p1, p2, p3）。\n",
        "\n",
        "—————————————–——————————————\n",
        "\n",
        "到第二层了………………\n",
        "\n",
        "来自5-fold的预测值矩阵 890 X 3 作为你的Train Data，训练第二层的模型\n",
        "来自Test Data预测值矩阵 418 X 3 就是你的Test Data，用训练好的模型来预测他们\n",
        "\n",
        "\n",
        "————————————————————————————\n",
        "\n",
        "![Image of KFold](https://img-blog.csdn.net/20170828194822708?watermark/2/text/aHR0cDovL2Jsb2cuY3Nkbi5uZXQvTk9UX0dVWQ==/font/5a6L5L2T/fontsize/400/fill/I0JBQkFCMA==/dissolve/70/gravity/Center)\n",
        "\n",
        "\n",
        "\n",
        "\n",
        "K-fold：默认采用的CV策略，主要参数包括两个，一个是样本数目，一个是k-fold要划分的份数\n",
        "\n",
        "    fromsklearn.model_selection import KFold  \n",
        "    X= np.array([[1, 2], [3, 4], [1, 2], [3, 4]])  \n",
        "    y= np.array([1, 2, 3, 4])  \n",
        "    kf= KFold(n_splits=2)  \n",
        "    kf.get_n_splits(X)#给出K折的折数，输出为2  \n",
        "    print(kf)   \n",
        "    #输出为：KFold(n_splits=2, random_state=None,shuffle=False)  \n",
        "    for train_index, test_index in kf.split(X):  \n",
        "        print(\"TRAIN:\",train_index, \"TEST:\", test_index)  \n",
        "    X_train,X_test = X[train_index], X[test_index]  \n",
        "    y_train,y_test = y[train_index], y[test_index]  \n",
        "    #输出：TRAIN: [2 3] TEST: [0 1]  \n",
        "           TRAIN: [0 1] TEST: [2 3]  \n",
        "\n",
        "这里，kf.split(X)返回的是X中进行划分后train和test的索引值，另X中数据集的索引值为0,1,2,3；第一次划分，先选择\n",
        "\n",
        "test，索引为0和1的数据集为test，剩下索引为2和3的数据集为train；第二次划分时，先选择test，索引为2和3的数据集为test，剩下索引为0和1的数据集为train。\n",
        "\n",
        "\n",
        "Stratified k-fold：与k-fold类似，将数据集划分为k份，不同点在于，划分的k份中，每一份内各个类别数据的比例和原始数据集中各个类别的比例相同。"
      ]
    },
    {
      "cell_type": "code",
      "metadata": {
        "id": "cl--cwLxIuFj",
        "colab_type": "code",
        "colab": {
          "base_uri": "https://localhost:8080/",
          "height": 232
        },
        "outputId": "bd5e901c-1851-482b-9f9a-88d10c07a5c9"
      },
      "source": [
        "!apt-get install -y -qq software-properties-common python-software-properties module-init-tools\n",
        "!add-apt-repository -y ppa:alessandro-strada/ppa 2>&1 > /dev/null\n",
        "!apt-get update -qq 2>&1 > /dev/null\n",
        "!apt-get -y install -qq google-drive-ocamlfuse fuse\n",
        "from google.colab import auth\n",
        "auth.authenticate_user()\n",
        "from oauth2client.client import GoogleCredentials\n",
        "creds = GoogleCredentials.get_application_default()\n",
        "import getpass\n",
        "!google-drive-ocamlfuse -headless -id={creds.client_id} -secret={creds.client_secret} < /dev/null 2>&1 | grep URL\n",
        "vcode = getpass.getpass()\n",
        "!echo {vcode} | google-drive-ocamlfuse -headless -id={creds.client_id} -secret={creds.client_secret}"
      ],
      "execution_count": 1,
      "outputs": [
        {
          "output_type": "stream",
          "text": [
            "E: Package 'python-software-properties' has no installation candidate\n",
            "Selecting previously unselected package google-drive-ocamlfuse.\n",
            "(Reading database ... 131289 files and directories currently installed.)\n",
            "Preparing to unpack .../google-drive-ocamlfuse_0.7.6-0ubuntu1~ubuntu18.04.1_amd64.deb ...\n",
            "Unpacking google-drive-ocamlfuse (0.7.6-0ubuntu1~ubuntu18.04.1) ...\n",
            "Setting up google-drive-ocamlfuse (0.7.6-0ubuntu1~ubuntu18.04.1) ...\n",
            "Processing triggers for man-db (2.8.3-2ubuntu0.1) ...\n",
            "Please, open the following URL in a web browser: https://accounts.google.com/o/oauth2/auth?client_id=32555940559.apps.googleusercontent.com&redirect_uri=urn%3Aietf%3Awg%3Aoauth%3A2.0%3Aoob&scope=https%3A%2F%2Fwww.googleapis.com%2Fauth%2Fdrive&response_type=code&access_type=offline&approval_prompt=force\n",
            "··········\n",
            "Please, open the following URL in a web browser: https://accounts.google.com/o/oauth2/auth?client_id=32555940559.apps.googleusercontent.com&redirect_uri=urn%3Aietf%3Awg%3Aoauth%3A2.0%3Aoob&scope=https%3A%2F%2Fwww.googleapis.com%2Fauth%2Fdrive&response_type=code&access_type=offline&approval_prompt=force\n",
            "Please enter the verification code: Access token retrieved correctly.\n"
          ],
          "name": "stdout"
        }
      ]
    },
    {
      "cell_type": "code",
      "metadata": {
        "id": "TK-HxjbjJCpv",
        "colab_type": "code",
        "colab": {
          "base_uri": "https://localhost:8080/",
          "height": 212
        },
        "outputId": "62834e9a-0669-44cd-abaf-f0cc853e0293"
      },
      "source": [
        "!mkdir -p drive\n",
        "!google-drive-ocamlfuse -o nonempty drive\n",
        "import os\n",
        "os.chdir(\"drive\")\n",
        "!ls"
      ],
      "execution_count": 1,
      "outputs": [
        {
          "output_type": "stream",
          "text": [
            " aclImdb_v1.tar.gz      practice\t        Titanic\n",
            " data_description.txt   residual_plot.png       torchtest.ipynb\n",
            " drive\t\t        Sales\t\t        train.csv\n",
            " GuodongDrive\t        sample_submission.csv   Untitled0.ipynb\n",
            " House\t\t        Sense1.ipynb\t        XGboost_practice1.ipynb\n",
            "'House price'\t        Sense2.ipynb（副本）    XGboost_practice2.ipynb\n",
            " Houseprice.ipynb       Sense.ipynb\t        剑指offer\n",
            " huawei\t\t        sensePY.ipynb\t        数组和链表.desktop\n",
            " labeledTrainData.tsv   submission.csv\t        糖尿病数据.txt\n",
            "'movie review'\t        test.csv\n",
            " neg\t\t        testData.tsv\n"
          ],
          "name": "stdout"
        }
      ]
    },
    {
      "cell_type": "code",
      "metadata": {
        "id": "ePYbr00JJHDv",
        "colab_type": "code",
        "colab": {
          "base_uri": "https://localhost:8080/",
          "height": 52
        },
        "outputId": "08eb4771-08da-4cd8-be80-4bdf47bc431d"
      },
      "source": [
        "os.chdir(\"Titanic\")\n",
        "!ls"
      ],
      "execution_count": 2,
      "outputs": [
        {
          "output_type": "stream",
          "text": [
            "StackingSubmission.csv\ttest.ipynb     train.csv\n",
            "test.csv\t\tTitanic.ipynb  集成学习（ensembling_stacking）.ipynb\n"
          ],
          "name": "stdout"
        }
      ]
    },
    {
      "cell_type": "code",
      "metadata": {
        "id": "BZuJUbjvF5OY",
        "colab_type": "code",
        "colab": {
          "base_uri": "https://localhost:8080/",
          "height": 17
        },
        "outputId": "116135bd-0799-46c1-c858-b1386322b53b"
      },
      "source": [
        "#导入libraries\n",
        "import pandas as pd\n",
        "import numpy as np\n",
        "import re\n",
        "import sklearn\n",
        "import xgboost as xgb\n",
        "import seaborn as sns\n",
        "import matplotlib.pyplot as plt\n",
        "%matplotlib inline\n",
        "\n",
        "import plotly.offline as py\n",
        "py.init_notebook_mode(connected = True)\n",
        "import plotly.graph_objs as go\n",
        "import plotly.tools as tls\n",
        "\n",
        "import warnings\n",
        "warnings.filterwarnings('ignore')\n",
        "\n"
      ],
      "execution_count": 3,
      "outputs": [
        {
          "output_type": "display_data",
          "data": {
            "text/vnd.plotly.v1+html": "<script type=\"text/javascript\">window.PlotlyConfig = {MathJaxConfig: 'local'};</script><script type=\"text/javascript\">if (window.MathJax) {MathJax.Hub.Config({SVG: {font: \"STIX-Web\"}});}</script><script>requirejs.config({paths: { 'plotly': ['https://cdn.plot.ly/plotly-latest.min']},});if(!window._Plotly) {require(['plotly'],function(plotly) {window._Plotly=plotly;});}</script>",
            "text/html": [
              "<script type=\"text/javascript\">window.PlotlyConfig = {MathJaxConfig: 'local'};</script><script type=\"text/javascript\">if (window.MathJax) {MathJax.Hub.Config({SVG: {font: \"STIX-Web\"}});}</script><script>requirejs.config({paths: { 'plotly': ['https://cdn.plot.ly/plotly-latest.min']},});if(!window._Plotly) {require(['plotly'],function(plotly) {window._Plotly=plotly;});}</script>"
            ]
          },
          "metadata": {
            "tags": []
          }
        }
      ]
    },
    {
      "cell_type": "markdown",
      "metadata": {
        "id": "xjEzJTTwJ6m-",
        "colab_type": "text"
      },
      "source": [
        "**我们准备用5个模型作为base model进行stacking**"
      ]
    },
    {
      "cell_type": "code",
      "metadata": {
        "id": "ds_4dygTJOW3",
        "colab_type": "code",
        "colab": {}
      },
      "source": [
        "from sklearn.ensemble import (RandomForestClassifier, \n",
        "                              AdaBoostClassifier,\n",
        "                              GradientBoostingClassifier,\n",
        "                             ExtraTreesClassifier)\n",
        "from sklearn.svm import SVC\n",
        "#from sklearn.cross_validation import KFold\n",
        "from sklearn.model_selection import KFold"
      ],
      "execution_count": 0,
      "outputs": []
    },
    {
      "cell_type": "markdown",
      "metadata": {
        "id": "LPkYtE0bLQ_-",
        "colab_type": "text"
      },
      "source": [
        "一个需要注意一下的小点：原kernal中导入KFold是用的 sklearn.cross_validation，但是再sklearn 0.18及以上版本中，这个包被放弃，用model——selection代替"
      ]
    },
    {
      "cell_type": "markdown",
      "metadata": {
        "id": "UzhLCIN0Lxs2",
        "colab_type": "text"
      },
      "source": [
        "#特征处理\n",
        "\n",
        "如大多数kernal结构一样，我们先进行特征处理，来探索可能的有用特征以及可以分类特征（categorical features）"
      ]
    },
    {
      "cell_type": "code",
      "metadata": {
        "id": "WMX6b4dQLxF-",
        "colab_type": "code",
        "colab": {
          "base_uri": "https://localhost:8080/",
          "height": 200
        },
        "outputId": "2c863962-b080-4df7-ac23-98dd728a5e45"
      },
      "source": [
        "train = pd.read_csv('train.csv')\n",
        "test = pd.read_csv('test.csv')\n",
        "\n",
        "#先保存一下乘客ID 以便进行预处理\n",
        "PassengerId = test['PassengerId']\n",
        "train.head(5)"
      ],
      "execution_count": 5,
      "outputs": [
        {
          "output_type": "execute_result",
          "data": {
            "text/html": [
              "<div>\n",
              "<style scoped>\n",
              "    .dataframe tbody tr th:only-of-type {\n",
              "        vertical-align: middle;\n",
              "    }\n",
              "\n",
              "    .dataframe tbody tr th {\n",
              "        vertical-align: top;\n",
              "    }\n",
              "\n",
              "    .dataframe thead th {\n",
              "        text-align: right;\n",
              "    }\n",
              "</style>\n",
              "<table border=\"1\" class=\"dataframe\">\n",
              "  <thead>\n",
              "    <tr style=\"text-align: right;\">\n",
              "      <th></th>\n",
              "      <th>PassengerId</th>\n",
              "      <th>Survived</th>\n",
              "      <th>Pclass</th>\n",
              "      <th>Name</th>\n",
              "      <th>Sex</th>\n",
              "      <th>Age</th>\n",
              "      <th>SibSp</th>\n",
              "      <th>Parch</th>\n",
              "      <th>Ticket</th>\n",
              "      <th>Fare</th>\n",
              "      <th>Cabin</th>\n",
              "      <th>Embarked</th>\n",
              "    </tr>\n",
              "  </thead>\n",
              "  <tbody>\n",
              "    <tr>\n",
              "      <th>0</th>\n",
              "      <td>1</td>\n",
              "      <td>0</td>\n",
              "      <td>3</td>\n",
              "      <td>Braund, Mr. Owen Harris</td>\n",
              "      <td>male</td>\n",
              "      <td>22.0</td>\n",
              "      <td>1</td>\n",
              "      <td>0</td>\n",
              "      <td>A/5 21171</td>\n",
              "      <td>7.2500</td>\n",
              "      <td>NaN</td>\n",
              "      <td>S</td>\n",
              "    </tr>\n",
              "    <tr>\n",
              "      <th>1</th>\n",
              "      <td>2</td>\n",
              "      <td>1</td>\n",
              "      <td>1</td>\n",
              "      <td>Cumings, Mrs. John Bradley (Florence Briggs Th...</td>\n",
              "      <td>female</td>\n",
              "      <td>38.0</td>\n",
              "      <td>1</td>\n",
              "      <td>0</td>\n",
              "      <td>PC 17599</td>\n",
              "      <td>71.2833</td>\n",
              "      <td>C85</td>\n",
              "      <td>C</td>\n",
              "    </tr>\n",
              "    <tr>\n",
              "      <th>2</th>\n",
              "      <td>3</td>\n",
              "      <td>1</td>\n",
              "      <td>3</td>\n",
              "      <td>Heikkinen, Miss. Laina</td>\n",
              "      <td>female</td>\n",
              "      <td>26.0</td>\n",
              "      <td>0</td>\n",
              "      <td>0</td>\n",
              "      <td>STON/O2. 3101282</td>\n",
              "      <td>7.9250</td>\n",
              "      <td>NaN</td>\n",
              "      <td>S</td>\n",
              "    </tr>\n",
              "    <tr>\n",
              "      <th>3</th>\n",
              "      <td>4</td>\n",
              "      <td>1</td>\n",
              "      <td>1</td>\n",
              "      <td>Futrelle, Mrs. Jacques Heath (Lily May Peel)</td>\n",
              "      <td>female</td>\n",
              "      <td>35.0</td>\n",
              "      <td>1</td>\n",
              "      <td>0</td>\n",
              "      <td>113803</td>\n",
              "      <td>53.1000</td>\n",
              "      <td>C123</td>\n",
              "      <td>S</td>\n",
              "    </tr>\n",
              "    <tr>\n",
              "      <th>4</th>\n",
              "      <td>5</td>\n",
              "      <td>0</td>\n",
              "      <td>3</td>\n",
              "      <td>Allen, Mr. William Henry</td>\n",
              "      <td>male</td>\n",
              "      <td>35.0</td>\n",
              "      <td>0</td>\n",
              "      <td>0</td>\n",
              "      <td>373450</td>\n",
              "      <td>8.0500</td>\n",
              "      <td>NaN</td>\n",
              "      <td>S</td>\n",
              "    </tr>\n",
              "  </tbody>\n",
              "</table>\n",
              "</div>"
            ],
            "text/plain": [
              "   PassengerId  Survived  Pclass  ...     Fare Cabin  Embarked\n",
              "0            1         0       3  ...   7.2500   NaN         S\n",
              "1            2         1       1  ...  71.2833   C85         C\n",
              "2            3         1       3  ...   7.9250   NaN         S\n",
              "3            4         1       1  ...  53.1000  C123         S\n",
              "4            5         0       3  ...   8.0500   NaN         S\n",
              "\n",
              "[5 rows x 12 columns]"
            ]
          },
          "metadata": {
            "tags": []
          },
          "execution_count": 5
        }
      ]
    },
    {
      "cell_type": "markdown",
      "metadata": {
        "id": "icKnATNHM2-g",
        "colab_type": "text"
      },
      "source": [
        "我们要从这些分类变量中提取出有用信息\n",
        "\n",
        "作者主要参考了[Sina的特征处理kernal](https://www.kaggle.com/sinakhorami/titanic/titanic-best-working-classifier)"
      ]
    },
    {
      "cell_type": "code",
      "metadata": {
        "id": "GxhQ3lc9Lq-d",
        "colab_type": "code",
        "colab": {}
      },
      "source": [
        "full_data = [train,test]\n",
        "#将名字的长度添加进train\n",
        "train['Name_length'] = train['Name'].apply(len)\n",
        "test['Name_length'] = test['Name'].apply(len)\n",
        "\n",
        "#将乘客是否具有仓位作为一个特征，这样就将原来的float变成了0,1特征\n",
        "train['Has_Cabin'] = train[\"Cabin\"].apply(lambda x:0 if type(x) == float else 1)\n",
        "test['Has_Cabin'] = test[\"Cabin\"].apply(lambda x:0 if type(x) == float else 1)\n",
        "\n",
        "#将SibSp 和 Parch 添加为新特征 FamlySize\n",
        "for dataset in full_data:\n",
        "  dataset['FamilySize'] = dataset['SibSp'] + dataset['Parch'] +1\n",
        "  \n",
        "#从刚才建立的FamilySize 提取新特征 IsAlone\n",
        "for dataset in full_data:\n",
        "  dataset['IsAlone'] = 0\n",
        "  dataset.loc[dataset['FamilySize']==1,'IsAlone'] = 1\n",
        "  \n",
        "#移除Embarked中的所有Nulls\n",
        "for dataset in full_data:\n",
        "  dataset['Embarked'] = dataset['Embarked'].fillna('S')\n",
        "\n",
        "#移除Fare中的所有Nulls，创建新特征CategoricalFare\n",
        "for dataset in full_data:\n",
        "  dataset['Fare'] = dataset['Fare'].fillna(train['Fare'].median())\n",
        "train['CategoricalFare'] = pd.qcut(train['Fare'],4)\n",
        "\n",
        "#创建新的特征CategoricalAge,随机生成age区间的随机数，类似于正态化\n",
        "for dataset in full_data:\n",
        "    age_avg = dataset['Age'].mean()\n",
        "    age_std = dataset['Age'].std()\n",
        "    age_null_count = dataset['Age'].isnull().sum()\n",
        "    age_null_random_list = np.random.randint(age_avg - age_std, age_avg + age_std, size=age_null_count)\n",
        "    dataset['Age'][np.isnan(dataset['Age'])] = age_null_random_list\n",
        "    dataset['Age'] = dataset['Age'].astype(int)\n",
        "train['CategoricalAge'] = pd.cut(train['Age'],5)\n",
        "\n",
        "#建立函数来从姓名中提取title\n",
        "def get_title(name):\n",
        "  title_search = re.search('([A-Za-z]+)\\.',name)\n",
        "  if title_search:\n",
        "    return title_search.group(1)\n",
        "  return \"\"\n",
        "\n",
        "#建立新的特征Title\n",
        "for dataset in full_data:\n",
        "  dataset['Title'] = dataset['Name'].apply(get_title)\n",
        "  \n",
        "#将所有的不常见的title归属于（group）Rare\n",
        "for dataset in full_data:\n",
        "  dataset['Title'] = dataset['Title'].replace(['Lady', 'Countess',\n",
        "                                               'Capt', 'Col','Don', 'Dr', 'Major',\n",
        "                                               'Rev', 'Sir', 'Jonkheer', 'Dona'], 'Rare')\n",
        "  dataset['Title'] = dataset['Title'].replace('Mlle', 'Miss')\n",
        "  dataset['Title'] = dataset['Title'].replace('Ms', 'Miss')\n",
        "  dataset['Title'] = dataset['Title'].replace('Mme', 'Mrs')\n",
        "  \n",
        "#mapping sex\n",
        "for dataset in full_data:\n",
        "  dataset['Sex'] = dataset['Sex'].map({'female':0,'male':1}).astype(int)\n",
        "#mapping titles\n",
        "  title_mapping = {\"Mr\": 1, \"Miss\": 2, \"Mrs\": 3, \"Master\": 4, \"Rare\": 5}\n",
        "  dataset['Title'] = dataset['Title'].map(title_mapping)\n",
        "  dataset['Title'] = dataset['Title'].fillna(0)\n",
        "#mapping Embarked\n",
        "  dataset['Embarked'] = dataset['Embarked'].map( {'S': 0, 'C': 1, 'Q': 2} ).astype(int)\n",
        "#mapping Fare\n",
        "  dataset.loc[ dataset['Fare'] <= 7.91, 'Fare'] \t\t\t\t\t\t        = 0\n",
        "  dataset.loc[(dataset['Fare'] > 7.91) & (dataset['Fare'] <= 14.454), 'Fare'] = 1\n",
        "  dataset.loc[(dataset['Fare'] > 14.454) & (dataset['Fare'] <= 31), 'Fare']   = 2\n",
        "  dataset.loc[ dataset['Fare'] > 31, 'Fare'] \t\t\t\t\t\t\t        = 3\n",
        "  dataset['Fare'] = dataset['Fare'].astype(int)\n",
        "#mapping Age\n",
        "  dataset.loc[ dataset['Age'] <= 16, 'Age'] \t\t\t\t\t       = 0\n",
        "  dataset.loc[(dataset['Age'] > 16) & (dataset['Age'] <= 32), 'Age'] = 1\n",
        "  dataset.loc[(dataset['Age'] > 32) & (dataset['Age'] <= 48), 'Age'] = 2\n",
        "  dataset.loc[(dataset['Age'] > 48) & (dataset['Age'] <= 64), 'Age'] = 3\n",
        "  dataset.loc[ dataset['Age'] > 64, 'Age'] = 4 ;"
      ],
      "execution_count": 0,
      "outputs": []
    },
    {
      "cell_type": "code",
      "metadata": {
        "id": "ZXR8QyNp2_sj",
        "colab_type": "code",
        "colab": {}
      },
      "source": [
        "# Feature selection\n",
        "drop_elements = ['PassengerId', 'Name', 'Ticket', 'Cabin', 'SibSp']\n",
        "train = train.drop(drop_elements, axis = 1)\n",
        "train = train.drop(['CategoricalAge', 'CategoricalFare'], axis = 1)\n",
        "test  = test.drop(drop_elements, axis = 1)"
      ],
      "execution_count": 0,
      "outputs": []
    },
    {
      "cell_type": "markdown",
      "metadata": {
        "id": "24hOFV8p34ds",
        "colab_type": "text"
      },
      "source": [
        "***特征处理完毕***\n",
        "\n",
        "在我们将他们放进机器学习模型之前，我们先进行简单的特征分析"
      ]
    },
    {
      "cell_type": "code",
      "metadata": {
        "id": "XgleEZMd4H7h",
        "colab_type": "code",
        "colab": {
          "base_uri": "https://localhost:8080/",
          "height": 200
        },
        "outputId": "fc2e7262-b2a0-4893-887b-a9a595d6478a"
      },
      "source": [
        "train.head()"
      ],
      "execution_count": 8,
      "outputs": [
        {
          "output_type": "execute_result",
          "data": {
            "text/html": [
              "<div>\n",
              "<style scoped>\n",
              "    .dataframe tbody tr th:only-of-type {\n",
              "        vertical-align: middle;\n",
              "    }\n",
              "\n",
              "    .dataframe tbody tr th {\n",
              "        vertical-align: top;\n",
              "    }\n",
              "\n",
              "    .dataframe thead th {\n",
              "        text-align: right;\n",
              "    }\n",
              "</style>\n",
              "<table border=\"1\" class=\"dataframe\">\n",
              "  <thead>\n",
              "    <tr style=\"text-align: right;\">\n",
              "      <th></th>\n",
              "      <th>Survived</th>\n",
              "      <th>Pclass</th>\n",
              "      <th>Sex</th>\n",
              "      <th>Age</th>\n",
              "      <th>Parch</th>\n",
              "      <th>Fare</th>\n",
              "      <th>Embarked</th>\n",
              "      <th>Name_length</th>\n",
              "      <th>Has_Cabin</th>\n",
              "      <th>FamilySize</th>\n",
              "      <th>IsAlone</th>\n",
              "      <th>Title</th>\n",
              "    </tr>\n",
              "  </thead>\n",
              "  <tbody>\n",
              "    <tr>\n",
              "      <th>0</th>\n",
              "      <td>0</td>\n",
              "      <td>3</td>\n",
              "      <td>1</td>\n",
              "      <td>1</td>\n",
              "      <td>0</td>\n",
              "      <td>0</td>\n",
              "      <td>0</td>\n",
              "      <td>23</td>\n",
              "      <td>0</td>\n",
              "      <td>2</td>\n",
              "      <td>0</td>\n",
              "      <td>1</td>\n",
              "    </tr>\n",
              "    <tr>\n",
              "      <th>1</th>\n",
              "      <td>1</td>\n",
              "      <td>1</td>\n",
              "      <td>0</td>\n",
              "      <td>2</td>\n",
              "      <td>0</td>\n",
              "      <td>3</td>\n",
              "      <td>1</td>\n",
              "      <td>51</td>\n",
              "      <td>1</td>\n",
              "      <td>2</td>\n",
              "      <td>0</td>\n",
              "      <td>3</td>\n",
              "    </tr>\n",
              "    <tr>\n",
              "      <th>2</th>\n",
              "      <td>1</td>\n",
              "      <td>3</td>\n",
              "      <td>0</td>\n",
              "      <td>1</td>\n",
              "      <td>0</td>\n",
              "      <td>1</td>\n",
              "      <td>0</td>\n",
              "      <td>22</td>\n",
              "      <td>0</td>\n",
              "      <td>1</td>\n",
              "      <td>1</td>\n",
              "      <td>2</td>\n",
              "    </tr>\n",
              "    <tr>\n",
              "      <th>3</th>\n",
              "      <td>1</td>\n",
              "      <td>1</td>\n",
              "      <td>0</td>\n",
              "      <td>2</td>\n",
              "      <td>0</td>\n",
              "      <td>3</td>\n",
              "      <td>0</td>\n",
              "      <td>44</td>\n",
              "      <td>1</td>\n",
              "      <td>2</td>\n",
              "      <td>0</td>\n",
              "      <td>3</td>\n",
              "    </tr>\n",
              "    <tr>\n",
              "      <th>4</th>\n",
              "      <td>0</td>\n",
              "      <td>3</td>\n",
              "      <td>1</td>\n",
              "      <td>2</td>\n",
              "      <td>0</td>\n",
              "      <td>1</td>\n",
              "      <td>0</td>\n",
              "      <td>24</td>\n",
              "      <td>0</td>\n",
              "      <td>1</td>\n",
              "      <td>1</td>\n",
              "      <td>1</td>\n",
              "    </tr>\n",
              "  </tbody>\n",
              "</table>\n",
              "</div>"
            ],
            "text/plain": [
              "   Survived  Pclass  Sex  Age  ...  Has_Cabin  FamilySize  IsAlone  Title\n",
              "0         0       3    1    1  ...          0           2        0      1\n",
              "1         1       1    0    2  ...          1           2        0      3\n",
              "2         1       3    0    1  ...          0           1        1      2\n",
              "3         1       1    0    2  ...          1           2        0      3\n",
              "4         0       3    1    2  ...          0           1        1      1\n",
              "\n",
              "[5 rows x 12 columns]"
            ]
          },
          "metadata": {
            "tags": []
          },
          "execution_count": 8
        }
      ]
    },
    {
      "cell_type": "markdown",
      "metadata": {
        "id": "6VQM8XPY4Ui3",
        "colab_type": "text"
      },
      "source": [
        "我们先用热力图进行特征的相关性分析"
      ]
    },
    {
      "cell_type": "code",
      "metadata": {
        "id": "ZCSmzm_94QK8",
        "colab_type": "code",
        "colab": {
          "base_uri": "https://localhost:8080/",
          "height": 621
        },
        "outputId": "0ae9a45b-bbac-4f14-daf9-b7aadfc2a175"
      },
      "source": [
        "colormap = plt.cm.RdBu\n",
        "plt.figure(figsize = (10,10))\n",
        "sns.heatmap(train.astype(float).corr(),linewidths = 0.1,vmax = 1.0,square = True,linecolor = 'white',cmap = colormap,annot = True)"
      ],
      "execution_count": 9,
      "outputs": [
        {
          "output_type": "execute_result",
          "data": {
            "text/plain": [
              "<matplotlib.axes._subplots.AxesSubplot at 0x7fd155d45cf8>"
            ]
          },
          "metadata": {
            "tags": []
          },
          "execution_count": 9
        },
        {
          "output_type": "display_data",
          "data": {
            "image/png": "[encoded data removed]",
            "text/plain": [
              "<Figure size 720x720 with 2 Axes>"
            ]
          },
          "metadata": {
            "tags": []
          }
        }
      ]
    },
    {
      "cell_type": "markdown",
      "metadata": {
        "id": "oMU12A9G5jBm",
        "colab_type": "text"
      },
      "source": [
        "从相关性图像中我们可以看到这些特征相关性并不强，所以构建的这些特征还是相当有效的。"
      ]
    },
    {
      "cell_type": "markdown",
      "metadata": {
        "id": "1214erYB6UWT",
        "colab_type": "text"
      },
      "source": [
        "#开始进行stacking"
      ]
    },
    {
      "cell_type": "code",
      "metadata": {
        "id": "XFBz1ldp6TAV",
        "colab_type": "code",
        "colab": {}
      },
      "source": [
        "#一些一会将要用到的比较有用的参数\n",
        "ntrain = train.shape[0]\n",
        "ntest = test.shape[0]\n",
        "SEED = 0 # for reproducibility\n",
        "NFOLDS = 5 # set folds for out-of-fold prediction\n",
        "kf = KFold(5,random_state=SEED)"
      ],
      "execution_count": 0,
      "outputs": []
    },
    {
      "cell_type": "code",
      "metadata": {
        "id": "qXHLew9p5Zwc",
        "colab_type": "code",
        "colab": {}
      },
      "source": [
        "class SklearnHelper(object):\n",
        "  def __init__(self,clf,seed = 0,params = None):\n",
        "    \n",
        "    params['random_state'] = seed\n",
        "    self.clf = clf(**params)\n",
        "\n",
        "  def train(self, x_train, y_train):\n",
        "      self.clf.fit(x_train, y_train)\n",
        "\n",
        "  def predict(self, x):\n",
        "      return self.clf.predict(x)\n",
        "\n",
        "  def fit(self,x,y):\n",
        "      return self.clf.fit(x,y)\n",
        "\n",
        "  def feature_importances(self,x,y):\n",
        "      print(self.clf.fit(x,y).feature_importances_)\n",
        "    "
      ],
      "execution_count": 0,
      "outputs": []
    },
    {
      "cell_type": "markdown",
      "metadata": {
        "id": "wA8AbNjO9Tny",
        "colab_type": "text"
      },
      "source": [
        "上述代码很多人都知道，我们写在这里的原因是为了在接下来要用的时候防止一遍又一遍的重新写这些代码\n",
        "\n",
        "#stacking\n",
        "stacking的第二层（level）将用第一层分类器的输出结果作为第二层的特征,但是，在这里我们不能直接将train，test用于第一层的模型中来得到结果，这样就相当于你第一层的模型已经见过test了，所以这样在第二层就会引起overfitting"
      ]
    },
    {
      "cell_type": "code",
      "metadata": {
        "id": "3aCuPz_t-8Hv",
        "colab_type": "code",
        "colab": {}
      },
      "source": [
        "#Out-of-Fold Predictions\n",
        "#X = np.array([1,1,1,1,1], [2,2,2,2,2], [3,3,3,3,3], [4,4,4,4,4],[5,5,5,5,5]])\n",
        "def get_oof(clf, x_train, y_train, x_test):\n",
        "    oof_train = np.zeros((ntrain,))\n",
        "    oof_test = np.zeros((ntest,))\n",
        "    oof_test_skf = np.empty((NFOLDS, ntest))\n",
        "    ##一个用随机值填充的5*418的矩阵，用来存放5次交叉后的预测结果\n",
        "\n",
        "    for i,(train_index, test_index) in enumerate(kf.split(train)):\n",
        "        x_tr = x_train[train_index]\n",
        "        y_tr = y_train[train_index]\n",
        "        x_te = x_train[test_index]\n",
        "\n",
        "        clf.train(x_tr, y_tr)\n",
        "\n",
        "        oof_train[test_index] = clf.predict(x_te)\n",
        "        oof_test_skf[i, :] = clf.predict(x_test)\n",
        "\n",
        "    oof_test[:] = oof_test_skf.mean(axis=0)\n",
        "    return oof_train.reshape(-1, 1), oof_test.reshape(-1, 1)"
      ],
      "execution_count": 0,
      "outputs": []
    },
    {
      "cell_type": "markdown",
      "metadata": {
        "id": "ogjR_Ax5BXBw",
        "colab_type": "text"
      },
      "source": [
        "    这个函数是用于交叉实验的\n",
        "    clf是选择的分类模型，x_train是所有训练集，y_train是所有训练集样本的类别标签，x_test是给定的所有测试集\n",
        "    def get_oof(clf, x_train, y_train, x_test):\n",
        "        oof_train = np.zeros((ntrain,))#长度为891的全0array\n",
        "        oof_test = np.zeros((ntest,))#长度为418的全0array\n",
        "        oof_test_skf = np.empty((NFOLDS, ntest))#一个用随机值填充的5*418的矩阵，用来存放5次交叉后的预测结果\n",
        "        for i, (train_index, test_index) in enumerate(kf):\n",
        "            #5次交叉，5次循环\n",
        "            #kf实际上是一个迭代器，是从891个样本中分成了5组训练集和测试集的索引号\n",
        "            x_tr = x_train[train_index]#当前循环，当前实验的训练数据\n",
        "            y_tr = y_train[train_index]#当前循环的训练数据标签\n",
        "            x_te = x_train[test_index]#d当前循环的测试数据\n",
        "            clf.train(x_tr, y_tr)#用模型去拟合数据，也就是训练预测模型\n",
        "            oof_train[test_index] = clf.predict(x_te)#把测试数据的预测标签按照对应索引，放到oof_train对应索引处\n",
        "            oof_test_skf[i, :] = clf.predict(x_test)#用当前的模型，预测所有测试数据的标签，并放到oof_test_skf的一行中\n",
        "\n",
        "        #5次实验做完，把5次得到的结果求平均\n",
        "        oof_test[:] = oof_test_skf.mean(axis=0)\n",
        "        return oof_train.reshape(-1, 1), oof_test.reshape(-1, 1)\n",
        "\n",
        "\n",
        "\n"
      ]
    },
    {
      "cell_type": "markdown",
      "metadata": {
        "id": "pPUnNQ4F-apW",
        "colab_type": "text"
      },
      "source": [
        "第一层模型构建：\n",
        "\n",
        "\n",
        "    1.Random Forest classifier\n",
        "   \n",
        "    2.Extra Trees classifier  \n",
        "\n",
        "    3.AdaBoost classifer    \n",
        "\n",
        "    4.Gradient Boosting classifer    \n",
        " \n",
        "    5.Support Vector Machine \n",
        "\n",
        "\n",
        "\n"
      ]
    },
    {
      "cell_type": "markdown",
      "metadata": {
        "id": "V4dpoNieBqBp",
        "colab_type": "text"
      },
      "source": [
        "一些参数介绍：\n",
        "\n",
        "n_jobs: 所用到的核心数，如果设置为-1，那么所有的cpu都将用到\n",
        "\n",
        "n_estimators：在学习模型中所用到的分类树\n",
        "\n",
        "verbose:你是否想在训练中输出预测文本"
      ]
    },
    {
      "cell_type": "code",
      "metadata": {
        "id": "_UP-g97nCIXK",
        "colab_type": "code",
        "colab": {}
      },
      "source": [
        "#Random Forest参数\n",
        "rf_params = {\n",
        "        'n_jobs': -1,\n",
        "    'n_estimators': 500,\n",
        "     'warm_start': True, \n",
        "     #'max_features': 0.2,\n",
        "    'max_depth': 6,\n",
        "    'min_samples_leaf': 2,\n",
        "    'max_features' : 'sqrt',\n",
        "    'verbose': 0\n",
        "}\n",
        "# Extra Trees Parameters\n",
        "et_params = {\n",
        "    'n_jobs': -1,\n",
        "    'n_estimators':500,\n",
        "    #'max_features': 0.5,\n",
        "    'max_depth': 8,\n",
        "    'min_samples_leaf': 2,\n",
        "    'verbose': 0\n",
        "}\n",
        "\n",
        "# AdaBoost parameters\n",
        "ada_params = {\n",
        "    'n_estimators': 500,\n",
        "    'learning_rate' : 0.75\n",
        "}\n",
        "\n",
        "# Gradient Boosting parameters\n",
        "gb_params = {\n",
        "    'n_estimators': 500,\n",
        "     #'max_features': 0.2,\n",
        "    'max_depth': 5,\n",
        "    'min_samples_leaf': 2,\n",
        "    'verbose': 0\n",
        "}\n",
        "\n",
        "# Support Vector Classifier parameters \n",
        "svc_params = {\n",
        "    'kernel' : 'linear',\n",
        "    'C' : 0.025\n",
        "    }"
      ],
      "execution_count": 0,
      "outputs": []
    },
    {
      "cell_type": "markdown",
      "metadata": {
        "id": "qZ2qHyfqCr3C",
        "colab_type": "text"
      },
      "source": [
        "**借助与我们之前建立的sklearnhelper将参数放入模型**"
      ]
    },
    {
      "cell_type": "code",
      "metadata": {
        "id": "huqIxva1CrF_",
        "colab_type": "code",
        "colab": {}
      },
      "source": [
        "rf = SklearnHelper(clf=RandomForestClassifier, seed=SEED, params=rf_params)\n",
        "et = SklearnHelper(clf=ExtraTreesClassifier, seed=SEED, params=et_params)\n",
        "ada = SklearnHelper(clf=AdaBoostClassifier, seed=SEED, params=ada_params)\n",
        "gb = SklearnHelper(clf=GradientBoostingClassifier, seed=SEED, params=gb_params)\n",
        "svc = SklearnHelper(clf=SVC, seed=SEED, params=svc_params)"
      ],
      "execution_count": 0,
      "outputs": []
    },
    {
      "cell_type": "markdown",
      "metadata": {
        "id": "oKvEMklsC_iV",
        "colab_type": "text"
      },
      "source": [
        "第一层模型构建完毕，我们接下来要构建Numpy arrays输出"
      ]
    },
    {
      "cell_type": "code",
      "metadata": {
        "id": "VJpqXykyDRsq",
        "colab_type": "code",
        "colab": {}
      },
      "source": [
        "# Create Numpy arrays of train, test and target ( Survived) dataframes to feed into our models\n",
        "y_train = train['Survived'].ravel()\n",
        "train = train.drop(['Survived'], axis=1)\n",
        "x_train = train.values # Creates an array of the train data\n",
        "x_test = test.values # Creats an array of the test data"
      ],
      "execution_count": 0,
      "outputs": []
    },
    {
      "cell_type": "markdown",
      "metadata": {
        "id": "QtWN4eX2DXYd",
        "colab_type": "text"
      },
      "source": [
        "#第一层模型输出"
      ]
    },
    {
      "cell_type": "code",
      "metadata": {
        "id": "5swAqoAzDUEl",
        "colab_type": "code",
        "colab": {
          "base_uri": "https://localhost:8080/",
          "height": 35
        },
        "outputId": "7844a232-5a85-4afc-eeac-95acc89abf64"
      },
      "source": [
        "et_oof_train, et_oof_test = get_oof(et, x_train, y_train, x_test) # Extra Trees\n",
        "rf_oof_train, rf_oof_test = get_oof(rf,x_train, y_train, x_test) # Random Forest\n",
        "ada_oof_train, ada_oof_test = get_oof(ada, x_train, y_train, x_test) # AdaBoost \n",
        "gb_oof_train, gb_oof_test = get_oof(gb,x_train, y_train, x_test) # Gradient Boost\n",
        "svc_oof_train, svc_oof_test = get_oof(svc,x_train, y_train, x_test) # Support Vector Classifier\n",
        "\n",
        "print(\"Training is complete\")"
      ],
      "execution_count": 16,
      "outputs": [
        {
          "output_type": "stream",
          "text": [
            "Training is complete\n"
          ],
          "name": "stdout"
        }
      ]
    },
    {
      "cell_type": "markdown",
      "metadata": {
        "id": "0Lw0-LE_LDU-",
        "colab_type": "text"
      },
      "source": [
        "现在我们已经完成了第一层的训练，接下来我们俩看一下这些特征和输出结果之间的重要性关系"
      ]
    },
    {
      "cell_type": "code",
      "metadata": {
        "id": "6m0BjwVgK2aw",
        "colab_type": "code",
        "colab": {
          "base_uri": "https://localhost:8080/",
          "height": 141
        },
        "outputId": "08c3388c-d293-42c2-927e-b3135ede15b8"
      },
      "source": [
        "rf_feature = rf.feature_importances(x_train,y_train)\n",
        "et_feature = et.feature_importances(x_train, y_train)\n",
        "ada_feature = ada.feature_importances(x_train, y_train)\n",
        "gb_feature = gb.feature_importances(x_train,y_train)"
      ],
      "execution_count": 17,
      "outputs": [
        {
          "output_type": "stream",
          "text": [
            "[0.1256494  0.19916713 0.03073316 0.02115519 0.07225914 0.02383111\n",
            " 0.10900366 0.06509027 0.06648568 0.01322553 0.27339973]\n",
            "[0.12162734 0.38426061 0.03055973 0.01723541 0.05648914 0.02743563\n",
            " 0.04500001 0.08400235 0.04265023 0.02231422 0.16842534]\n",
            "[0.028 0.014 0.022 0.066 0.038 0.008 0.69  0.012 0.05  0.004 0.068]\n",
            "[0.08594548 0.01117869 0.04854046 0.01473892 0.05238764 0.02493238\n",
            " 0.17257101 0.03728407 0.11149595 0.00667246 0.43425295]\n"
          ],
          "name": "stdout"
        }
      ]
    },
    {
      "cell_type": "markdown",
      "metadata": {
        "id": "lIUgVG-GLh_D",
        "colab_type": "text"
      },
      "source": [
        "作者使用了较为麻烦的方法保存这些权重,并且用的完全不同的的权重，与结果中得到的数据完全不同"
      ]
    },
    {
      "cell_type": "markdown",
      "metadata": {
        "id": "__vFOnkbPXpj",
        "colab_type": "text"
      },
      "source": [
        ""
      ]
    },
    {
      "cell_type": "code",
      "metadata": {
        "id": "62gIMOlLLhdI",
        "colab_type": "code",
        "colab": {}
      },
      "source": [
        "x_train = np.concatenate(( et_oof_train, rf_oof_train, ada_oof_train, gb_oof_train, svc_oof_train), axis=1)\n",
        "x_test = np.concatenate(( et_oof_test, rf_oof_test, ada_oof_test, gb_oof_test, svc_oof_test), axis=1)"
      ],
      "execution_count": 0,
      "outputs": []
    },
    {
      "cell_type": "markdown",
      "metadata": {
        "id": "fMcAB_D-TXJu",
        "colab_type": "text"
      },
      "source": [
        "配置xgboost参数"
      ]
    },
    {
      "cell_type": "code",
      "metadata": {
        "id": "vODTNvZQOkmN",
        "colab_type": "code",
        "colab": {}
      },
      "source": [
        "gbm = xgb.XGBClassifier(\n",
        "    #learning_rate = 0.02,\n",
        " n_estimators= 2000,\n",
        " max_depth= 4,\n",
        " min_child_weight= 2,\n",
        " #gamma=1,\n",
        " gamma=0.9,                        \n",
        " subsample=0.8,\n",
        " colsample_bytree=0.8,\n",
        " objective= 'binary:logistic',\n",
        " nthread= -1,\n",
        " scale_pos_weight=1).fit(x_train, y_train)\n",
        "predictions = gbm.predict(x_test)"
      ],
      "execution_count": 0,
      "outputs": []
    },
    {
      "cell_type": "markdown",
      "metadata": {
        "id": "lKzDqywITa7H",
        "colab_type": "text"
      },
      "source": [
        "保存预测结果"
      ]
    },
    {
      "cell_type": "code",
      "metadata": {
        "id": "PM_vQeKBOsXp",
        "colab_type": "code",
        "colab": {}
      },
      "source": [
        "StackingSubmission = pd.DataFrame({ 'PassengerId': PassengerId,\n",
        "                            'Survived': predictions })\n",
        "StackingSubmission.to_csv(\"StackingSubmission.csv\", index=False)"
      ],
      "execution_count": 0,
      "outputs": []
    },
    {
      "cell_type": "markdown",
      "metadata": {
        "id": "j9Q6SNhiUHUu",
        "colab_type": "text"
      },
      "source": [
        "——\n",
        "\n",
        "[Kaggle 原文参考链接](https://www.kaggle.com/sinakhorami/titanic/titanic-best-working-classifier)"
      ]
    }
  ]
}