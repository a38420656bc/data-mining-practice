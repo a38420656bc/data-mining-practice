{
  "nbformat": 4,
  "nbformat_minor": 0,
  "metadata": {
    "colab": {
      "name": "XGboost_practice1.ipynb",
      "version": "0.3.2",
      "provenance": []
    },
    "kernelspec": {
      "name": "python3",
      "display_name": "Python 3"
    }
  },
  "cells": [
    {
      "cell_type": "markdown",
      "metadata": {
        "id": "uD2Fw7_ed1ba",
        "colab_type": "text"
      },
      "source": [
        "### **默认代码关联谷歌云盘**"
      ]
    },
    {
      "cell_type": "code",
      "metadata": {
        "id": "dcZuesmo4VYQ",
        "colab_type": "code",
        "colab": {
          "base_uri": "https://localhost:8080/",
          "height": 232
        },
        "outputId": "1adf2298-5301-4aa0-dadd-f71bd150a26e"
      },
      "source": [
        "!apt-get install -y -qq software-properties-common python-software-properties module-init-tools\n",
        "!add-apt-repository -y ppa:alessandro-strada/ppa 2>&1 > /dev/null\n",
        "!apt-get update -qq 2>&1 > /dev/null\n",
        "!apt-get -y install -qq google-drive-ocamlfuse fuse\n",
        "from google.colab import auth\n",
        "auth.authenticate_user()\n",
        "from oauth2client.client import GoogleCredentials\n",
        "creds = GoogleCredentials.get_application_default()\n",
        "import getpass\n",
        "!google-drive-ocamlfuse -headless -id={creds.client_id} -secret={creds.client_secret} < /dev/null 2>&1 | grep URL\n",
        "vcode = getpass.getpass()\n",
        "!echo {vcode} | google-drive-ocamlfuse -headless -id={creds.client_id} -secret={creds.client_secret}"
      ],
      "execution_count": 1,
      "outputs": [
        {
          "output_type": "stream",
          "text": [
            "E: Package 'python-software-properties' has no installation candidate\n",
            "Selecting previously unselected package google-drive-ocamlfuse.\n",
            "(Reading database ... 130963 files and directories currently installed.)\n",
            "Preparing to unpack .../google-drive-ocamlfuse_0.7.6-0ubuntu1~ubuntu18.04.1_amd64.deb ...\n",
            "Unpacking google-drive-ocamlfuse (0.7.6-0ubuntu1~ubuntu18.04.1) ...\n",
            "Setting up google-drive-ocamlfuse (0.7.6-0ubuntu1~ubuntu18.04.1) ...\n",
            "Processing triggers for man-db (2.8.3-2ubuntu0.1) ...\n",
            "Please, open the following URL in a web browser: https://accounts.google.com/o/oauth2/auth?client_id=32555940559.apps.googleusercontent.com&redirect_uri=urn%3Aietf%3Awg%3Aoauth%3A2.0%3Aoob&scope=https%3A%2F%2Fwww.googleapis.com%2Fauth%2Fdrive&response_type=code&access_type=offline&approval_prompt=force\n",
            "··········\n",
            "Please, open the following URL in a web browser: https://accounts.google.com/o/oauth2/auth?client_id=32555940559.apps.googleusercontent.com&redirect_uri=urn%3Aietf%3Awg%3Aoauth%3A2.0%3Aoob&scope=https%3A%2F%2Fwww.googleapis.com%2Fauth%2Fdrive&response_type=code&access_type=offline&approval_prompt=force\n",
            "Please enter the verification code: Access token retrieved correctly.\n"
          ],
          "name": "stdout"
        }
      ]
    },
    {
      "cell_type": "code",
      "metadata": {
        "id": "90ceE6x44X1c",
        "colab_type": "code",
        "colab": {}
      },
      "source": [
        "!mkdir -p drive\n",
        "!google-drive-ocamlfuse -o nonempty drive"
      ],
      "execution_count": 0,
      "outputs": []
    },
    {
      "cell_type": "code",
      "metadata": {
        "id": "aKHsky4Y4aFU",
        "colab_type": "code",
        "colab": {
          "base_uri": "https://localhost:8080/",
          "height": 177
        },
        "outputId": "5b092337-797e-4d24-dc9a-629740bb2e70"
      },
      "source": [
        "import os\n",
        "os.chdir(\"drive\")\n",
        "!ls"
      ],
      "execution_count": 6,
      "outputs": [
        {
          "output_type": "stream",
          "text": [
            "aclImdb_v1.tar.gz     residual_plot.png      testData.tsv\n",
            "data_description.txt  Sales\t\t     Titanic\n",
            "drive\t\t      sample_submission.csv  torchtest.ipynb\n",
            "GuodongDrive\t      Sense1.ipynb\t     train.csv\n",
            "House\t\t      Sense2.ipynb（副本）   Untitled0.ipynb\n",
            "Houseprice.ipynb      Sense.ipynb\t     剑指offer\n",
            "huawei\t\t      sensePY.ipynb\t     数组和链表.desktop\n",
            "labeledTrainData.tsv  submission.csv\t     糖尿病数据.txt\n",
            "neg\t\t      test.csv\n"
          ],
          "name": "stdout"
        }
      ]
    },
    {
      "cell_type": "markdown",
      "metadata": {
        "id": "PIiRJ9aQeESB",
        "colab_type": "text"
      },
      "source": [
        "### **开始**"
      ]
    },
    {
      "cell_type": "markdown",
      "metadata": {
        "id": "dvwf_HaXefa0",
        "colab_type": "text"
      },
      "source": [
        "# **Step1: import labraries**"
      ]
    },
    {
      "cell_type": "code",
      "metadata": {
        "id": "9PnOPaFqdnfb",
        "colab_type": "code",
        "colab": {}
      },
      "source": [
        "from numpy import loadtxt\n",
        "from xgboost import XGBClassifier\n",
        "from sklearn.model_selection import train_test_split\n",
        "from sklearn.metrics import accuracy_score"
      ],
      "execution_count": 0,
      "outputs": []
    },
    {
      "cell_type": "code",
      "metadata": {
        "id": "dcJ8E5pMfk9D",
        "colab_type": "code",
        "colab": {}
      },
      "source": [
        "import numpy as np\n",
        "import pandas as pd"
      ],
      "execution_count": 0,
      "outputs": []
    },
    {
      "cell_type": "markdown",
      "metadata": {
        "id": "kplY8llCe0oW",
        "colab_type": "text"
      },
      "source": [
        "#Step2 :Load Data"
      ]
    },
    {
      "cell_type": "code",
      "metadata": {
        "id": "dajZQAcBeedu",
        "colab_type": "code",
        "colab": {}
      },
      "source": [
        "dataset = loadtxt('糖尿病数据.txt',delimiter = \",\")"
      ],
      "execution_count": 0,
      "outputs": []
    },
    {
      "cell_type": "code",
      "metadata": {
        "id": "-Qn6lAmXfPUa",
        "colab_type": "code",
        "colab": {
          "base_uri": "https://localhost:8080/",
          "height": 200
        },
        "outputId": "2394c085-3bdd-43ec-a1d7-7948e879a6d3"
      },
      "source": [
        "dataset.head()"
      ],
      "execution_count": 22,
      "outputs": [
        {
          "output_type": "execute_result",
          "data": {
            "text/html": [
              "<div>\n",
              "<style scoped>\n",
              "    .dataframe tbody tr th:only-of-type {\n",
              "        vertical-align: middle;\n",
              "    }\n",
              "\n",
              "    .dataframe tbody tr th {\n",
              "        vertical-align: top;\n",
              "    }\n",
              "\n",
              "    .dataframe thead th {\n",
              "        text-align: right;\n",
              "    }\n",
              "</style>\n",
              "<table border=\"1\" class=\"dataframe\">\n",
              "  <thead>\n",
              "    <tr style=\"text-align: right;\">\n",
              "      <th></th>\n",
              "      <th>6</th>\n",
              "      <th>148</th>\n",
              "      <th>72</th>\n",
              "      <th>35</th>\n",
              "      <th>0</th>\n",
              "      <th>33.6</th>\n",
              "      <th>0.627</th>\n",
              "      <th>50</th>\n",
              "      <th>1</th>\n",
              "    </tr>\n",
              "  </thead>\n",
              "  <tbody>\n",
              "    <tr>\n",
              "      <th>0</th>\n",
              "      <td>1</td>\n",
              "      <td>85</td>\n",
              "      <td>66</td>\n",
              "      <td>29</td>\n",
              "      <td>0</td>\n",
              "      <td>26.6</td>\n",
              "      <td>0.351</td>\n",
              "      <td>31</td>\n",
              "      <td>0</td>\n",
              "    </tr>\n",
              "    <tr>\n",
              "      <th>1</th>\n",
              "      <td>8</td>\n",
              "      <td>183</td>\n",
              "      <td>64</td>\n",
              "      <td>0</td>\n",
              "      <td>0</td>\n",
              "      <td>23.3</td>\n",
              "      <td>0.672</td>\n",
              "      <td>32</td>\n",
              "      <td>1</td>\n",
              "    </tr>\n",
              "    <tr>\n",
              "      <th>2</th>\n",
              "      <td>1</td>\n",
              "      <td>89</td>\n",
              "      <td>66</td>\n",
              "      <td>23</td>\n",
              "      <td>94</td>\n",
              "      <td>28.1</td>\n",
              "      <td>0.167</td>\n",
              "      <td>21</td>\n",
              "      <td>0</td>\n",
              "    </tr>\n",
              "    <tr>\n",
              "      <th>3</th>\n",
              "      <td>0</td>\n",
              "      <td>137</td>\n",
              "      <td>40</td>\n",
              "      <td>35</td>\n",
              "      <td>168</td>\n",
              "      <td>43.1</td>\n",
              "      <td>2.288</td>\n",
              "      <td>33</td>\n",
              "      <td>1</td>\n",
              "    </tr>\n",
              "    <tr>\n",
              "      <th>4</th>\n",
              "      <td>5</td>\n",
              "      <td>116</td>\n",
              "      <td>74</td>\n",
              "      <td>0</td>\n",
              "      <td>0</td>\n",
              "      <td>25.6</td>\n",
              "      <td>0.201</td>\n",
              "      <td>30</td>\n",
              "      <td>0</td>\n",
              "    </tr>\n",
              "  </tbody>\n",
              "</table>\n",
              "</div>"
            ],
            "text/plain": [
              "   6  148  72  35    0  33.6  0.627  50  1\n",
              "0  1   85  66  29    0  26.6  0.351  31  0\n",
              "1  8  183  64   0    0  23.3  0.672  32  1\n",
              "2  1   89  66  23   94  28.1  0.167  21  0\n",
              "3  0  137  40  35  168  43.1  2.288  33  1\n",
              "4  5  116  74   0    0  25.6  0.201  30  0"
            ]
          },
          "metadata": {
            "tags": []
          },
          "execution_count": 22
        }
      ]
    },
    {
      "cell_type": "markdown",
      "metadata": {
        "id": "7R-MaVzwhAW_",
        "colab_type": "text"
      },
      "source": [
        "# split data into X and y"
      ]
    },
    {
      "cell_type": "code",
      "metadata": {
        "id": "1ImUEvXOg_ir",
        "colab_type": "code",
        "colab": {}
      },
      "source": [
        "X = dataset[:,0:8]\n",
        "Y = dataset[:,8]"
      ],
      "execution_count": 0,
      "outputs": []
    },
    {
      "cell_type": "markdown",
      "metadata": {
        "id": "ei2cw2sKhqXm",
        "colab_type": "text"
      },
      "source": [
        "# split data into train and test sets"
      ]
    },
    {
      "cell_type": "code",
      "metadata": {
        "id": "oK3gk3qTgSGu",
        "colab_type": "code",
        "colab": {}
      },
      "source": [
        "seed = 7\n",
        "test_size = 0.33\n",
        "X_train,X_test,Y_train,Y_test = train_test_split(X,Y,test_size=test_size,random_state = seed)\n"
      ],
      "execution_count": 0,
      "outputs": []
    },
    {
      "cell_type": "markdown",
      "metadata": {
        "id": "jRHCA0y_icgO",
        "colab_type": "text"
      },
      "source": [
        "# fit model on training data"
      ]
    },
    {
      "cell_type": "code",
      "metadata": {
        "id": "x3tGs34TiYpJ",
        "colab_type": "code",
        "colab": {
          "base_uri": "https://localhost:8080/",
          "height": 141
        },
        "outputId": "acec3c85-358a-4873-81b2-64a5bf2eb264"
      },
      "source": [
        "model = XGBClassifier()\n",
        "model.fit(X_train,Y_train)"
      ],
      "execution_count": 32,
      "outputs": [
        {
          "output_type": "execute_result",
          "data": {
            "text/plain": [
              "XGBClassifier(base_score=0.5, booster='gbtree', colsample_bylevel=1,\n",
              "              colsample_bynode=1, colsample_bytree=1, gamma=0,\n",
              "              learning_rate=0.1, max_delta_step=0, max_depth=3,\n",
              "              min_child_weight=1, missing=None, n_estimators=100, n_jobs=1,\n",
              "              nthread=None, objective='binary:logistic', random_state=0,\n",
              "              reg_alpha=0, reg_lambda=1, scale_pos_weight=1, seed=None,\n",
              "              silent=None, subsample=1, verbosity=1)"
            ]
          },
          "metadata": {
            "tags": []
          },
          "execution_count": 32
        }
      ]
    },
    {
      "cell_type": "markdown",
      "metadata": {
        "id": "9M5ZmBfKinI6",
        "colab_type": "text"
      },
      "source": [
        "# make predictions for test data"
      ]
    },
    {
      "cell_type": "code",
      "metadata": {
        "id": "zF-0NZnziots",
        "colab_type": "code",
        "colab": {}
      },
      "source": [
        "y_pred = model.predict(X_test)\n",
        "predictions = [round(value) for value in y_pred]"
      ],
      "execution_count": 0,
      "outputs": []
    },
    {
      "cell_type": "code",
      "metadata": {
        "id": "YrzAXNo6jIno",
        "colab_type": "code",
        "colab": {
          "base_uri": "https://localhost:8080/",
          "height": 212
        },
        "outputId": "b1b19a70-b941-4b9e-e630-26cdac13215c"
      },
      "source": [
        "print(y_pred)"
      ],
      "execution_count": 34,
      "outputs": [
        {
          "output_type": "stream",
          "text": [
            "[0. 1. 1. 0. 1. 1. 0. 0. 1. 0. 1. 0. 1. 1. 0. 0. 0. 1. 0. 0. 0. 0. 1. 1.\n",
            " 0. 0. 0. 0. 0. 1. 1. 0. 0. 0. 0. 1. 1. 0. 1. 0. 1. 1. 1. 0. 0. 0. 1. 0.\n",
            " 0. 1. 0. 0. 0. 0. 0. 0. 0. 0. 0. 0. 0. 0. 0. 1. 1. 1. 0. 1. 1. 1. 1. 1.\n",
            " 0. 0. 0. 0. 0. 0. 0. 0. 0. 0. 0. 0. 0. 0. 1. 0. 1. 0. 1. 0. 1. 0. 0. 1.\n",
            " 1. 0. 1. 0. 1. 0. 0. 0. 0. 1. 0. 0. 0. 1. 0. 1. 0. 0. 1. 1. 0. 0. 0. 1.\n",
            " 0. 0. 0. 0. 0. 1. 0. 0. 0. 0. 0. 1. 0. 0. 0. 0. 0. 0. 0. 1. 0. 1. 0. 0.\n",
            " 0. 0. 0. 0. 1. 0. 0. 1. 0. 0. 0. 0. 1. 0. 1. 0. 0. 0. 0. 0. 1. 0. 1. 0.\n",
            " 0. 1. 0. 1. 0. 0. 1. 0. 1. 0. 1. 0. 1. 0. 0. 0. 0. 0. 0. 0. 0. 1. 1. 0.\n",
            " 1. 1. 0. 0. 1. 0. 0. 1. 0. 1. 1. 1. 0. 0. 1. 0. 0. 0. 1. 1. 0. 1. 0. 0.\n",
            " 0. 1. 0. 0. 0. 0. 1. 0. 1. 1. 1. 1. 1. 0. 0. 1. 0. 0. 0. 0. 0. 1. 0. 0.\n",
            " 1. 1. 0. 0. 1. 0. 1. 0. 0. 0. 0. 1. 1. 1.]\n"
          ],
          "name": "stdout"
        }
      ]
    },
    {
      "cell_type": "code",
      "metadata": {
        "id": "63L6NtItjNJJ",
        "colab_type": "code",
        "colab": {
          "base_uri": "https://localhost:8080/",
          "height": 55
        },
        "outputId": "02af3028-863d-4954-8924-e0b5dfb1cfc0"
      },
      "source": [
        "print(predictions)"
      ],
      "execution_count": 35,
      "outputs": [
        {
          "output_type": "stream",
          "text": [
            "[0.0, 1.0, 1.0, 0.0, 1.0, 1.0, 0.0, 0.0, 1.0, 0.0, 1.0, 0.0, 1.0, 1.0, 0.0, 0.0, 0.0, 1.0, 0.0, 0.0, 0.0, 0.0, 1.0, 1.0, 0.0, 0.0, 0.0, 0.0, 0.0, 1.0, 1.0, 0.0, 0.0, 0.0, 0.0, 1.0, 1.0, 0.0, 1.0, 0.0, 1.0, 1.0, 1.0, 0.0, 0.0, 0.0, 1.0, 0.0, 0.0, 1.0, 0.0, 0.0, 0.0, 0.0, 0.0, 0.0, 0.0, 0.0, 0.0, 0.0, 0.0, 0.0, 0.0, 1.0, 1.0, 1.0, 0.0, 1.0, 1.0, 1.0, 1.0, 1.0, 0.0, 0.0, 0.0, 0.0, 0.0, 0.0, 0.0, 0.0, 0.0, 0.0, 0.0, 0.0, 0.0, 0.0, 1.0, 0.0, 1.0, 0.0, 1.0, 0.0, 1.0, 0.0, 0.0, 1.0, 1.0, 0.0, 1.0, 0.0, 1.0, 0.0, 0.0, 0.0, 0.0, 1.0, 0.0, 0.0, 0.0, 1.0, 0.0, 1.0, 0.0, 0.0, 1.0, 1.0, 0.0, 0.0, 0.0, 1.0, 0.0, 0.0, 0.0, 0.0, 0.0, 1.0, 0.0, 0.0, 0.0, 0.0, 0.0, 1.0, 0.0, 0.0, 0.0, 0.0, 0.0, 0.0, 0.0, 1.0, 0.0, 1.0, 0.0, 0.0, 0.0, 0.0, 0.0, 0.0, 1.0, 0.0, 0.0, 1.0, 0.0, 0.0, 0.0, 0.0, 1.0, 0.0, 1.0, 0.0, 0.0, 0.0, 0.0, 0.0, 1.0, 0.0, 1.0, 0.0, 0.0, 1.0, 0.0, 1.0, 0.0, 0.0, 1.0, 0.0, 1.0, 0.0, 1.0, 0.0, 1.0, 0.0, 0.0, 0.0, 0.0, 0.0, 0.0, 0.0, 0.0, 1.0, 1.0, 0.0, 1.0, 1.0, 0.0, 0.0, 1.0, 0.0, 0.0, 1.0, 0.0, 1.0, 1.0, 1.0, 0.0, 0.0, 1.0, 0.0, 0.0, 0.0, 1.0, 1.0, 0.0, 1.0, 0.0, 0.0, 0.0, 1.0, 0.0, 0.0, 0.0, 0.0, 1.0, 0.0, 1.0, 1.0, 1.0, 1.0, 1.0, 0.0, 0.0, 1.0, 0.0, 0.0, 0.0, 0.0, 0.0, 1.0, 0.0, 0.0, 1.0, 1.0, 0.0, 0.0, 1.0, 0.0, 1.0, 0.0, 0.0, 0.0, 0.0, 1.0, 1.0, 1.0]\n"
          ],
          "name": "stdout"
        }
      ]
    },
    {
      "cell_type": "markdown",
      "metadata": {
        "id": "Wi36dr7Vi9Zi",
        "colab_type": "text"
      },
      "source": [
        "# evaluate predictions"
      ]
    },
    {
      "cell_type": "code",
      "metadata": {
        "id": "r6aehUI3i9hU",
        "colab_type": "code",
        "colab": {
          "base_uri": "https://localhost:8080/",
          "height": 35
        },
        "outputId": "b5468770-8d81-4923-d3f0-d36a56d68335"
      },
      "source": [
        "accuracy = accuracy_score(Y_test,predictions)\n",
        "print(\"Accuracy: %.2f%%\" % (accuracy * 100.0))"
      ],
      "execution_count": 36,
      "outputs": [
        {
          "output_type": "stream",
          "text": [
            "Accuracy: 77.95%\n"
          ],
          "name": "stdout"
        }
      ]
    },
    {
      "cell_type": "markdown",
      "metadata": {
        "id": "w8cKTkW1j7-5",
        "colab_type": "text"
      },
      "source": [
        "# exmaple of early stopping"
      ]
    },
    {
      "cell_type": "markdown",
      "metadata": {
        "id": "QD7yXIDrkCFP",
        "colab_type": "text"
      },
      "source": [
        "XGBoost 模型可以在训练期间评估和报告模型的测试集上的表现。\n",
        "\n",
        "它通过在训练模型和指定详细输出（ verbose = True ）时调用 **model.fit（）**时指定测试数据集和评估指标来支持此功能。\n",
        "\n",
        "一旦没有对模型进行进一步改进，我们就可以使用此评估来停止训练。\n",
        "\n",
        "我们可以通过在调用 **model.fit（）**时将 early_stopping_rounds 参数设置为在停止训练之前验证数据集未见改进的迭代次数来完成此操作。"
      ]
    },
    {
      "cell_type": "code",
      "metadata": {
        "id": "IhuvzswAj-kz",
        "colab_type": "code",
        "colab": {
          "base_uri": "https://localhost:8080/",
          "height": 977
        },
        "outputId": "28048574-c6af-4a13-a9fb-79458d81c0b4"
      },
      "source": [
        "eval_set = [(X_test,Y_test)]\n",
        "model.fit(X_train,Y_train,early_stopping_rounds = 10,eval_metric = \"logloss\",eval_set = eval_set,verbose = True)\n"
      ],
      "execution_count": 37,
      "outputs": [
        {
          "output_type": "stream",
          "text": [
            "[0]\tvalidation_0-logloss:0.660186\n",
            "Will train until validation_0-logloss hasn't improved in 10 rounds.\n",
            "[1]\tvalidation_0-logloss:0.634854\n",
            "[2]\tvalidation_0-logloss:0.61224\n",
            "[3]\tvalidation_0-logloss:0.593118\n",
            "[4]\tvalidation_0-logloss:0.578303\n",
            "[5]\tvalidation_0-logloss:0.564942\n",
            "[6]\tvalidation_0-logloss:0.555113\n",
            "[7]\tvalidation_0-logloss:0.54499\n",
            "[8]\tvalidation_0-logloss:0.539151\n",
            "[9]\tvalidation_0-logloss:0.531819\n",
            "[10]\tvalidation_0-logloss:0.526065\n",
            "[11]\tvalidation_0-logloss:0.519769\n",
            "[12]\tvalidation_0-logloss:0.514979\n",
            "[13]\tvalidation_0-logloss:0.50927\n",
            "[14]\tvalidation_0-logloss:0.506086\n",
            "[15]\tvalidation_0-logloss:0.503565\n",
            "[16]\tvalidation_0-logloss:0.503591\n",
            "[17]\tvalidation_0-logloss:0.500805\n",
            "[18]\tvalidation_0-logloss:0.497605\n",
            "[19]\tvalidation_0-logloss:0.495328\n",
            "[20]\tvalidation_0-logloss:0.494777\n",
            "[21]\tvalidation_0-logloss:0.494274\n",
            "[22]\tvalidation_0-logloss:0.493333\n",
            "[23]\tvalidation_0-logloss:0.492211\n",
            "[24]\tvalidation_0-logloss:0.491936\n",
            "[25]\tvalidation_0-logloss:0.490578\n",
            "[26]\tvalidation_0-logloss:0.490895\n",
            "[27]\tvalidation_0-logloss:0.490646\n",
            "[28]\tvalidation_0-logloss:0.491911\n",
            "[29]\tvalidation_0-logloss:0.491407\n",
            "[30]\tvalidation_0-logloss:0.488828\n",
            "[31]\tvalidation_0-logloss:0.487867\n",
            "[32]\tvalidation_0-logloss:0.487297\n",
            "[33]\tvalidation_0-logloss:0.487562\n",
            "[34]\tvalidation_0-logloss:0.487789\n",
            "[35]\tvalidation_0-logloss:0.487962\n",
            "[36]\tvalidation_0-logloss:0.488218\n",
            "[37]\tvalidation_0-logloss:0.489582\n",
            "[38]\tvalidation_0-logloss:0.489334\n",
            "[39]\tvalidation_0-logloss:0.490968\n",
            "[40]\tvalidation_0-logloss:0.48978\n",
            "[41]\tvalidation_0-logloss:0.490704\n",
            "[42]\tvalidation_0-logloss:0.492369\n",
            "Stopping. Best iteration:\n",
            "[32]\tvalidation_0-logloss:0.487297\n",
            "\n"
          ],
          "name": "stdout"
        },
        {
          "output_type": "execute_result",
          "data": {
            "text/plain": [
              "XGBClassifier(base_score=0.5, booster='gbtree', colsample_bylevel=1,\n",
              "              colsample_bynode=1, colsample_bytree=1, gamma=0,\n",
              "              learning_rate=0.1, max_delta_step=0, max_depth=3,\n",
              "              min_child_weight=1, missing=None, n_estimators=100, n_jobs=1,\n",
              "              nthread=None, objective='binary:logistic', random_state=0,\n",
              "              reg_alpha=0, reg_lambda=1, scale_pos_weight=1, seed=None,\n",
              "              silent=None, subsample=1, verbosity=1)"
            ]
          },
          "metadata": {
            "tags": []
          },
          "execution_count": 37
        }
      ]
    },
    {
      "cell_type": "markdown",
      "metadata": {
        "id": "yOOf9vnZk8C8",
        "colab_type": "text"
      },
      "source": [
        "# make predictions for test data"
      ]
    },
    {
      "cell_type": "code",
      "metadata": {
        "id": "_HxcXvTrk7Gu",
        "colab_type": "code",
        "colab": {
          "base_uri": "https://localhost:8080/",
          "height": 35
        },
        "outputId": "e3d10c28-3207-4526-9a89-64ee975a4878"
      },
      "source": [
        "y_pred = model.predict(X_test)\n",
        "predictions = [round(value) for value in y_pred]\n",
        "# evaluate predictions\n",
        "accuracy = accuracy_score(Y_test, predictions)\n",
        "print(\"Accuracy: %.2f%%\" % (accuracy * 100.0))"
      ],
      "execution_count": 39,
      "outputs": [
        {
          "output_type": "stream",
          "text": [
            "Accuracy: 77.56%\n"
          ],
          "name": "stdout"
        }
      ]
    },
    {
      "cell_type": "markdown",
      "metadata": {
        "id": "ezBp_OX1lQD9",
        "colab_type": "text"
      },
      "source": [
        "使用诸如梯度提升之类的决策树方法的集合的好处是它们可以从训练的预测模型自动提供特征重要性的估计。\n",
        "\n",
        "### 经过训练的 XGBoost 模型可自动计算预测建模问题的特征重要性。\n",
        "\n",
        "这些重要性分数可在训练模型的 feature_importances_ 成员变量中找到。例如，它们可以直接打印如下："
      ]
    },
    {
      "cell_type": "code",
      "metadata": {
        "id": "OrAWNsl_lPek",
        "colab_type": "code",
        "colab": {
          "base_uri": "https://localhost:8080/",
          "height": 52
        },
        "outputId": "e6262ffc-9d81-418b-89b1-a9bee619eb37"
      },
      "source": [
        "print(model.feature_importances_)"
      ],
      "execution_count": 40,
      "outputs": [
        {
          "output_type": "stream",
          "text": [
            "[0.07890794 0.30844045 0.06064048 0.07164859 0.10541682 0.16903177\n",
            " 0.10197888 0.10393505]\n"
          ],
          "name": "stdout"
        }
      ]
    },
    {
      "cell_type": "markdown",
      "metadata": {
        "id": "_WFfq2RSlrBZ",
        "colab_type": "text"
      },
      "source": [
        "### XGBoost 库提供了一个内置函数来绘制按其重要性排序的特征。\n",
        "\n",
        "### 该函数称为 plot_importance（），可以按如下方式使用："
      ]
    },
    {
      "cell_type": "code",
      "metadata": {
        "id": "N5FSufmflvhS",
        "colab_type": "code",
        "colab": {
          "base_uri": "https://localhost:8080/",
          "height": 295
        },
        "outputId": "96ab2b7e-3bcf-496f-c0ce-1aaaeeb74eb4"
      },
      "source": [
        "from xgboost import plot_importance\n",
        "from matplotlib import pyplot\n",
        "plot_importance(model)\n",
        "pyplot.show()"
      ],
      "execution_count": 45,
      "outputs": [
        {
          "output_type": "display_data",
          "data": {
            "image/png": "[encoded data removed]",
            "text/plain": [
              "<Figure size 432x288 with 1 Axes>"
            ]
          },
          "metadata": {
            "tags": []
          }
        }
      ]
    },
    {
      "cell_type": "markdown",
      "metadata": {
        "id": "mfN7xLNQmpvg",
        "colab_type": "text"
      },
      "source": [
        "# 如何配置梯度提升\n",
        "\n",
        "在原始梯度提升论文中发表了许多配置启发式方法。它们可以概括为：\n",
        "\n",
        "学习率或收缩率（XGBoost 中的 learning_rate ）应设置为 0.1 或更低，较小的值将需要添加更多树。\n",
        "\n",
        "树的深度（XGBoost 中的 tree_depth ）应该在 2 到 8 的范围内配置，其中对于更深的树没有多少益处。\n",
        "\n",
        "行采样（XGBoost 中的子样本）应配置在训练数据集的 30％到 80％的范围内，并且与未采样的 100％的值进行比较。\n",
        "\n",
        "这些是配置模型时的一个很好的起点。\n",
        "\n",
        "一个好的通用配置策略如下：\n",
        "\n",
        "运行默认配置并查看训练和验证数据集上的学习曲线图。\n",
        "\n",
        "如果系统过度学习，则降低学习率和/或增加树木数量。\n",
        "\n",
        "如果系统学习不足，可以通过提高学习率和/或减少树木数量来加快学习速度。"
      ]
    },
    {
      "cell_type": "markdown",
      "metadata": {
        "id": "qaa4bThVm6eC",
        "colab_type": "text"
      },
      "source": [
        "# XGBoost 超参数调整\n",
        "scikit-learn 框架提供了搜索参数组合的功能。\n",
        "\n",
        "此功能在 GridSearchCV 类中提供，可用于发现配置模型以获得最佳表现的最佳方法。\n",
        "\n",
        "例如，我们可以定义一个树的数量（ n_estimators ）和树大小（ max_depth ）的网格，通过将网格定义为："
      ]
    },
    {
      "cell_type": "code",
      "metadata": {
        "id": "JR_7xuxRm6Bh",
        "colab_type": "code",
        "colab": {}
      },
      "source": [
        "n_estimators = [50, 100, 150, 200]\n",
        "max_depth = [2, 4, 6, 8]\n",
        "param_grid = dict(max_depth=max_depth, n_estimators=n_estimators)"
      ],
      "execution_count": 0,
      "outputs": []
    },
    {
      "cell_type": "markdown",
      "metadata": {
        "id": "AitYpvFinK8N",
        "colab_type": "text"
      },
      "source": [
        "然后使用 10 倍交叉验证评估每个参数组合："
      ]
    },
    {
      "cell_type": "code",
      "metadata": {
        "id": "I3Vcqw3hmwPc",
        "colab_type": "code",
        "colab": {}
      },
      "source": [
        "kfold = StratifiedKFold(n_splits=10, shuffle=True, random_state=7)\n",
        "grid_search = GridSearchCV(model, param_grid, scoring=\"neg_log_loss\", n_jobs=-1, cv=kfold, verbose=1)\n",
        "result = grid_search.fit(X, label_encoded_y)"
      ],
      "execution_count": 0,
      "outputs": []
    },
    {
      "cell_type": "markdown",
      "metadata": {
        "id": "PzYzdzvOnW-8",
        "colab_type": "text"
      },
      "source": [
        "我们可以查看结果，以确定最佳组合以及改变参数组合的一般趋势。"
      ]
    },
    {
      "cell_type": "markdown",
      "metadata": {
        "id": "eHOz18q2nZjD",
        "colab_type": "text"
      },
      "source": [
        "这是将 XGBoost 应用于您自己的问题时的最佳做法。要考虑调整的参数是：\n",
        "\n",
        "* 树木的数量和大小（ n_estimators 和 max_depth ）。\n",
        "\n",
        "\n",
        "* 学习率和树木数量（ learning_rate 和 n_estimators ）。\n",
        "\n",
        "* 行和列子采样率（子样本， colsample_bytree 和 colsample_bylevel ）。"
      ]
    },
    {
      "cell_type": "markdown",
      "metadata": {
        "id": "ryoWLnp1nmmA",
        "colab_type": "text"
      },
      "source": [
        "# learning_rate + GridSearch"
      ]
    },
    {
      "cell_type": "code",
      "metadata": {
        "id": "ZRWbCVJqnjAW",
        "colab_type": "code",
        "colab": {}
      },
      "source": [
        "from sklearn.model_selection import GridSearchCV\n",
        "from sklearn.model_selection import StratifiedKFold\n",
        "learning_rate = [0.0001, 0.001, 0.01, 0.1, 0.2, 0.3]\n",
        "param_grid = dict(learning_rate=learning_rate)\n",
        "kfold = StratifiedKFold(n_splits=10, shuffle=True, random_state=7)\n",
        "grid_search = GridSearchCV(model, param_grid, scoring=\"neg_log_loss\", n_jobs=-1, cv=kfold)\n",
        "grid_result = grid_search.fit(X, Y)\n"
      ],
      "execution_count": 0,
      "outputs": []
    },
    {
      "cell_type": "markdown",
      "metadata": {
        "id": "BULFy6NLoBJj",
        "colab_type": "text"
      },
      "source": [
        "# summarize results"
      ]
    },
    {
      "cell_type": "code",
      "metadata": {
        "id": "NReQi4run--v",
        "colab_type": "code",
        "colab": {
          "base_uri": "https://localhost:8080/",
          "height": 141
        },
        "outputId": "10a61101-8179-4ea1-b67c-c82c6ee5019d"
      },
      "source": [
        "\n",
        "print(\"Best: %f using %s\" % (grid_result.best_score_, grid_result.best_params_))\n",
        "means = grid_result.cv_results_['mean_test_score']\n",
        "stds = grid_result.cv_results_['std_test_score']\n",
        "params = grid_result.cv_results_['params']\n",
        "for mean, stdev, param in zip(means, stds, params):\n",
        "\tprint(\"%f (%f) with: %r\" % (mean, stdev, param))"
      ],
      "execution_count": 48,
      "outputs": [
        {
          "output_type": "stream",
          "text": [
            "Best: -0.483013 using {'learning_rate': 0.1}\n",
            "-0.689650 (0.000242) with: {'learning_rate': 0.0001}\n",
            "-0.661274 (0.001954) with: {'learning_rate': 0.001}\n",
            "-0.530747 (0.022961) with: {'learning_rate': 0.01}\n",
            "-0.483013 (0.060755) with: {'learning_rate': 0.1}\n",
            "-0.515440 (0.068974) with: {'learning_rate': 0.2}\n",
            "-0.557315 (0.081738) with: {'learning_rate': 0.3}\n"
          ],
          "name": "stdout"
        }
      ]
    }
  ]
}