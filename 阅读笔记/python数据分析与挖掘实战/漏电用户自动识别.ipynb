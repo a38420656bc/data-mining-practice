{
  "nbformat": 4,
  "nbformat_minor": 0,
  "metadata": {
    "colab": {
      "name": "漏电用户自动识别.ipynb",
      "version": "0.3.2",
      "provenance": []
    },
    "kernelspec": {
      "name": "python3",
      "display_name": "Python 3"
    }
  },
  "cells": [
    {
      "cell_type": "markdown",
      "metadata": {
        "id": "Qo9VlMLvUCek",
        "colab_type": "text"
      },
      "source": [
        "#链接谷歌云盘和Colab"
      ]
    },
    {
      "cell_type": "code",
      "metadata": {
        "id": "mqx5FLYTTZ2p",
        "colab_type": "code",
        "colab": {
          "base_uri": "https://localhost:8080/",
          "height": 232
        },
        "outputId": "f4942818-1659-4ff0-9f4e-4ffff77619db"
      },
      "source": [
        "!apt-get install -y -qq software-properties-common python-software-properties module-init-tools\n",
        "!add-apt-repository -y ppa:alessandro-strada/ppa 2>&1 > /dev/null\n",
        "!apt-get update -qq 2>&1 > /dev/null\n",
        "!apt-get -y install -qq google-drive-ocamlfuse fuse\n",
        "from google.colab import auth\n",
        "auth.authenticate_user()\n",
        "from oauth2client.client import GoogleCredentials\n",
        "creds = GoogleCredentials.get_application_default()\n",
        "import getpass\n",
        "!google-drive-ocamlfuse -headless -id={creds.client_id} -secret={creds.client_secret} < /dev/null 2>&1 | grep URL\n",
        "vcode = getpass.getpass()\n",
        "!echo {vcode} | google-drive-ocamlfuse -headless -id={creds.client_id} -secret={creds.client_secret}"
      ],
      "execution_count": 1,
      "outputs": [
        {
          "output_type": "stream",
          "text": [
            "E: Package 'python-software-properties' has no installation candidate\n",
            "Selecting previously unselected package google-drive-ocamlfuse.\n",
            "(Reading database ... 131289 files and directories currently installed.)\n",
            "Preparing to unpack .../google-drive-ocamlfuse_0.7.6-0ubuntu1~ubuntu18.04.1_amd64.deb ...\n",
            "Unpacking google-drive-ocamlfuse (0.7.6-0ubuntu1~ubuntu18.04.1) ...\n",
            "Setting up google-drive-ocamlfuse (0.7.6-0ubuntu1~ubuntu18.04.1) ...\n",
            "Processing triggers for man-db (2.8.3-2ubuntu0.1) ...\n",
            "Please, open the following URL in a web browser: https://accounts.google.com/o/oauth2/auth?client_id=32555940559.apps.googleusercontent.com&redirect_uri=urn%3Aietf%3Awg%3Aoauth%3A2.0%3Aoob&scope=https%3A%2F%2Fwww.googleapis.com%2Fauth%2Fdrive&response_type=code&access_type=offline&approval_prompt=force\n",
            "··········\n",
            "Please, open the following URL in a web browser: https://accounts.google.com/o/oauth2/auth?client_id=32555940559.apps.googleusercontent.com&redirect_uri=urn%3Aietf%3Awg%3Aoauth%3A2.0%3Aoob&scope=https%3A%2F%2Fwww.googleapis.com%2Fauth%2Fdrive&response_type=code&access_type=offline&approval_prompt=force\n",
            "Please enter the verification code: Access token retrieved correctly.\n"
          ],
          "name": "stdout"
        }
      ]
    },
    {
      "cell_type": "markdown",
      "metadata": {
        "id": "id4sGAzxUbqZ",
        "colab_type": "text"
      },
      "source": [
        "#查看当前路径"
      ]
    },
    {
      "cell_type": "code",
      "metadata": {
        "id": "jxYWZUJyT3e4",
        "colab_type": "code",
        "colab": {
          "base_uri": "https://localhost:8080/",
          "height": 195
        },
        "outputId": "c750fa30-0ae6-48fb-acb4-5922d758aeac"
      },
      "source": [
        "!mkdir -p drive\n",
        "!google-drive-ocamlfuse -o nonempty drive\n",
        "import os\n",
        "os.chdir(\"drive\")\n",
        "!ls"
      ],
      "execution_count": 2,
      "outputs": [
        {
          "output_type": "stream",
          "text": [
            "aclImdb_v1.tar.gz     residual_plot.png      Titanic\n",
            "data_description.txt  Sales\t\t     torchtest.ipynb\n",
            "drive\t\t      sample_submission.csv  train.csv\n",
            "GuodongDrive\t      Sense1.ipynb\t     Untitled0.ipynb\n",
            "House\t\t      Sense2.ipynb（副本）   XGboost_practice1.ipynb\n",
            "Houseprice.ipynb      Sense.ipynb\t     XGboost_practice2.ipynb\n",
            "huawei\t\t      sensePY.ipynb\t     剑指offer\n",
            "labeledTrainData.tsv  submission.csv\t     数组和链表.desktop\n",
            "neg\t\t      test.csv\t\t     糖尿病数据.txt\n",
            "practice\t      testData.tsv\n"
          ],
          "name": "stdout"
        }
      ]
    },
    {
      "cell_type": "markdown",
      "metadata": {
        "id": "BI1irEmFUmZa",
        "colab_type": "text"
      },
      "source": [
        "#选择路径"
      ]
    },
    {
      "cell_type": "code",
      "metadata": {
        "id": "Lxx1CAQKUQkh",
        "colab_type": "code",
        "colab": {
          "base_uri": "https://localhost:8080/",
          "height": 35
        },
        "outputId": "3d2c38f3-1613-45d2-f231-80e85ac607b2"
      },
      "source": [
        "os.chdir(\"practice\")\n",
        "!ls"
      ],
      "execution_count": 3,
      "outputs": [
        {
          "output_type": "stream",
          "text": [
            "missing_data.xls  model.xls  漏电用户自动识别.ipynb\n"
          ],
          "name": "stdout"
        }
      ]
    },
    {
      "cell_type": "markdown",
      "metadata": {
        "id": "XrXf4SSZUpA3",
        "colab_type": "text"
      },
      "source": [
        "#开始\n",
        "\n",
        "导入库"
      ]
    },
    {
      "cell_type": "code",
      "metadata": {
        "id": "gO6PtY9eUjwd",
        "colab_type": "code",
        "colab": {}
      },
      "source": [
        "import matplotlib.pyplot as plt\n",
        "#from random import shuffle\n",
        "from sklearn.utils import shuffle\n",
        "import pandas as pd\n",
        "from keras.layers.core import Activation, Dense\n",
        "from keras.models import Sequential\n",
        "from scipy.interpolate import lagrange\n",
        "from sklearn.externals import joblib\n",
        "from sklearn.metrics import confusion_matrix, roc_curve\n",
        "from sklearn.tree import DecisionTreeClassifier"
      ],
      "execution_count": 0,
      "outputs": []
    },
    {
      "cell_type": "markdown",
      "metadata": {
        "id": "IiHTN3VPW4J_",
        "colab_type": "text"
      },
      "source": [
        "#数据分析及处理\n",
        "\n"
      ]
    },
    {
      "cell_type": "code",
      "metadata": {
        "id": "aTmEBX3pW6d1",
        "colab_type": "code",
        "colab": {
          "base_uri": "https://localhost:8080/",
          "height": 200
        },
        "outputId": "4f94aabc-f87a-4ec2-90e5-c6a869d607c4"
      },
      "source": [
        "data = pd.read_excel('missing_data.xls',header = None)\n",
        "data.head()  #三个用户一个月用电量"
      ],
      "execution_count": 11,
      "outputs": [
        {
          "output_type": "execute_result",
          "data": {
            "text/html": [
              "<div>\n",
              "<style scoped>\n",
              "    .dataframe tbody tr th:only-of-type {\n",
              "        vertical-align: middle;\n",
              "    }\n",
              "\n",
              "    .dataframe tbody tr th {\n",
              "        vertical-align: top;\n",
              "    }\n",
              "\n",
              "    .dataframe thead th {\n",
              "        text-align: right;\n",
              "    }\n",
              "</style>\n",
              "<table border=\"1\" class=\"dataframe\">\n",
              "  <thead>\n",
              "    <tr style=\"text-align: right;\">\n",
              "      <th></th>\n",
              "      <th>0</th>\n",
              "      <th>1</th>\n",
              "      <th>2</th>\n",
              "    </tr>\n",
              "  </thead>\n",
              "  <tbody>\n",
              "    <tr>\n",
              "      <th>0</th>\n",
              "      <td>235.8333</td>\n",
              "      <td>324.0343</td>\n",
              "      <td>478.3231</td>\n",
              "    </tr>\n",
              "    <tr>\n",
              "      <th>1</th>\n",
              "      <td>236.2708</td>\n",
              "      <td>325.6379</td>\n",
              "      <td>515.4564</td>\n",
              "    </tr>\n",
              "    <tr>\n",
              "      <th>2</th>\n",
              "      <td>238.0521</td>\n",
              "      <td>328.0897</td>\n",
              "      <td>517.0909</td>\n",
              "    </tr>\n",
              "    <tr>\n",
              "      <th>3</th>\n",
              "      <td>235.9063</td>\n",
              "      <td>NaN</td>\n",
              "      <td>514.8900</td>\n",
              "    </tr>\n",
              "    <tr>\n",
              "      <th>4</th>\n",
              "      <td>236.7604</td>\n",
              "      <td>268.8324</td>\n",
              "      <td>NaN</td>\n",
              "    </tr>\n",
              "  </tbody>\n",
              "</table>\n",
              "</div>"
            ],
            "text/plain": [
              "          0         1         2\n",
              "0  235.8333  324.0343  478.3231\n",
              "1  236.2708  325.6379  515.4564\n",
              "2  238.0521  328.0897  517.0909\n",
              "3  235.9063       NaN  514.8900\n",
              "4  236.7604  268.8324       NaN"
            ]
          },
          "metadata": {
            "tags": []
          },
          "execution_count": 11
        }
      ]
    },
    {
      "cell_type": "code",
      "metadata": {
        "id": "7v9NLT0NYRNA",
        "colab_type": "code",
        "colab": {}
      },
      "source": [
        "def lagrange_interp(s,n,k=5):     # s为列向量，n为被插值的位置，k为取前后的数据个数，默认为5\n",
        "  y = s[list(range(n-k,n))+list(range(n+1,n+1+k))]\n",
        "  y = y[y.notnull()] #剔除空值\n",
        "  return lagrange(y.index,list(y))(n)"
      ],
      "execution_count": 0,
      "outputs": []
    },
    {
      "cell_type": "code",
      "metadata": {
        "id": "zTkymz0kZQwU",
        "colab_type": "code",
        "colab": {
          "base_uri": "https://localhost:8080/",
          "height": 324
        },
        "outputId": "0f7cb941-8afd-4078-d5da-71e19678e385"
      },
      "source": [
        "for i in data.columns:\n",
        "  for j in range(len(data)):\n",
        "    if (data[i].isnull())[j]:\n",
        "      data[i][j] = lagrange_interp(data[i],j)\n",
        "data.head()"
      ],
      "execution_count": 13,
      "outputs": [
        {
          "output_type": "stream",
          "text": [
            "/usr/local/lib/python3.6/dist-packages/pandas/core/series.py:942: FutureWarning: \n",
            "Passing list-likes to .loc or [] with any missing label will raise\n",
            "KeyError in the future, you can use .reindex() as an alternative.\n",
            "\n",
            "See the documentation here:\n",
            "https://pandas.pydata.org/pandas-docs/stable/indexing.html#deprecate-loc-reindex-listlike\n",
            "  return self.loc[key]\n"
          ],
          "name": "stderr"
        },
        {
          "output_type": "execute_result",
          "data": {
            "text/html": [
              "<div>\n",
              "<style scoped>\n",
              "    .dataframe tbody tr th:only-of-type {\n",
              "        vertical-align: middle;\n",
              "    }\n",
              "\n",
              "    .dataframe tbody tr th {\n",
              "        vertical-align: top;\n",
              "    }\n",
              "\n",
              "    .dataframe thead th {\n",
              "        text-align: right;\n",
              "    }\n",
              "</style>\n",
              "<table border=\"1\" class=\"dataframe\">\n",
              "  <thead>\n",
              "    <tr style=\"text-align: right;\">\n",
              "      <th></th>\n",
              "      <th>0</th>\n",
              "      <th>1</th>\n",
              "      <th>2</th>\n",
              "    </tr>\n",
              "  </thead>\n",
              "  <tbody>\n",
              "    <tr>\n",
              "      <th>0</th>\n",
              "      <td>235.8333</td>\n",
              "      <td>324.034300</td>\n",
              "      <td>478.323100</td>\n",
              "    </tr>\n",
              "    <tr>\n",
              "      <th>1</th>\n",
              "      <td>236.2708</td>\n",
              "      <td>325.637900</td>\n",
              "      <td>515.456400</td>\n",
              "    </tr>\n",
              "    <tr>\n",
              "      <th>2</th>\n",
              "      <td>238.0521</td>\n",
              "      <td>328.089700</td>\n",
              "      <td>517.090900</td>\n",
              "    </tr>\n",
              "    <tr>\n",
              "      <th>3</th>\n",
              "      <td>235.9063</td>\n",
              "      <td>203.462116</td>\n",
              "      <td>514.890000</td>\n",
              "    </tr>\n",
              "    <tr>\n",
              "      <th>4</th>\n",
              "      <td>236.7604</td>\n",
              "      <td>268.832400</td>\n",
              "      <td>493.352591</td>\n",
              "    </tr>\n",
              "  </tbody>\n",
              "</table>\n",
              "</div>"
            ],
            "text/plain": [
              "          0           1           2\n",
              "0  235.8333  324.034300  478.323100\n",
              "1  236.2708  325.637900  515.456400\n",
              "2  238.0521  328.089700  517.090900\n",
              "3  235.9063  203.462116  514.890000\n",
              "4  236.7604  268.832400  493.352591"
            ]
          },
          "metadata": {
            "tags": []
          },
          "execution_count": 13
        }
      ]
    },
    {
      "cell_type": "code",
      "metadata": {
        "id": "ZP5VnYbAaa4X",
        "colab_type": "code",
        "colab": {}
      },
      "source": [
        "data.to_excel('processed_data.xls',header = None,index = False)"
      ],
      "execution_count": 0,
      "outputs": []
    },
    {
      "cell_type": "markdown",
      "metadata": {
        "id": "XLSqB2YdWaoD",
        "colab_type": "text"
      },
      "source": [
        "#自定义混淆矩阵可视化"
      ]
    },
    {
      "cell_type": "code",
      "metadata": {
        "id": "pL-OpvIwWJ19",
        "colab_type": "code",
        "colab": {}
      },
      "source": [
        "def cm_plot(y,yp):\n",
        "  cm = confusion_matrix(y,yp)\n",
        "  plt.matshow(cm, cmap = plt.cm.Greens)\n",
        "  plt.colorbar()\n",
        "  \n",
        "  for x in range(len(cm)):\n",
        "    for y in range(len(cm)):\n",
        "        plt.annotate(\n",
        "            cm[x, y],\n",
        "            xy=(x, y),\n",
        "            horizontalalignment='center',\n",
        "            verticalalignment='center')\n",
        "\n",
        "  plt.ylabel('True label')\n",
        "  plt.xlabel('Predicted label')\n",
        "  return plt"
      ],
      "execution_count": 0,
      "outputs": []
    },
    {
      "cell_type": "markdown",
      "metadata": {
        "id": "ac6RBJfwbcRc",
        "colab_type": "text"
      },
      "source": [
        "#CART决策树预测"
      ]
    },
    {
      "cell_type": "code",
      "metadata": {
        "id": "qnr29l8ebZaf",
        "colab_type": "code",
        "colab": {
          "base_uri": "https://localhost:8080/",
          "height": 200
        },
        "outputId": "6cce6c13-d1a8-4436-b33f-f1651700c553"
      },
      "source": [
        "data = pd.read_excel('model.xls')\n",
        "data = shuffle(data)\n",
        "data.head()"
      ],
      "execution_count": 38,
      "outputs": [
        {
          "output_type": "execute_result",
          "data": {
            "text/html": [
              "<div>\n",
              "<style scoped>\n",
              "    .dataframe tbody tr th:only-of-type {\n",
              "        vertical-align: middle;\n",
              "    }\n",
              "\n",
              "    .dataframe tbody tr th {\n",
              "        vertical-align: top;\n",
              "    }\n",
              "\n",
              "    .dataframe thead th {\n",
              "        text-align: right;\n",
              "    }\n",
              "</style>\n",
              "<table border=\"1\" class=\"dataframe\">\n",
              "  <thead>\n",
              "    <tr style=\"text-align: right;\">\n",
              "      <th></th>\n",
              "      <th>电量趋势下降指标</th>\n",
              "      <th>线损指标</th>\n",
              "      <th>告警类指标</th>\n",
              "      <th>是否窃漏电</th>\n",
              "    </tr>\n",
              "  </thead>\n",
              "  <tbody>\n",
              "    <tr>\n",
              "      <th>45</th>\n",
              "      <td>2</td>\n",
              "      <td>1</td>\n",
              "      <td>0</td>\n",
              "      <td>1</td>\n",
              "    </tr>\n",
              "    <tr>\n",
              "      <th>267</th>\n",
              "      <td>5</td>\n",
              "      <td>1</td>\n",
              "      <td>0</td>\n",
              "      <td>0</td>\n",
              "    </tr>\n",
              "    <tr>\n",
              "      <th>282</th>\n",
              "      <td>4</td>\n",
              "      <td>0</td>\n",
              "      <td>0</td>\n",
              "      <td>0</td>\n",
              "    </tr>\n",
              "    <tr>\n",
              "      <th>13</th>\n",
              "      <td>4</td>\n",
              "      <td>0</td>\n",
              "      <td>2</td>\n",
              "      <td>0</td>\n",
              "    </tr>\n",
              "    <tr>\n",
              "      <th>55</th>\n",
              "      <td>6</td>\n",
              "      <td>0</td>\n",
              "      <td>0</td>\n",
              "      <td>0</td>\n",
              "    </tr>\n",
              "  </tbody>\n",
              "</table>\n",
              "</div>"
            ],
            "text/plain": [
              "     电量趋势下降指标  线损指标  告警类指标  是否窃漏电\n",
              "45          2     1      0      1\n",
              "267         5     1      0      0\n",
              "282         4     0      0      0\n",
              "13          4     0      2      0\n",
              "55          6     0      0      0"
            ]
          },
          "metadata": {
            "tags": []
          },
          "execution_count": 38
        }
      ]
    },
    {
      "cell_type": "code",
      "metadata": {
        "id": "z19KKZlzd3Zk",
        "colab_type": "code",
        "colab": {}
      },
      "source": [
        "data = data.values"
      ],
      "execution_count": 0,
      "outputs": []
    },
    {
      "cell_type": "code",
      "metadata": {
        "id": "NjWBVy94hS5h",
        "colab_type": "code",
        "colab": {
          "base_uri": "https://localhost:8080/",
          "height": 35
        },
        "outputId": "11cff0bd-36e6-4fff-de08-e25e5d164b80"
      },
      "source": [
        "# 设置训练数据比8:2\n",
        "p = 0.8\n",
        "train = data[:int(len(data) * p), :]\n",
        "test = data[int(len(data) * p):, :]\n",
        "\n",
        "# 构建CART决策树模型\n",
        "treefile = 'tree.pkl'\n",
        "tree = DecisionTreeClassifier()\n",
        "tree.fit(train[:, :3], train[:, 3])\n",
        "\n",
        "joblib.dump(tree, treefile)"
      ],
      "execution_count": 40,
      "outputs": [
        {
          "output_type": "execute_result",
          "data": {
            "text/plain": [
              "['tree.pkl']"
            ]
          },
          "metadata": {
            "tags": []
          },
          "execution_count": 40
        }
      ]
    },
    {
      "cell_type": "code",
      "metadata": {
        "id": "xBFKPT7bhjVF",
        "colab_type": "code",
        "colab": {
          "base_uri": "https://localhost:8080/",
          "height": 261
        },
        "outputId": "ed1ed329-b9b4-49b7-ecbb-04f46ac8eb15"
      },
      "source": [
        " cm_plot(train[:, 3], tree.predict(train[:, :3])).show()  # 显示混淆矩阵可视化结果"
      ],
      "execution_count": 44,
      "outputs": [
        {
          "output_type": "display_data",
          "data": {
            "image/png": "[encoded data removed]",
            "text/plain": [
              "<Figure size 288x288 with 2 Axes>"
            ]
          },
          "metadata": {
            "tags": []
          }
        }
      ]
    },
    {
      "cell_type": "markdown",
      "metadata": {
        "id": "KFjGmfFKh8Df",
        "colab_type": "text"
      },
      "source": [
        "#绘制ROC曲线"
      ]
    },
    {
      "cell_type": "code",
      "metadata": {
        "id": "_hshQHL7h7iE",
        "colab_type": "code",
        "colab": {
          "base_uri": "https://localhost:8080/",
          "height": 301
        },
        "outputId": "7fc947ee-84ac-4af5-dede-651d94d4093c"
      },
      "source": [
        "fpr, tpr, thresholds = roc_curve(\n",
        "    test[:, 3], tree.predict_proba(test[:, :3])[:, 1], pos_label=1)\n",
        "plt.plot(fpr, tpr, linewidth=2, label='ROC of CART', color='green')\n",
        "plt.xlabel('False Positive Rate')\n",
        "plt.ylabel('True Positive Rate')\n",
        "# 设定边界范围\n",
        "plt.ylim(0, 1.05)\n",
        "plt.xlim(0, 1.05)\n",
        "plt.legend(loc=4)\n",
        "plt.show()\n",
        "print(thresholds)"
      ],
      "execution_count": 45,
      "outputs": [
        {
          "output_type": "display_data",
          "data": {
            "image/png": "[encoded data removed]",
            "text/plain": [
              "<Figure size 432x288 with 1 Axes>"
            ]
          },
          "metadata": {
            "tags": []
          }
        },
        {
          "output_type": "stream",
          "text": [
            "[2.         1.         0.66666667 0.33333333 0.14285714 0.        ]\n"
          ],
          "name": "stdout"
        }
      ]
    },
    {
      "cell_type": "markdown",
      "metadata": {
        "id": "ChBV6kE_ieVO",
        "colab_type": "text"
      },
      "source": [
        "#  使用LM神经网络模型"
      ]
    },
    {
      "cell_type": "code",
      "metadata": {
        "id": "YZHlfTWuicwg",
        "colab_type": "code",
        "colab": {
          "base_uri": "https://localhost:8080/",
          "height": 200
        },
        "outputId": "84deca6d-0e6a-4564-e40e-a9c462ccd692"
      },
      "source": [
        "data = pd.read_excel('model.xls')\n",
        "data = shuffle(data)\n",
        "data.head()"
      ],
      "execution_count": 47,
      "outputs": [
        {
          "output_type": "execute_result",
          "data": {
            "text/html": [
              "<div>\n",
              "<style scoped>\n",
              "    .dataframe tbody tr th:only-of-type {\n",
              "        vertical-align: middle;\n",
              "    }\n",
              "\n",
              "    .dataframe tbody tr th {\n",
              "        vertical-align: top;\n",
              "    }\n",
              "\n",
              "    .dataframe thead th {\n",
              "        text-align: right;\n",
              "    }\n",
              "</style>\n",
              "<table border=\"1\" class=\"dataframe\">\n",
              "  <thead>\n",
              "    <tr style=\"text-align: right;\">\n",
              "      <th></th>\n",
              "      <th>电量趋势下降指标</th>\n",
              "      <th>线损指标</th>\n",
              "      <th>告警类指标</th>\n",
              "      <th>是否窃漏电</th>\n",
              "    </tr>\n",
              "  </thead>\n",
              "  <tbody>\n",
              "    <tr>\n",
              "      <th>208</th>\n",
              "      <td>4</td>\n",
              "      <td>1</td>\n",
              "      <td>0</td>\n",
              "      <td>0</td>\n",
              "    </tr>\n",
              "    <tr>\n",
              "      <th>9</th>\n",
              "      <td>4</td>\n",
              "      <td>1</td>\n",
              "      <td>0</td>\n",
              "      <td>0</td>\n",
              "    </tr>\n",
              "    <tr>\n",
              "      <th>58</th>\n",
              "      <td>9</td>\n",
              "      <td>1</td>\n",
              "      <td>4</td>\n",
              "      <td>1</td>\n",
              "    </tr>\n",
              "    <tr>\n",
              "      <th>141</th>\n",
              "      <td>5</td>\n",
              "      <td>0</td>\n",
              "      <td>1</td>\n",
              "      <td>0</td>\n",
              "    </tr>\n",
              "    <tr>\n",
              "      <th>194</th>\n",
              "      <td>3</td>\n",
              "      <td>1</td>\n",
              "      <td>1</td>\n",
              "      <td>0</td>\n",
              "    </tr>\n",
              "  </tbody>\n",
              "</table>\n",
              "</div>"
            ],
            "text/plain": [
              "     电量趋势下降指标  线损指标  告警类指标  是否窃漏电\n",
              "208         4     1      0      0\n",
              "9           4     1      0      0\n",
              "58          9     1      4      1\n",
              "141         5     0      1      0\n",
              "194         3     1      1      0"
            ]
          },
          "metadata": {
            "tags": []
          },
          "execution_count": 47
        }
      ]
    },
    {
      "cell_type": "code",
      "metadata": {
        "id": "vc30pQnLkBN4",
        "colab_type": "code",
        "colab": {}
      },
      "source": [
        "data = data.values"
      ],
      "execution_count": 0,
      "outputs": []
    },
    {
      "cell_type": "code",
      "metadata": {
        "id": "TYNPLjCPj8_a",
        "colab_type": "code",
        "colab": {}
      },
      "source": [
        "# 设置训练数据比8:2\n",
        "p = 0.8\n",
        "train = data[:int(len(data) * p), :]\n",
        "test = data[int(len(data) * p):, :]"
      ],
      "execution_count": 0,
      "outputs": []
    },
    {
      "cell_type": "code",
      "metadata": {
        "id": "dvOjv1JzkGNp",
        "colab_type": "code",
        "colab": {
          "base_uri": "https://localhost:8080/",
          "height": 1000
        },
        "outputId": "53f2c062-4d22-44d3-a977-8492d2c5337f"
      },
      "source": [
        "net = Sequential() #建立神经网络\n",
        "# 添加输入层（3节点）到隐藏层（10节点）的连接\n",
        "net.add(Dense(10, input_shape=(3, )))\n",
        "net.add(Activation('relu'))  # 隐藏层使用relu激活函数\n",
        "#添加隐藏层（10节点）到输出层（1节点）的连接\n",
        "net.add(Dense(1, input_shape=(10, )))\n",
        "net.add(Activation('sigmoid'))  # 输出层使用sigmoid激活函数\n",
        "net.compile(\n",
        "    loss='binary_crossentropy',\n",
        "    optimizer='adam',\n",
        "    sample_weight_mode=\"binary\")  # 编译模型，使用adam方法求解\n",
        "\n",
        "net.fit(train[:, :3], train[:, 3], epochs=100, batch_size=1)\n",
        "net.save_weights('net.model')\n",
        "\n",
        "predict_result = net.predict_classes(train[:, :3]).reshape(\n",
        "    len(train))  # 预测结果变形\n",
        "#'''这里要提醒的是，keras用predict给出预测概率，predict_classes才是给出预测类别，而且两者的预测结果都是n x 1维数组，而不是通常的 1 x n'''\n",
        "\n",
        "cm_plot(train[:, 3], predict_result).show()\n",
        "\n",
        "predict_result = net.predict(test[:, :3]).reshape(len(test))\n",
        "fpr, tpr, thresholds = roc_curve(test[:, 3], predict_result, pos_label=1)\n",
        "plt.plot(fpr, tpr, linewidth=2, label='ROC of LM')\n",
        "plt.xlabel('False Positive Rate')\n",
        "plt.ylabel('True Positive Rate')\n",
        "plt.ylim(0, 1.05)\n",
        "plt.xlim(0, 1.05)\n",
        "plt.legend(loc=4)\n",
        "plt.show()\n",
        "print(thresholds)\n"
      ],
      "execution_count": 53,
      "outputs": [
        {
          "output_type": "stream",
          "text": [
            "Epoch 1/100\n",
            "232/232 [==============================] - 0s 2ms/step - loss: 0.6532\n",
            "Epoch 2/100\n",
            "232/232 [==============================] - 0s 922us/step - loss: 0.5578\n",
            "Epoch 3/100\n",
            "232/232 [==============================] - 0s 951us/step - loss: 0.5246\n",
            "Epoch 4/100\n",
            "232/232 [==============================] - 0s 937us/step - loss: 0.4967\n",
            "Epoch 5/100\n",
            "232/232 [==============================] - 0s 955us/step - loss: 0.4724\n",
            "Epoch 6/100\n",
            "232/232 [==============================] - 0s 939us/step - loss: 0.4497\n",
            "Epoch 7/100\n",
            "232/232 [==============================] - 0s 934us/step - loss: 0.4284\n",
            "Epoch 8/100\n",
            "232/232 [==============================] - 0s 969us/step - loss: 0.4102\n",
            "Epoch 9/100\n",
            "232/232 [==============================] - 0s 964us/step - loss: 0.3923\n",
            "Epoch 10/100\n",
            "232/232 [==============================] - 0s 977us/step - loss: 0.3724\n",
            "Epoch 11/100\n",
            "232/232 [==============================] - 0s 1ms/step - loss: 0.3573\n",
            "Epoch 12/100\n",
            "232/232 [==============================] - 0s 1ms/step - loss: 0.3429\n",
            "Epoch 13/100\n",
            "232/232 [==============================] - 0s 993us/step - loss: 0.3271\n",
            "Epoch 14/100\n",
            "232/232 [==============================] - 0s 997us/step - loss: 0.3128\n",
            "Epoch 15/100\n",
            "232/232 [==============================] - 0s 970us/step - loss: 0.3018\n",
            "Epoch 16/100\n",
            "232/232 [==============================] - 0s 951us/step - loss: 0.2946\n",
            "Epoch 17/100\n",
            "232/232 [==============================] - 0s 1ms/step - loss: 0.2842\n",
            "Epoch 18/100\n",
            "232/232 [==============================] - 0s 963us/step - loss: 0.2747\n",
            "Epoch 19/100\n",
            "232/232 [==============================] - 0s 947us/step - loss: 0.2644\n",
            "Epoch 20/100\n",
            "232/232 [==============================] - 0s 1ms/step - loss: 0.2565\n",
            "Epoch 21/100\n",
            "232/232 [==============================] - 0s 978us/step - loss: 0.2501\n",
            "Epoch 22/100\n",
            "232/232 [==============================] - 0s 969us/step - loss: 0.2433\n",
            "Epoch 23/100\n",
            "232/232 [==============================] - 0s 948us/step - loss: 0.2382\n",
            "Epoch 24/100\n",
            "232/232 [==============================] - 0s 973us/step - loss: 0.2342\n",
            "Epoch 25/100\n",
            "232/232 [==============================] - 0s 949us/step - loss: 0.2321\n",
            "Epoch 26/100\n",
            "232/232 [==============================] - 0s 985us/step - loss: 0.2288\n",
            "Epoch 27/100\n",
            "232/232 [==============================] - 0s 972us/step - loss: 0.2272\n",
            "Epoch 28/100\n",
            "232/232 [==============================] - 0s 971us/step - loss: 0.2208\n",
            "Epoch 29/100\n",
            "232/232 [==============================] - 0s 961us/step - loss: 0.2168\n",
            "Epoch 30/100\n",
            "232/232 [==============================] - 0s 961us/step - loss: 0.2204\n",
            "Epoch 31/100\n",
            "232/232 [==============================] - 0s 985us/step - loss: 0.2157\n",
            "Epoch 32/100\n",
            "232/232 [==============================] - 0s 947us/step - loss: 0.2118\n",
            "Epoch 33/100\n",
            "232/232 [==============================] - 0s 1ms/step - loss: 0.2137\n",
            "Epoch 34/100\n",
            "232/232 [==============================] - 0s 984us/step - loss: 0.2098\n",
            "Epoch 35/100\n",
            "232/232 [==============================] - 0s 1ms/step - loss: 0.2075\n",
            "Epoch 36/100\n",
            "232/232 [==============================] - 0s 999us/step - loss: 0.2071\n",
            "Epoch 37/100\n",
            "232/232 [==============================] - 0s 1ms/step - loss: 0.2040\n",
            "Epoch 38/100\n",
            "232/232 [==============================] - 0s 965us/step - loss: 0.2043\n",
            "Epoch 39/100\n",
            "232/232 [==============================] - 0s 943us/step - loss: 0.2023\n",
            "Epoch 40/100\n",
            "232/232 [==============================] - 0s 956us/step - loss: 0.2013\n",
            "Epoch 41/100\n",
            "232/232 [==============================] - 0s 975us/step - loss: 0.1970\n",
            "Epoch 42/100\n",
            "232/232 [==============================] - 0s 990us/step - loss: 0.2002\n",
            "Epoch 43/100\n",
            "232/232 [==============================] - 0s 983us/step - loss: 0.1997\n",
            "Epoch 44/100\n",
            "232/232 [==============================] - 0s 1ms/step - loss: 0.1993\n",
            "Epoch 45/100\n",
            "232/232 [==============================] - 0s 955us/step - loss: 0.1966\n",
            "Epoch 46/100\n",
            "232/232 [==============================] - 0s 974us/step - loss: 0.1951\n",
            "Epoch 47/100\n",
            "232/232 [==============================] - 0s 969us/step - loss: 0.1971\n",
            "Epoch 48/100\n",
            "232/232 [==============================] - 0s 959us/step - loss: 0.1950\n",
            "Epoch 49/100\n",
            "232/232 [==============================] - 0s 969us/step - loss: 0.1969\n",
            "Epoch 50/100\n",
            "232/232 [==============================] - 0s 964us/step - loss: 0.1937\n",
            "Epoch 51/100\n",
            "232/232 [==============================] - 0s 973us/step - loss: 0.1949\n",
            "Epoch 52/100\n",
            "232/232 [==============================] - 0s 964us/step - loss: 0.1933\n",
            "Epoch 53/100\n",
            "232/232 [==============================] - 0s 954us/step - loss: 0.1929\n",
            "Epoch 54/100\n",
            "232/232 [==============================] - 0s 942us/step - loss: 0.1918\n",
            "Epoch 55/100\n",
            "232/232 [==============================] - 0s 946us/step - loss: 0.1934\n",
            "Epoch 56/100\n",
            "232/232 [==============================] - 0s 965us/step - loss: 0.1907\n",
            "Epoch 57/100\n",
            "232/232 [==============================] - 0s 949us/step - loss: 0.1885\n",
            "Epoch 58/100\n",
            "232/232 [==============================] - 0s 956us/step - loss: 0.1940\n",
            "Epoch 59/100\n",
            "232/232 [==============================] - 0s 961us/step - loss: 0.1907\n",
            "Epoch 60/100\n",
            "232/232 [==============================] - 0s 953us/step - loss: 0.1904\n",
            "Epoch 61/100\n",
            "232/232 [==============================] - 0s 960us/step - loss: 0.1905\n",
            "Epoch 62/100\n",
            "232/232 [==============================] - 0s 1ms/step - loss: 0.1910\n",
            "Epoch 63/100\n",
            "232/232 [==============================] - 0s 1ms/step - loss: 0.1893\n",
            "Epoch 64/100\n",
            "232/232 [==============================] - 0s 993us/step - loss: 0.1871\n",
            "Epoch 65/100\n",
            "232/232 [==============================] - 0s 962us/step - loss: 0.1889\n",
            "Epoch 66/100\n",
            "232/232 [==============================] - 0s 1ms/step - loss: 0.1887\n",
            "Epoch 67/100\n",
            "232/232 [==============================] - 0s 1ms/step - loss: 0.1878\n",
            "Epoch 68/100\n",
            "232/232 [==============================] - 0s 1ms/step - loss: 0.1885\n",
            "Epoch 69/100\n",
            "232/232 [==============================] - 0s 951us/step - loss: 0.1889\n",
            "Epoch 70/100\n",
            "232/232 [==============================] - 0s 959us/step - loss: 0.1877\n",
            "Epoch 71/100\n",
            "232/232 [==============================] - 0s 940us/step - loss: 0.1850\n",
            "Epoch 72/100\n",
            "232/232 [==============================] - 0s 929us/step - loss: 0.1884\n",
            "Epoch 73/100\n",
            "232/232 [==============================] - 0s 931us/step - loss: 0.1879\n",
            "Epoch 74/100\n",
            "232/232 [==============================] - 0s 940us/step - loss: 0.1874\n",
            "Epoch 75/100\n",
            "232/232 [==============================] - 0s 995us/step - loss: 0.1863\n",
            "Epoch 76/100\n",
            "232/232 [==============================] - 0s 974us/step - loss: 0.1850\n",
            "Epoch 77/100\n",
            "232/232 [==============================] - 0s 975us/step - loss: 0.1849\n",
            "Epoch 78/100\n",
            "232/232 [==============================] - 0s 992us/step - loss: 0.1872\n",
            "Epoch 79/100\n",
            "232/232 [==============================] - 0s 962us/step - loss: 0.1857\n",
            "Epoch 80/100\n",
            "232/232 [==============================] - 0s 929us/step - loss: 0.1842\n",
            "Epoch 81/100\n",
            "232/232 [==============================] - 0s 939us/step - loss: 0.1890\n",
            "Epoch 82/100\n",
            "232/232 [==============================] - 0s 942us/step - loss: 0.1875\n",
            "Epoch 83/100\n",
            "232/232 [==============================] - 0s 943us/step - loss: 0.1861\n",
            "Epoch 84/100\n",
            "232/232 [==============================] - 0s 1ms/step - loss: 0.1847\n",
            "Epoch 85/100\n",
            "232/232 [==============================] - 0s 941us/step - loss: 0.1871\n",
            "Epoch 86/100\n",
            "232/232 [==============================] - 0s 977us/step - loss: 0.1869\n",
            "Epoch 87/100\n",
            "232/232 [==============================] - 0s 934us/step - loss: 0.1856\n",
            "Epoch 88/100\n",
            "232/232 [==============================] - 0s 955us/step - loss: 0.1847\n",
            "Epoch 89/100\n",
            "232/232 [==============================] - 0s 931us/step - loss: 0.1863\n",
            "Epoch 90/100\n",
            "232/232 [==============================] - 0s 933us/step - loss: 0.1847\n",
            "Epoch 91/100\n",
            "232/232 [==============================] - 0s 932us/step - loss: 0.1856\n",
            "Epoch 92/100\n",
            "232/232 [==============================] - 0s 966us/step - loss: 0.1815\n",
            "Epoch 93/100\n",
            "232/232 [==============================] - 0s 960us/step - loss: 0.1856\n",
            "Epoch 94/100\n",
            "232/232 [==============================] - 0s 948us/step - loss: 0.1843\n",
            "Epoch 95/100\n",
            "232/232 [==============================] - 0s 935us/step - loss: 0.1846\n",
            "Epoch 96/100\n",
            "232/232 [==============================] - 0s 934us/step - loss: 0.1859\n",
            "Epoch 97/100\n",
            "232/232 [==============================] - 0s 937us/step - loss: 0.1853\n",
            "Epoch 98/100\n",
            "232/232 [==============================] - 0s 945us/step - loss: 0.1839\n",
            "Epoch 99/100\n",
            "232/232 [==============================] - 0s 955us/step - loss: 0.1872\n",
            "Epoch 100/100\n",
            "232/232 [==============================] - 0s 964us/step - loss: 0.1838\n"
          ],
          "name": "stdout"
        },
        {
          "output_type": "display_data",
          "data": {
            "image/png": "[encoded data removed]",
            "text/plain": [
              "<Figure size 288x288 with 2 Axes>"
            ]
          },
          "metadata": {
            "tags": []
          }
        },
        {
          "output_type": "display_data",
          "data": {
            "image/png": "[encoded data removed]",
            "text/plain": [
              "<Figure size 432x288 with 1 Axes>"
            ]
          },
          "metadata": {
            "tags": []
          }
        },
        {
          "output_type": "stream",
          "text": [
            "[1.9997224e+00 9.9972236e-01 8.3207119e-01 5.9764999e-01 5.3802413e-01\n",
            " 4.2008427e-01 3.0810112e-01 2.2443968e-01 3.3409089e-02 3.0421972e-02\n",
            " 2.7816683e-02 2.5348336e-02 2.0930976e-02 7.7363253e-03 4.9172342e-03\n",
            " 3.3946931e-03 3.3697784e-03 3.0868948e-03 2.3318231e-03 1.9454956e-03\n",
            " 1.2255907e-03 8.9538097e-04 5.1119924e-04]\n"
          ],
          "name": "stdout"
        }
      ]
    }
  ]
}